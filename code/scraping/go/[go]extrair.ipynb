{
  "nbformat": 4,
  "nbformat_minor": 0,
  "metadata": {
    "colab": {
      "provenance": [],
      "collapsed_sections": [
        "j19Yf2mtg6gR"
      ],
      "include_colab_link": true
    },
    "kernelspec": {
      "name": "python3",
      "display_name": "Python 3"
    },
    "language_info": {
      "name": "python"
    }
  },
  "cells": [
    {
      "cell_type": "markdown",
      "metadata": {
        "id": "view-in-github",
        "colab_type": "text"
      },
      "source": [
        "<a href=\"https://colab.research.google.com/github/Winzen/mides-rascunho/blob/main/code/scraping/go/%5Bgo%5Dextrair.ipynb\" target=\"_parent\"><img src=\"https://colab.research.google.com/assets/colab-badge.svg\" alt=\"Open In Colab\"/></a>"
      ]
    },
    {
      "cell_type": "code",
      "source": [
        "from google.colab import drive\n",
        "drive.mount('/content/drive')"
      ],
      "metadata": {
        "colab": {
          "base_uri": "https://localhost:8080/"
        },
        "id": "MYwvULZQnSXe",
        "outputId": "0f131fd0-084a-4c8d-dd62-a8355ec87ccf"
      },
      "execution_count": null,
      "outputs": [
        {
          "output_type": "stream",
          "name": "stdout",
          "text": [
            "Mounted at /content/drive\n"
          ]
        }
      ]
    },
    {
      "cell_type": "markdown",
      "source": [
        "# Verificar IP"
      ],
      "metadata": {
        "id": "II4tZFIklkjj"
      }
    },
    {
      "cell_type": "code",
      "source": [
        "import requests\n",
        "\n",
        "my_country = requests.get(\"https://api.myip.com/\")\n",
        "my_country.json()"
      ],
      "metadata": {
        "colab": {
          "base_uri": "https://localhost:8080/"
        },
        "id": "84Vjtrl_Zu8s",
        "outputId": "891d6bec-ee39-4532-866c-e9a2ba22ce8c"
      },
      "execution_count": null,
      "outputs": [
        {
          "output_type": "execute_result",
          "data": {
            "text/plain": [
              "{'ip': '35.243.145.119', 'country': 'United States', 'cc': 'US'}"
            ]
          },
          "metadata": {},
          "execution_count": 1
        }
      ]
    },
    {
      "cell_type": "markdown",
      "source": [
        "# Importação"
      ],
      "metadata": {
        "id": "Og4-7suEXhbq"
      }
    },
    {
      "cell_type": "code",
      "source": [
        "import requests\n",
        "import pandas as pd\n",
        "import os\n",
        "import concurrent.futures\n",
        "from time import sleep\n",
        "from urllib3 import PoolManager\n",
        "import glob\n",
        "import shutil\n",
        "\n",
        "class Dados:\n",
        "\n",
        "  def __init__(self, municipio: str, ano: int,\n",
        "               dados: list, colunas: list) -> None:\n",
        "    self.municipio = municipio\n",
        "    self.ano = str(ano)\n",
        "    self.dados = dados\n",
        "    self.colunas = colunas\n",
        "\n",
        "def get_municipios() -> list:\n",
        "  # Define the URL you want to send a POST request to\n",
        "  url = 'https://www.tcmgo.tc.br/pentaho/plugin/cda/api/doQuery'\n",
        "\n",
        "  # Define the data you want to send in the POST request\n",
        "  data = {\n",
        "  \"path\":\t\"/system/cidadao/dashboards/Despesas.cda\",\n",
        "  \"dataAccessId\":\t\"mdxMunicipio\",\n",
        "  \"outputIndexId\":\t1,\n",
        "  \"pageSize\":\t0,\n",
        "  \"pageStart\":\t0,\n",
        "  \"sortBy\":\t\"\",\n",
        "  \"paramsearchBox\":\t\"\"}\n",
        "\n",
        "  # Make the POST request\n",
        "  response = requests.post(url, data=data)\n",
        "\n",
        "  municipio_json = response.json()\n",
        "\n",
        "  municipios = [row[0] for row in municipio_json[\"resultset\"]]\n",
        "  return municipios\n",
        "\n",
        "\n",
        "def get_data_from_munipio_ano(municipio: str, ano: int):\n",
        "  # Define the URL you want to send a POST request to\n",
        "  url = 'https://www.tcmgo.tc.br/pentaho/plugin/cda/api/doQuery'\n",
        "\n",
        "  # Define the data you want to send in the POST request\n",
        "  data = {\"paramparamMunicipio\":\tmunicipio,\n",
        "  \"paramparamAno\":\tano,\n",
        "  \"path\":\t\"/system/cidadao/dashboards/Despesas.cda\",\n",
        "  \"dataAccessId\":\t\"sqlEmpenhos\",\n",
        "  \"outputIndexId\":\t1,\n",
        "  \"pageSize\":\t200,\n",
        "  \"pageStart\":\t0,\n",
        "  \"paramsearchBox\":\t\"\"}\n",
        "\n",
        "  # Make the POST request\n",
        "  response = http.request('POST', url, fields=data, encode_multipart=False).json()\n",
        "  dados = response[\"resultset\"]\n",
        "  colunas = [column[\"colName\"] for column in response['metadata']]\n",
        "\n",
        "  return Dados(municipio, ano, dados, colunas)\n",
        "\n",
        "\n",
        "def save_dados(dados: object) -> None:\n",
        "\n",
        "  path_input = os.path.join(os.getcwd(), \"input\", dados.ano, dados.municipio)\n",
        "  df = pd.DataFrame(dados.dados, columns=dados.colunas)\n",
        "  os.makedirs(path_input, exist_ok=True)\n",
        "  df.to_csv(os.path.join(path_input, f\"empenhos_{dados.ano}.csv\"), index=False)\n",
        "\n",
        "def send_folder_drive(path_drive: str, path_input: str) -> None:\n",
        "\n",
        "  if not len(os.listdir(path_input)) > 0:\n",
        "    raise Exception(\"Essa Pasta vazia\")\n",
        "    return None\n",
        "\n",
        "  shutil.make_archive(path_drive,\n",
        "                      'zip',\n",
        "                      path_input)\n",
        "\n",
        "def df_from_all_csv(csvs: list) -> pd.DataFrame:\n",
        "\n",
        "  df = pd.concat([pd.read_csv(csv) for csv in csvs])\n",
        "  # df = df.drop_duplicates()\n",
        "\n",
        "  return df"
      ],
      "metadata": {
        "id": "sI-Cr2_MYbVM"
      },
      "execution_count": 241,
      "outputs": []
    },
    {
      "cell_type": "markdown",
      "source": [
        "# Pegar Dados Municipio"
      ],
      "metadata": {
        "id": "b1aYwSEGg2d8"
      }
    },
    {
      "cell_type": "code",
      "source": [
        "list_municipios = get_municipios()\n",
        "anos = list(range(2019, 2025))\n",
        "headers = {\n",
        "     \"Content-Type\": \"application/x-www-form-urlencoded\"\n",
        "}\n",
        "http = PoolManager(maxsize=10, headers=headers)\n",
        "\n",
        "for municipio in list_municipios:\n",
        "\n",
        "  with concurrent.futures.ThreadPoolExecutor() as executor:\n",
        "      datas = [dados for dados in executor.map(\n",
        "          lambda ano: get_data_from_munipio_ano(municipio, ano), anos)]\n",
        "  list(map(save_dados, datas))\n"
      ],
      "metadata": {
        "id": "cf9szoDVNtLm"
      },
      "execution_count": 242,
      "outputs": []
    },
    {
      "cell_type": "markdown",
      "source": [
        "# Analise"
      ],
      "metadata": {
        "id": "nJtWrFVGjTEU"
      }
    },
    {
      "cell_type": "markdown",
      "source": [
        "## Numero de arquivos por ano"
      ],
      "metadata": {
        "id": "MGrw488AmpLj"
      }
    },
    {
      "cell_type": "code",
      "source": [
        "for ano in anos:\n",
        "  path_verify = f\"/content/input/{ano}/*/*.csv\"\n",
        "  arquivos = glob.glob(path_verify)\n",
        "  print(f\"Ano de {ano} tem {len(arquivos)} arquivos\")"
      ],
      "metadata": {
        "colab": {
          "base_uri": "https://localhost:8080/"
        },
        "id": "2SROvDkmjUeg",
        "outputId": "6e213a54-5f02-4dba-af74-cc57054dfe8b"
      },
      "execution_count": 253,
      "outputs": [
        {
          "output_type": "stream",
          "name": "stdout",
          "text": [
            "Ano de 2019 tem 246 arquivos\n",
            "Ano de 2020 tem 246 arquivos\n",
            "Ano de 2021 tem 246 arquivos\n",
            "Ano de 2022 tem 246 arquivos\n",
            "Ano de 2023 tem 246 arquivos\n",
            "Ano de 2024 tem 246 arquivos\n"
          ]
        }
      ]
    },
    {
      "cell_type": "markdown",
      "source": [
        "## Formar DataFrame"
      ],
      "metadata": {
        "id": "drK0dTMxmidT"
      }
    },
    {
      "cell_type": "code",
      "source": [
        "path_verify = f\"/content/input/**/**/*.csv\"\n",
        "csv_files_verify = glob.glob(path_verify)\n",
        "df = df_from_all_csv(csv_files_verify)\n",
        "df"
      ],
      "metadata": {
        "id": "yXo1mraIj_9d"
      },
      "execution_count": 248,
      "outputs": []
    },
    {
      "cell_type": "markdown",
      "source": [
        "# Mandar para o drive Manualmente"
      ],
      "metadata": {
        "id": "O2IugeRyWweY"
      }
    },
    {
      "cell_type": "code",
      "source": [
        "path_drive_output = f\"/content/drive/MyDrive/DataBase/world_bank/go/empenhos_go\"\n",
        "send_folder_drive(path_drive_output,\n",
        "                \"/content/input/\")\n"
      ],
      "metadata": {
        "colab": {
          "base_uri": "https://localhost:8080/"
        },
        "id": "45a__sGXWuRD",
        "outputId": "813e6cb9-c779-42fd-9b69-7ac14b88ae66"
      },
      "execution_count": null,
      "outputs": [
        {
          "output_type": "stream",
          "name": "stdout",
          "text": [
            "Drive already mounted at /content/drive; to attempt to forcibly remount, call drive.mount(\"/content/drive\", force_remount=True).\n"
          ]
        }
      ]
    }
  ]
}