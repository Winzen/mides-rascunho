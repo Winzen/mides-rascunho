{
  "nbformat": 4,
  "nbformat_minor": 0,
  "metadata": {
    "colab": {
      "provenance": [],
      "include_colab_link": true
    },
    "kernelspec": {
      "name": "python3",
      "display_name": "Python 3"
    },
    "language_info": {
      "name": "python"
    }
  },
  "cells": [
    {
      "cell_type": "markdown",
      "metadata": {
        "id": "view-in-github",
        "colab_type": "text"
      },
      "source": [
        "<a href=\"https://colab.research.google.com/github/Winzen/mides-rascunho/blob/main/code/scraping/ro/%5Bro%5Dextrair.ipynb\" target=\"_parent\"><img src=\"https://colab.research.google.com/assets/colab-badge.svg\" alt=\"Open In Colab\"/></a>"
      ]
    },
    {
      "cell_type": "code",
      "source": [
        "from google.colab import drive\n",
        "drive.mount('/content/drive')"
      ],
      "metadata": {
        "colab": {
          "base_uri": "https://localhost:8080/"
        },
        "id": "nlCJG4viyXyO",
        "outputId": "b1d30229-75d2-4ce7-e59c-db71a0bdb19e"
      },
      "execution_count": 1,
      "outputs": [
        {
          "output_type": "stream",
          "name": "stdout",
          "text": [
            "Mounted at /content/drive\n"
          ]
        }
      ]
    },
    {
      "cell_type": "markdown",
      "source": [
        "# Verificar IP"
      ],
      "metadata": {
        "id": "epToHlxZBG35"
      }
    },
    {
      "cell_type": "code",
      "source": [
        "import requests\n",
        "\n",
        "my_country = requests.get(\"https://api.myip.com/\")\n",
        "my_country.json()"
      ],
      "metadata": {
        "colab": {
          "base_uri": "https://localhost:8080/"
        },
        "id": "PhkFPYak3SOs",
        "outputId": "434b1dbb-9b65-4704-df53-38fa59336578"
      },
      "execution_count": null,
      "outputs": [
        {
          "output_type": "execute_result",
          "data": {
            "text/plain": [
              "{'ip': '34.73.169.177', 'country': 'United States', 'cc': 'US'}"
            ]
          },
          "metadata": {},
          "execution_count": 1
        }
      ]
    },
    {
      "cell_type": "markdown",
      "source": [
        "# Importação"
      ],
      "metadata": {
        "id": "0KXJ4Keo9eYe"
      }
    },
    {
      "cell_type": "code",
      "source": [
        "import requests\n",
        "from bs4 import BeautifulSoup\n",
        "import concurrent.futures\n",
        "from urllib3 import PoolManager\n",
        "import pandas as pd\n",
        "import os\n",
        "from typing import Type\n",
        "import glob\n",
        "import shutil\n",
        "\n",
        "\n",
        "def get_dados_from_municipio_ano_entidade(id_municipio: str|int,\n",
        "                                          id_entidade:\n",
        "                                          str|int, ano: str|int) -> list:\n",
        "  # Define the URL you want to send a POST request to\n",
        "  url = 'https://transparencia.tce.ro.gov.br/transparenciatce/Remessa/Pesquisar'\n",
        "\n",
        "  # Define the data you want to send in the POST request\n",
        "  data = {\n",
        "  \"tipo\":\t\"contabil\",\n",
        "  \"esfera\":\t\"municipal\",\n",
        "  \"municipios\":\tid_municipio,\n",
        "  \"entidades\":\tid_entidade,\n",
        "  \"exercicios\":\tano,\n",
        "  \"mes\":\t\"\"}\n",
        "\n",
        "  # Make the POST request\n",
        "  response = http.request('POST', url, fields=data)\n",
        "\n",
        "  soup = BeautifulSoup(response.data, 'html.parser')\n",
        "  base_url = \"https://transparencia.tce.ro.gov.br\"\n",
        "  links_zips = [base_url + str(zip.get(\"href\")) for zip in soup.select(\"td a\")]\n",
        "  rows = [[ano, id_municipio, id_entidade, link] for link in links_zips]\n",
        "\n",
        "  return rows\n",
        "\n",
        "def get_entidades_from_municipio(municipio: str, id_municipio: str|int) -> list:\n",
        "\n",
        "  url = f\"https://transparencia.tce.ro.gov.br/transparenciatce/Remessa/GetEntidades?esferaCod=2&municipio={id_municipio}\"\n",
        "  # response = requests.get(url)\n",
        "  response = http.request('GET', url)\n",
        "\n",
        "  json_response = response.json()\n",
        "  entidades = [[municipio, id_municipio, entidade.get(\"Text\"), entidade.get(\"Value\")] for entidade in json_response]\n",
        "  return entidades\n",
        "\n",
        "def get_municipios() -> list:\n",
        "\n",
        "  url = 'https://transparencia.tce.ro.gov.br/transparenciatce/Remessa/Pesquisar'\n",
        "  # Define the data you want to send in the POST request\n",
        "  data = {\n",
        "  \"tipo\":\t\"contabil\",\n",
        "  \"esfera\":\t\"municipal\",\n",
        "  \"municipios\":\t2,\n",
        "  \"entidades\":\t2,\n",
        "  \"exercicios\":\t2019,\n",
        "  \"mes\":\t\"\"}\n",
        "\n",
        "  # Make the POST request\n",
        "  response = requests.post(url, data=data)\n",
        "\n",
        "  soup = BeautifulSoup(response.text, 'html.parser')\n",
        "  municipios = [text_select.text for text_select in soup.select(\"select#municipios option\")[1::]] # Excluir primeiro elemento desnecessario e forma lista com municipios\n",
        "  return municipios\n",
        "\n",
        "\n",
        "def download_large_file(row: Type):\n",
        "\n",
        "  zip_name = get_name_zip_from_link(row.link)\n",
        "\n",
        "  path_directory = os.path.join(os.getcwd(), \"input\",\n",
        "                          str(row.ano),\n",
        "                          str(row.id_municipio),\n",
        "                          row.id_entidade)\n",
        "\n",
        "  file_name = os.path.join(path_directory, zip_name)\n",
        "\n",
        "  os.makedirs(path_directory, exist_ok=True)\n",
        "\n",
        "  # Make a GET request with stream=True to download the file in chunks\n",
        "  if not  os.path.exists(file_name):\n",
        "    with http.request('GET', row.link, preload_content=False, decode_content=False) as response:\n",
        "        # Check if the request was successful (status code 200)\n",
        "        if response.status == 200:\n",
        "            # Open a local file for writing in binary mode\n",
        "            with open(file_name, 'wb') as file:\n",
        "                # Download the file in chunks and save to the local disk\n",
        "                for chunk in response.stream(8192): # Adjust chunk size as needed\n",
        "                    file.write(chunk)\n",
        "            # print(f\"Download complete. File saved as {zip_name}\")\n",
        "        else:\n",
        "            print(f\"Error: Unable to download file. Status Code: {response.status}\\nLink:{row.link}\")\n",
        "\n",
        "def get_name_zip_from_link(link: str) -> str:\n",
        "  return link.split(\"=\")[1].split(\"&\")[0]\n",
        "\n",
        "\n",
        "def send_folder_drive(path_drive: str, path_input: str) -> None:\n",
        "\n",
        "  if not len(os.listdir(path_input)) > 0:\n",
        "    raise Exception(\"Essa Pasta vazia\")\n",
        "    return None\n",
        "\n",
        "  shutil.make_archive(path_drive,\n",
        "                      'zip',\n",
        "                      path_input)\n",
        "\n"
      ],
      "metadata": {
        "id": "L2Es1hGe3er6"
      },
      "execution_count": null,
      "outputs": []
    },
    {
      "cell_type": "markdown",
      "source": [
        "# Pegar Municipios Id e Entidades"
      ],
      "metadata": {
        "id": "FtyeVeEA9jGX"
      }
    },
    {
      "cell_type": "code",
      "source": [
        "municipios = get_municipios()\n",
        "http = PoolManager(maxsize=10)\n",
        "with concurrent.futures.ThreadPoolExecutor() as executor:\n",
        "  entidades = [row\n",
        "               for entidades_municipio in\n",
        "               executor.map(\n",
        "                   get_entidades_from_municipio,\n",
        "                   municipios,\n",
        "                   list(range(1, len(municipios) + 1)))\n",
        "               for row in entidades_municipio\n",
        "               ]\n",
        "\n",
        "df_entidaes = pd.DataFrame(entidades, columns=[\"municipio\", \"id_municipio\", \"entidade\", \"id_entidade\"])\n",
        "df_entidaes.to_csv(\"/content/utils/base_info_entidades.csv\", index=False)"
      ],
      "metadata": {
        "id": "V8OdAjQqGgIE"
      },
      "execution_count": null,
      "outputs": []
    },
    {
      "cell_type": "markdown",
      "source": [
        "# Pegar links dos ZIPs"
      ],
      "metadata": {
        "id": "gml1tKEk9qHS"
      }
    },
    {
      "cell_type": "code",
      "source": [
        "rows_link_by_entidade = []\n",
        "http = PoolManager(maxsize=10)\n",
        "\n",
        "for pesquisa_row in df_entidaes.itertuples():\n",
        "\n",
        "  with concurrent.futures.ThreadPoolExecutor() as executor:\n",
        "    rows_link_by_entidade += [row\n",
        "                for zips in\n",
        "                executor.map(\n",
        "                    lambda ano: get_dados_from_municipio_ano_entidade(pesquisa_row.id_municipio, pesquisa_row.id_entidade, ano),\n",
        "                    list(range(2019,2025))\n",
        "                    )\n",
        "                for row in zips\n",
        "               ]\n",
        "\n",
        "df_links_zips = pd.DataFrame(rows_link_by_entidade, columns=[\"ano\", \"id_municipio\", \"id_entidade\", \"link\"])\n",
        "df_links_zips.to_csv(\"/content/utils/link_zips_ro.csv\", index=False)"
      ],
      "metadata": {
        "id": "LQm1P4tNgkeX"
      },
      "execution_count": null,
      "outputs": []
    },
    {
      "cell_type": "markdown",
      "source": [
        "# Download dos Zips"
      ],
      "metadata": {
        "id": "qShzweX09vua"
      }
    },
    {
      "cell_type": "code",
      "source": [
        "with concurrent.futures.ThreadPoolExecutor() as executor:\n",
        "  executor.map(\n",
        "              download_large_file,\n",
        "              df_links_zips.itertuples()\n",
        "              )"
      ],
      "metadata": {
        "colab": {
          "base_uri": "https://localhost:8080/"
        },
        "id": "TSxcvmCUub60",
        "outputId": "45ddbf12-72f7-414d-a10f-46cdcb0c7ab5"
      },
      "execution_count": null,
      "outputs": [
        {
          "output_type": "stream",
          "name": "stdout",
          "text": [
            "Error: Unable to download file. Status Code: 500\n",
            "Link:https://transparencia.tce.ro.gov.br/transparenciatce/Remessa/Download?name=Sigap_201901_41_04394805000118_CO_SMVDDM-167.zip&fullPath=%5C%5Ctcero.local%5Csistemas%5CFILES%5CSigapMunicipal%5C2019%5CSigap_201901_41_04394805000118_CO_SMVDDM-167.zip&esfera=municipal\n",
            "Error: Unable to download file. Status Code: 500\n",
            "Link:https://transparencia.tce.ro.gov.br/transparenciatce/Remessa/Download?name=Sigap_201901_67_04390985000160.rar&fullPath=%5C%5Ctcero.local%5Csistemas%5CFILES%5CSigapMunicipal%5C2019%5CSigap_201901_67_04390985000160.rar&esfera=municipal\n"
          ]
        }
      ]
    },
    {
      "cell_type": "markdown",
      "source": [
        "# Manda para o Drive"
      ],
      "metadata": {
        "id": "3DdZJ5-dyTPC"
      }
    },
    {
      "cell_type": "code",
      "source": [
        "path_drive_output = f\"/content/drive/MyDrive/DataBase/world_bank/ro/empenhos/empenho_ro\"\n",
        "\n",
        "send_folder_drive(path_drive_output,\n",
        "                \"/content/input/\")"
      ],
      "metadata": {
        "id": "ObHW8PIMyVZI"
      },
      "execution_count": null,
      "outputs": []
    },
    {
      "cell_type": "code",
      "source": [
        "path_drive_utils = f\"/content/drive/MyDrive/DataBase/world_bank/ro/utils/utils\"\n",
        "\n",
        "\n",
        "send_folder_drive(path_drive_output,\n",
        "                \"/content/utils\")"
      ],
      "metadata": {
        "id": "_KAxeyKb0Z_I"
      },
      "execution_count": null,
      "outputs": []
    }
  ]
}