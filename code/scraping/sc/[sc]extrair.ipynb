{
  "nbformat": 4,
  "nbformat_minor": 0,
  "metadata": {
    "colab": {
      "provenance": []
    },
    "kernelspec": {
      "name": "python3",
      "display_name": "Python 3"
    },
    "language_info": {
      "name": "python"
    }
  },
  "cells": [
    {
      "cell_type": "code",
      "execution_count": null,
      "metadata": {
        "id": "NnnQKNn3FTHb"
      },
      "outputs": [],
      "source": [
        "from google.colab import drive\n",
        "drive.mount('/content/gdrive')"
      ]
    },
    {
      "cell_type": "markdown",
      "metadata": {
        "id": "9ptCC5xP2ssI"
      },
      "source": [
        "# Verificar IP"
      ]
    },
    {
      "cell_type": "code",
      "execution_count": null,
      "metadata": {
        "colab": {
          "base_uri": "https://localhost:8080/"
        },
        "id": "df7yG-uBRCoz",
        "outputId": "fa6d16d9-fabc-4617-a18b-ad9649f93b45"
      },
      "outputs": [
        {
          "output_type": "execute_result",
          "data": {
            "text/plain": [
              "{'ip': '35.199.61.18', 'country': 'United States', 'cc': 'US'}"
            ]
          },
          "metadata": {},
          "execution_count": 4
        }
      ],
      "source": [
        "import requests\n",
        "\n",
        "my_country = requests.get(\"https://api.myip.com/\")\n",
        "my_country.json()"
      ]
    },
    {
      "cell_type": "markdown",
      "metadata": {
        "id": "YmFg2mw_gh-3"
      },
      "source": [
        "# Extrair Input Do GoogleDrive"
      ]
    },
    {
      "cell_type": "code",
      "execution_count": null,
      "metadata": {
        "id": "p13bBiQ1ggAR"
      },
      "outputs": [],
      "source": [
        "from zipfile import ZipFile\n",
        "import os\n",
        "\n",
        "def extrair(path, path_output):\n",
        "  # loading the temp.zip and creating a zip object\n",
        "  with ZipFile(path, 'r') as zObject:\n",
        "\n",
        "      # Extracting all the members of the zip\n",
        "      # into a specific location.\n",
        "      zObject.extractall(\n",
        "          path=path_output)\n"
      ]
    },
    {
      "cell_type": "markdown",
      "metadata": {
        "id": "43-Td88tNHBU"
      },
      "source": [
        "## Empenhos"
      ]
    },
    {
      "cell_type": "code",
      "execution_count": null,
      "metadata": {
        "id": "U1wj5Ujxghqn"
      },
      "outputs": [],
      "source": [
        "os.mkdir(\"empenhos\")\n",
        "extrair(path=\"/content/gdrive/MyDrive/datasets/empenhos_input.zip\",\n",
        "        path_output=\"/content/empenhos\")"
      ]
    },
    {
      "cell_type": "markdown",
      "metadata": {
        "id": "1g-kkCGtNIyk"
      },
      "source": [
        "## Liquidações"
      ]
    },
    {
      "cell_type": "code",
      "execution_count": null,
      "metadata": {
        "id": "kvv5b9fqM_5w"
      },
      "outputs": [],
      "source": [
        "os.mkdir(\"liquidações\")"
      ]
    },
    {
      "cell_type": "code",
      "execution_count": null,
      "metadata": {
        "id": "4BqwcL1RRYYd"
      },
      "outputs": [],
      "source": [
        "extrair(path=\"/content/gdrive/MyDrive/datasets/liquidações_input.zip\",\n",
        "        path_output=\"/content/liquidações\")"
      ]
    },
    {
      "cell_type": "markdown",
      "metadata": {
        "id": "MotOYr6Jo2ml"
      },
      "source": [
        "# Raspador"
      ]
    },
    {
      "cell_type": "markdown",
      "source": [
        "## Instalar Selenium"
      ],
      "metadata": {
        "id": "Sqf6X63iF9X1"
      }
    },
    {
      "cell_type": "code",
      "execution_count": null,
      "metadata": {
        "id": "sbVeNajTdiJF"
      },
      "outputs": [],
      "source": [
        "!pip install selenium\n",
        "!pip install webdriver-manager\n",
        "!apt-get update\n",
        "!apt install chromium-chromedriver"
      ]
    },
    {
      "cell_type": "markdown",
      "source": [
        "## Extrair"
      ],
      "metadata": {
        "id": "ko-KgH18rOTQ"
      }
    },
    {
      "cell_type": "code",
      "execution_count": null,
      "metadata": {
        "id": "-gqYt7i4TYIQ"
      },
      "outputs": [],
      "source": [
        "from selenium import webdriver\n",
        "from selenium.webdriver.firefox.options import Options\n",
        "from selenium.webdriver.support.ui import WebDriverWait\n",
        "from selenium.webdriver.common.by import By\n",
        "from selenium.webdriver.support import expected_conditions as EC\n",
        "from selenium.webdriver.common.keys import Keys\n",
        "from selenium.webdriver.common.action_chains import ActionChains\n",
        "from selenium.common.exceptions import TimeoutException, NoSuchElementException\n",
        "from time import sleep\n",
        "import os\n",
        "import shutil\n",
        "import datetime as dt\n",
        "import time\n",
        "\n",
        "\n",
        "class TceExtraction:\n",
        "\n",
        "    def __init__(self, number_category: int = 0,\n",
        "                 city_names: list = None):\n",
        "\n",
        "        category_name = {\n",
        "            0: 'empenhos',\n",
        "            1: 'liquidações',\n",
        "            2: 'pagamentos'\n",
        "        }\n",
        "\n",
        "        self.path_input = os.path.join(\n",
        "            os.getcwd(),\n",
        "            category_name[number_category]\n",
        "            , 'input')\n",
        "\n",
        "        self.city_rotine = False\n",
        "        self.city_names = city_names\n",
        "        self.number_category = number_category\n",
        "        self.drive = self.create_webdrive()\n",
        "        self.action = self.create_action()\n",
        "\n",
        "        self.wait = self.create_wait(60)\n",
        "        self.wait_to_verific = self.create_wait(5)\n",
        "\n",
        "        self.extraction()\n",
        "\n",
        "    def create_webdrive(self):\n",
        "\n",
        "        options = Options()\n",
        "        options.add_argument('-headless')\n",
        "        options.set_preference('browser.download.folderList', 2)\n",
        "        options.set_preference('browser.download.manager.showWhenStarting', False)\n",
        "        options.set_preference('browser.download.dir', self.path_input)\n",
        "        options.set_preference('browser.helperApps.neverAsk.saveToDisk', \"application/x-gzip\")\n",
        "        options.add_argument('-no-sandbox')\n",
        "        options.add_argument('-disable-dev-shm-usage')\n",
        "        options.add_argument(\"-disable-blink-features=AutomationControlled\")\n",
        "        options.add_argument(\"-disable-extensions\")\n",
        "        options.add_argument(\"-incognito\")\n",
        "        drive = webdriver.Chrome(options=options)\n",
        "\n",
        "        drive.get(\n",
        "            f\"https://paineistransparencia.tce.sc.gov.br/extensions/appDespesasMunicipaisExternoNovo/index.html\")\n",
        "\n",
        "        return drive\n",
        "\n",
        "    def create_action(self):\n",
        "        return ActionChains(self.drive)\n",
        "\n",
        "    def create_wait(self, deplay: int):\n",
        "        return WebDriverWait(self.drive, deplay)\n",
        "\n",
        "    def wait_page_ready(self):\n",
        "        self.wait.until(EC.presence_of_element_located((By.ID, 'incodataNavA05')))\n",
        "        self.click_by_js(By.ID, 'incodataNavA05')\n",
        "\n",
        "    def select_city(self, municipio_name: str) -> None:\n",
        "\n",
        "        self.click_by_js(By.ID, 'clearselections')\n",
        "        selector = 'div[class=\"qv-listbox-search\"] > div > input'\n",
        "        self.click_by_js(By.CLASS_NAME, 'title-wrapper')\n",
        "        self.click_by_js(By.CSS_SELECTOR, 'button[tid=\"selection-toolbar.clear\"]')\n",
        "\n",
        "        self.drive.find_element(By.CSS_SELECTOR, selector).send_keys(municipio_name)\n",
        "\n",
        "        self.wait_to_verific.until(EC.presence_of_element_located((By.CSS_SELECTOR, 'span.highlighted')))\n",
        "\n",
        "        self.click_by_mouse(\n",
        "            By.XPATH, f'//span[@title=\"{municipio_name}\"]//ancestor::li')\n",
        "\n",
        "        self.click_by_js(By.CLASS_NAME, 'title-wrapper')\n",
        "\n",
        "    def select_dates(self, by, match):\n",
        "\n",
        "        for n in range(0, -2, -1):\n",
        "            self.wait.until(EC.visibility_of_element_located((by, match)))\n",
        "            self.drive.find_elements(by, match)[n].click()\n",
        "\n",
        "    def download_button(self) -> None:\n",
        "\n",
        "        self.wait.until(EC.visibility_of_element_located(\n",
        "            (By.CSS_SELECTOR, \"th#BEq-header-1\")))\n",
        "\n",
        "        old_quantity = len(os.listdir(self.path_input))\n",
        "        self.click_by_js(By.ID, \"GRA_1_Dow\")\n",
        "\n",
        "        self.wait.until(lambda x: self.wait_download_ends(old_quantity))\n",
        "\n",
        "        self.drive.switch_to.window(self.drive.window_handles[0])\n",
        "\n",
        "    def wait_download_ends(self, old_quantity: int) -> bool:\n",
        "\n",
        "        files = os.listdir(self.path_input)\n",
        "        return len(files) != old_quantity and \"\".join(files).count(\".part\") <= 0\n",
        "\n",
        "    def rotine_download(self, attempt: int):\n",
        "\n",
        "        sleep(1)\n",
        "        self.click_filter_category()\n",
        "\n",
        "        selector_data_list = [{\n",
        "            \"no_data\": 'td.nodata',\n",
        "            \"data\": 'td.available'\n",
        "        }, {\n",
        "            \"no_data\": 'div.dpleft td.nodata',\n",
        "            \"data\": 'div.dpleft td.available'\n",
        "        }]\n",
        "\n",
        "        while True:\n",
        "\n",
        "            if self.city_rotine:\n",
        "                for n in range(2 - attempt):\n",
        "                    try:\n",
        "                        self.click_by_js(\n",
        "                            By.CSS_SELECTOR, 'th[class=\"next available\"]', wait=self.wait_to_verific)\n",
        "\n",
        "                    except TimeoutException:\n",
        "\n",
        "                        self.click_filter_category()\n",
        "                        self.city_rotine = False\n",
        "                        return True\n",
        "            else:\n",
        "\n",
        "                while True:\n",
        "\n",
        "                    try:\n",
        "                        self.click_by_js(\n",
        "                            By.CSS_SELECTOR, 'th[class=\"prev available\"]', wait=self.wait_to_verific)\n",
        "\n",
        "                    except:\n",
        "\n",
        "                        if attempt > 0:\n",
        "                            self.click_by_js(\n",
        "                                By.CSS_SELECTOR, 'th[class=\"next available\"]', wait=self.wait_to_verific)\n",
        "                        break\n",
        "\n",
        "            no_data = self.drive.find_elements(\n",
        "                By.CSS_SELECTOR, selector_data_list[attempt]['no_data'])\n",
        "\n",
        "            data = self.drive.find_elements(\n",
        "                By.CSS_SELECTOR, selector_data_list[attempt]['data'])\n",
        "\n",
        "            self.city_rotine = True\n",
        "\n",
        "            if len(data) != len(no_data):\n",
        "                self.select_dates(By.CSS_SELECTOR,\n",
        "                                  selector_data_list[attempt]['data'])\n",
        "                return False\n",
        "\n",
        "    def click_filter_category(self) -> None:\n",
        "\n",
        "        selector_categorys = 'bootstrap_inside'\n",
        "\n",
        "        category_elementes = self.wait_to_verific.until(\n",
        "            EC.visibility_of_all_elements_located(\n",
        "                (By.CLASS_NAME,\n",
        "                 selector_categorys)))\n",
        "\n",
        "        self.drive.execute_script(\"arguments[0].click();\",\n",
        "                                  category_elementes[self.number_category])\n",
        "\n",
        "    def get_citys(self) -> list:\n",
        "\n",
        "        selector_list_city = 'li > div[class =\"qv-listbox-text qv-listbox-text-value\"]'\n",
        "\n",
        "        self.click_by_js(By.CSS_SELECTOR, 'h6[aria-label=\"Ente\"]')\n",
        "\n",
        "        self.wait.until(EC.visibility_of_element_located((By.CSS_SELECTOR, selector_list_city)))\n",
        "        self.action.send_keys(Keys.TAB)\n",
        "        self.action.perform()\n",
        "\n",
        "        citys_names = []\n",
        "\n",
        "        while True:\n",
        "\n",
        "            citys = self.drive.find_elements(\n",
        "                By.CSS_SELECTOR, selector_list_city)\n",
        "\n",
        "            presenty_list = [city.text for city in citys if city.text]\n",
        "\n",
        "            if citys_names and citys_names[-1] == presenty_list[-1]:\n",
        "                break\n",
        "\n",
        "            citys_names += presenty_list\n",
        "\n",
        "            n_downs_listbox = 8 if len(citys_names) > 8 else 15\n",
        "            for move in range(n_downs_listbox):\n",
        "                self.action.send_keys(Keys.DOWN)\n",
        "                self.action.perform()\n",
        "\n",
        "        citys_names = list(dict.fromkeys(citys_names))\n",
        "\n",
        "        self.click_by_js(By.CLASS_NAME, 'title-wrapper')\n",
        "\n",
        "        return citys_names\n",
        "\n",
        "    def check_for_real_date_by_city(self) -> bool:\n",
        "\n",
        "        sleep(1)\n",
        "\n",
        "        selections_item = self.wait_to_verific.until(\n",
        "            EC.presence_of_all_elements_located(\n",
        "                (By.CSS_SELECTOR, 'div.current-selections-item')\n",
        "            ))\n",
        "\n",
        "        return len(selections_item) > 1\n",
        "\n",
        "    def try_download_city_files(self, city_name: str,\n",
        "                                attempt: int = 0) -> None:\n",
        "\n",
        "        path_city_folder = os.path.join(self.path_input, self.limpar_name(city_name))\n",
        "\n",
        "        if self.verify_downloaded_citys(path_city_folder):\n",
        "            return None\n",
        "\n",
        "        self.drive.execute_script(f'document.getElementById(\"Filtros\").scrollTop = 0')\n",
        "\n",
        "        self.select_city(city_name)\n",
        "\n",
        "        scrolltopmax = self.drive.execute_script('return document.getElementById(\"Filtros\").scrollTopMax')\n",
        "        self.drive.execute_script(f'document.getElementById(\"Filtros\").scrollTop = {scrolltopmax}')\n",
        "\n",
        "        finish = False\n",
        "\n",
        "        while not finish:\n",
        "\n",
        "            finish = self.rotine_download(attempt)\n",
        "\n",
        "            if not self.check_for_real_date_by_city():\n",
        "                break\n",
        "\n",
        "            self.download_button()\n",
        "\n",
        "        self.move_files_to_city_folder(path_city_folder)\n",
        "\n",
        "    def download_control(self) -> None:\n",
        "\n",
        "        # self.wait_page_ready()\n",
        "        sleep(120)\n",
        "\n",
        "        if self.city_names is None:\n",
        "            print(\"Coletando os municipios.\")\n",
        "            self.city_names = self.get_citys()\n",
        "        print(self.city_names)\n",
        "\n",
        "        for n, city_name in enumerate(self.city_names):\n",
        "\n",
        "            start_time = time.time()\n",
        "            print(f\"{n + 1}/{len(self.city_names)}\\nTentando baixar arquivos de: {city_name}\")\n",
        "            for attempt in range(2):\n",
        "                try:\n",
        "\n",
        "                    print(f\"Tentativa: {attempt + 1}/2\")\n",
        "                    self.try_download_city_files(city_name, attempt)\n",
        "                    print(f\"Sucesso! {city_name}\\nConcluido em: {(time.time() - start_time) / 60:.2f} minutos\")\n",
        "                    break\n",
        "\n",
        "                except Exception as erro:\n",
        "\n",
        "                    self.drive.refresh()\n",
        "                    self.wait_page_ready()\n",
        "                    print(f\"Falha ao tentar baixar!\\nErro: {erro}\")\n",
        "\n",
        "                finally:\n",
        "                    self.city_rotine = False\n",
        "                    self.delete_files()\n",
        "\n",
        "    def verify_downloaded_citys(self, city_folder: str) -> bool:\n",
        "\n",
        "        try:\n",
        "\n",
        "            if os.listdir(city_folder):\n",
        "                return True\n",
        "            else:\n",
        "                return False\n",
        "\n",
        "        except FileNotFoundError:\n",
        "            self.create_folders([city_folder])\n",
        "            return False\n",
        "\n",
        "    def move_files_to_city_folder(self, city_folder: str) -> None:\n",
        "\n",
        "        files = [file for file in os.listdir(self.path_input)\n",
        "                 if file.count('.csv') or file.count('.xlsx')]\n",
        "        for f in files:\n",
        "            path_file_to_move = os.path.join(self.path_input, f)\n",
        "            shutil.move(path_file_to_move, city_folder)\n",
        "\n",
        "    def delete_files(self):\n",
        "\n",
        "        files = os.listdir(self.path_input)\n",
        "        for f in files:\n",
        "            try:\n",
        "                os.remove(os.path.join(self.path_input, f))\n",
        "            except (IsADirectoryError, PermissionError):\n",
        "                pass\n",
        "\n",
        "    def extraction(self) -> None:\n",
        "\n",
        "        try:\n",
        "            self.create_folders([self.path_input, \"output\"])\n",
        "            self.download_control()\n",
        "\n",
        "        finally:\n",
        "            sleep(5)\n",
        "            self.delete_files()\n",
        "            self.drive.quit()\n",
        "\n",
        "    def click_by_js(self, by, match, wait=None) -> None:\n",
        "\n",
        "        if wait is None:\n",
        "            wait = self.wait\n",
        "\n",
        "        where_click = wait.until(\n",
        "            EC.visibility_of_element_located((by, match)))\n",
        "        self.drive.execute_script(\"arguments[0].click();\", where_click)\n",
        "\n",
        "    def click_by_mouse(self, by, match) -> None:\n",
        "\n",
        "        where_click = self.wait.until(\n",
        "            EC.visibility_of_element_located((by, match)))\n",
        "\n",
        "        self.action.move_to_element_with_offset(where_click, 5, 5)\n",
        "        self.action.click()\n",
        "        self.action.perform()\n",
        "\n",
        "    @staticmethod\n",
        "    def create_folders(name_folders: list) -> bool:\n",
        "        for folder in name_folders:\n",
        "            try:\n",
        "                os.makedirs(folder)\n",
        "                return False\n",
        "            except FileExistsError:\n",
        "                return True\n",
        "\n",
        "    @staticmethod\n",
        "    def limpar_name(name: str,\n",
        "                    place: str = \"-\",\n",
        "                    remove_list: list = None) -> str:\n",
        "\n",
        "        if remove_list is None:\n",
        "            remove_list = [r\"//\", r\"\\\\\", \"/\"]\n",
        "\n",
        "        for remove in remove_list:\n",
        "            name = name.replace(remove, place)\n",
        "\n",
        "        return name"
      ]
    },
    {
      "cell_type": "code",
      "source": [
        "city_names = ['JOINVILLE',\n",
        "              'CONSÓRCIO INTERMUNICIPAL DE SAÚDE DO NORDESTE DE SANTA CATARINA - CIS-NORDESTE/SC',\n",
        "              'CONSÓRCIO INTERMUNICIPAL MULTIFINALITÁRIO DA REGIÃO DA AMUNESC',\n",
        "              'PERITIBA',\n",
        "              'GUABIRUBA',\n",
        "              'VITOR MEIRELES',\n",
        "              'TANGARÁ',\n",
        "              'GARUVA',\n",
        "              'PAPANDUVA',\n",
        "              'CORREIA PINTO',\n",
        "              'LAGUNA',\n",
        "              'QUILOMBO',\n",
        "              'JOAÇABA',\n",
        "              'IRINEÓPOLIS',\n",
        "              'AGRONÔMICA',\n",
        "              'GRÃO-PARÁ',\n",
        "              'VIDEIRA',\n",
        "              'ITAPIRANGA',\n",
        "              'PALMITOS',\n",
        "              'RIO DO OESTE',\n",
        "              'RIO DAS ANTAS',\n",
        "              'UNIÃO DO OESTE',]"
      ],
      "metadata": {
        "id": "QAk-DqDQIjLC"
      },
      "execution_count": null,
      "outputs": []
    },
    {
      "cell_type": "code",
      "execution_count": null,
      "metadata": {
        "id": "x0meBXrvd8Oy"
      },
      "outputs": [],
      "source": [
        "if __name__ == '__main__':\n",
        "\n",
        "    start_time = time.time()\n",
        "    print(f\"Iniciado: {dt.datetime.now()}\")\n",
        "    TceExtraction(number_category=0) #0: empenho, 1: liquidacao, 2: pagamento\n",
        "    print(f\"Finalizando: {dt.datetime.now()}\\nDuração da execução: {(time.time() - start_time) / 60:.2f}\")"
      ]
    },
    {
      "cell_type": "markdown",
      "metadata": {
        "id": "upBPpWj9tHDO"
      },
      "source": [
        "# Colocar Input em ZIP no GoogleDrive\n"
      ]
    },
    {
      "cell_type": "markdown",
      "metadata": {
        "id": "zFdibK5eomgQ"
      },
      "source": [
        "## Empenhos"
      ]
    },
    {
      "cell_type": "code",
      "execution_count": null,
      "metadata": {
        "colab": {
          "base_uri": "https://localhost:8080/",
          "height": 35
        },
        "id": "Fww4d9AqtJBm",
        "outputId": "ff92451e-a4fb-43d1-b397-bdccdd1f2385"
      },
      "outputs": [
        {
          "output_type": "execute_result",
          "data": {
            "text/plain": [
              "'/content/gdrive/MyDrive/datasets/empenhos_ente_22.zip'"
            ],
            "application/vnd.google.colaboratory.intrinsic+json": {
              "type": "string"
            }
          },
          "metadata": {},
          "execution_count": 17
        }
      ],
      "source": [
        "import shutil\n",
        "shutil.make_archive(\"/content/gdrive/MyDrive/datasets/empenhos_ente_22\",\n",
        "                    'zip',\n",
        "                    \"/content/empenhos\")"
      ]
    },
    {
      "cell_type": "markdown",
      "metadata": {
        "id": "NCMraGQToomJ"
      },
      "source": [
        "## Liquidações"
      ]
    },
    {
      "cell_type": "code",
      "execution_count": null,
      "metadata": {
        "colab": {
          "base_uri": "https://localhost:8080/",
          "height": 35
        },
        "id": "Wa1zTGRSosZM",
        "outputId": "cef269a7-5ebd-4e4a-b3a5-3404975004ba"
      },
      "outputs": [
        {
          "output_type": "execute_result",
          "data": {
            "text/plain": [
              "'/content/gdrive/MyDrive/datasets/liquidações_ente_22.zip'"
            ],
            "application/vnd.google.colaboratory.intrinsic+json": {
              "type": "string"
            }
          },
          "metadata": {},
          "execution_count": 46
        }
      ],
      "source": [
        "import shutil\n",
        "shutil.make_archive(\"/content/gdrive/MyDrive/datasets/liquidações_ente_22\",\n",
        "                    'zip',\n",
        "                    \"/content/liquidações\")"
      ]
    },
    {
      "cell_type": "markdown",
      "source": [
        "## Pagamentos"
      ],
      "metadata": {
        "id": "YV7ur2B5lzwC"
      }
    },
    {
      "cell_type": "code",
      "source": [
        "import shutil\n",
        "shutil.make_archive(\"/content/gdrive/MyDrive/datasets/pagamentos_ente_22\",\n",
        "                    'zip',\n",
        "                    \"/content/pagamentos\")"
      ],
      "metadata": {
        "colab": {
          "base_uri": "https://localhost:8080/",
          "height": 35
        },
        "id": "gqeKQc5blyz_",
        "outputId": "f6333ecb-14b2-4df1-caa3-f21af98626d8"
      },
      "execution_count": null,
      "outputs": [
        {
          "output_type": "execute_result",
          "data": {
            "text/plain": [
              "'/content/gdrive/MyDrive/datasets/pagamentos_ente_22.zip'"
            ],
            "application/vnd.google.colaboratory.intrinsic+json": {
              "type": "string"
            }
          },
          "metadata": {},
          "execution_count": 29
        }
      ]
    }
  ]
}