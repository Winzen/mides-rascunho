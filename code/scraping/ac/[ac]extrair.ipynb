{
  "nbformat": 4,
  "nbformat_minor": 0,
  "metadata": {
    "colab": {
      "provenance": [],
      "collapsed_sections": [
        "8GHIL8QRllMx"
      ]
    },
    "kernelspec": {
      "name": "python3",
      "display_name": "Python 3"
    },
    "language_info": {
      "name": "python"
    }
  },
  "cells": [
    {
      "cell_type": "code",
      "source": [
        "from google.colab import drive\n",
        "drive.mount('/content/drive')"
      ],
      "metadata": {
        "id": "8k7JsxSeoaOe",
        "colab": {
          "base_uri": "https://localhost:8080/"
        },
        "outputId": "cf6ae1db-6b8f-4dc6-f345-0bb460384e76"
      },
      "execution_count": null,
      "outputs": [
        {
          "output_type": "stream",
          "name": "stdout",
          "text": [
            "Mounted at /content/drive\n"
          ]
        }
      ]
    },
    {
      "cell_type": "code",
      "source": [
        "!pip install websockets"
      ],
      "metadata": {
        "colab": {
          "base_uri": "https://localhost:8080/"
        },
        "id": "HaDOjsiPzYmp",
        "outputId": "f4e2adaf-121f-4cfb-e91e-c8455bb1cac6"
      },
      "execution_count": null,
      "outputs": [
        {
          "output_type": "stream",
          "name": "stdout",
          "text": [
            "Collecting websockets\n",
            "  Downloading websockets-12.0-cp310-cp310-manylinux_2_5_x86_64.manylinux1_x86_64.manylinux_2_17_x86_64.manylinux2014_x86_64.whl (130 kB)\n",
            "\u001b[2K     \u001b[90m━━━━━━━━━━━━━━━━━━━━━━━━━━━━━━━━━━━━━━━━\u001b[0m \u001b[32m130.2/130.2 kB\u001b[0m \u001b[31m990.9 kB/s\u001b[0m eta \u001b[36m0:00:00\u001b[0m\n",
            "\u001b[?25hInstalling collected packages: websockets\n",
            "Successfully installed websockets-12.0\n"
          ]
        }
      ]
    },
    {
      "cell_type": "code",
      "source": [
        "path_drive_input = f\"/content/drive/MyDrive/DataBase/world_bank/ac/utils/enviados_has_filtros.txt\"\n",
        "path_drive_input2 = f\"/content/drive/MyDrive/DataBase/world_bank/ac/Despesas/despesas\"\n"
      ],
      "metadata": {
        "id": "kLiLbltzr3DO"
      },
      "execution_count": null,
      "outputs": []
    },
    {
      "cell_type": "markdown",
      "metadata": {
        "id": "9ptCC5xP2ssI"
      },
      "source": [
        "# Verificar IP"
      ]
    },
    {
      "cell_type": "code",
      "execution_count": null,
      "metadata": {
        "colab": {
          "base_uri": "https://localhost:8080/"
        },
        "id": "df7yG-uBRCoz",
        "outputId": "3e6820ce-6446-44cb-d0b4-a71dcd24eef4"
      },
      "outputs": [
        {
          "output_type": "execute_result",
          "data": {
            "text/plain": [
              "{'ip': '34.42.43.17', 'country': 'United States', 'cc': 'US'}"
            ]
          },
          "metadata": {},
          "execution_count": 2
        }
      ],
      "source": [
        "import requests\n",
        "\n",
        "my_country = requests.get(\"https://api.myip.com/\")\n",
        "my_country.json()"
      ]
    },
    {
      "cell_type": "markdown",
      "source": [
        "# Importação"
      ],
      "metadata": {
        "id": "4XyzpGphzTs5"
      }
    },
    {
      "cell_type": "code",
      "source": [
        "import requests\n",
        "import ast\n",
        "import asyncio\n",
        "import websockets\n",
        "import nest_asyncio\n",
        "import json\n",
        "from time import sleep\n",
        "import os\n",
        "import shutil\n",
        "from zipfile import ZipFile\n",
        "import pandas as pd\n",
        "\n",
        "\n",
        "def send_folder_drive(path_drive: str, path_input: str) -> None:\n",
        "\n",
        "  if not len(os.listdir(path_input)) > 0:\n",
        "    raise Exception(\"Essa Pasta vazia\")\n",
        "    return None\n",
        "\n",
        "  shutil.make_archive(path_drive,\n",
        "                      'zip',\n",
        "                      path_input)\n",
        "\n",
        "\n",
        "def send_solo_drive() -> None:\n",
        "\n",
        "  drive.mount('/content/drive')\n",
        "\n",
        "  send_folder_drive(path_drive_input2 + \"_auto\",\n",
        "                    \"/content/input/\")\n",
        "\n",
        "  # send_folder_drive(path_drive_csv + \"_auto\",\n",
        "  #                   \"/content/csvs\")\n",
        "\n",
        "\n",
        "def ler(path: str) -> str:\n",
        "\n",
        "  with open(path, \"r\", encoding=\"utf-8\") as txt:\n",
        "    return txt.read()\n",
        "\n",
        "\n",
        "\n",
        "def extrair_zip(path, path_output) -> None:\n",
        "  # loading the temp.zip and creating a zip object\n",
        "  with ZipFile(path, 'r') as zObject:\n",
        "\n",
        "      # Extracting all the members of the zip\n",
        "      # into a specific location.\n",
        "      zObject.extractall(\n",
        "          path=path_output)\n",
        "\n",
        "\n",
        "def save_csv(path: str, dados: list) -> None:\n",
        "\n",
        "  columns = [\"empenho\", \"ano\", \"orgao\",\n",
        "             \"credor\", \"empenhada\", \"liquidada\",\n",
        "             \"paga\", \"descricao\", \"data\"]\n",
        "  df = pd.DataFrame(dados, columns=columns)\n",
        "  df.to_csv(path, index=False)\n",
        "\n",
        "\n",
        "def create_table(dados: dict) -> list:\n",
        "\n",
        "  try:\n",
        "\n",
        "    number_columns = len(dados[\"result\"]['qDataPages'][0]['value'])\n",
        "    number_rows = len(dados[\"result\"]['qDataPages'][0]['value'][2]['qMatrix'])\n",
        "\n",
        "    columns_values = []\n",
        "    for n_column in range(number_columns):\n",
        "      atalho = dados[\"result\"]['qDataPages'][0]['value'][n_column]['qMatrix']\n",
        "      columns_values.append([atalho[n_row][0][\"qText\"] for n_row in range(number_rows) ])\n",
        "    table = list(zip(*columns_values))\n",
        "\n",
        "    return table\n",
        "\n",
        "  except:\n",
        "    return []\n",
        "\n",
        "\n",
        "def make_envios_get_data(ano_number: int, municipio_number: int) -> list:\n",
        "\n",
        "  # path_drive_input = f\"/content/drive/MyDrive/DataBase/world_bank/ac/utils/coleta_direta_envios.txt\"\n",
        "  path_drive_input = f\"/content/drive/MyDrive/DataBase/world_bank/ac/utils/enviados_has_filtros.txt\"\n",
        "\n",
        "  has = ler(path_drive_input)\n",
        "  has = json.loads(has)\n",
        "\n",
        "  for xn in has[\"log\"][\"entries\"]:\n",
        "    ws_messages = xn.get(\"_webSocketMessages\")\n",
        "    if ws_messages:\n",
        "      break\n",
        "\n",
        "  sends_hs = [mensage[\"data\"] for mensage in ws_messages if mensage[\"type\"] == \"send\"]\n",
        "  sends_hs = [send for send in sends_hs if not \"GetLayout\" in send and not \"GetEffectiveProperties\" in send]\n",
        "  consulta = '{\"delta\": true, \"handle\": 8, \"method\": \"GetHyperCubeData\", \"params\": [\"/qHyperCubeDef\", [{\"qTop\": 0, \"qLeft\": 0, \"qHeight\": 50, \"qWidth\": 1}, {\"qTop\": 0, \"qLeft\": 1, \"qHeight\": 50, \"qWidth\": 1}, {\"qTop\": 0, \"qLeft\": 2, \"qHeight\": 50, \"qWidth\": 1},  {\"qTop\": 0, \"qLeft\": 3, \"qHeight\": 50, \"qWidth\": 1},  {\"qTop\": 0, \"qLeft\": 4, \"qHeight\": 50, \"qWidth\": 1},  {\"qTop\": 0, \"qLeft\": 5, \"qHeight\": 50, \"qWidth\": 1},  {\"qTop\": 0, \"qLeft\": 6, \"qHeight\": 50, \"qWidth\": 1},  {\"qTop\": 0, \"qLeft\": 7, \"qHeight\": 50, \"qWidth\": 1}, {\"qTop\": 0, \"qLeft\": 8, \"qHeight\": 50, \"qWidth\": 1}]], \"id\": 248, \"jsonrpc\": \"2.0\"}'.replace(\"50\", \"500\")\n",
        "  sends_hs = sends_hs[:62]\n",
        "\n",
        "  get_data = [[n_send, send] for n_send, send in enumerate(sends_hs) if \"GetHyperCubeData\" in send]\n",
        "\n",
        "  remove_data = [row[0] for row in get_data[:-1]]\n",
        "\n",
        "  for remove in sorted(remove_data, reverse=True):\n",
        "    del sends_hs[remove]\n",
        "\n",
        "  # sends_hs[47] = sends_hs[47].replace('\"/qListObjectDef\",[8]', f'\"/qListObjectDef\",[{ano_number}]')\n",
        "  # sends_hs[58] = sends_hs[58].replace('\"/qListObjectDef\",[0]', f'\"/qListObjectDef\",[{municipio_number}]')\n",
        "\n",
        "  sends_hs[45] = sends_hs[45].replace('\"/qListObjectDef\",[9]', f'\"/qListObjectDef\",[{ano_number}]')\n",
        "  sends_hs[55] = sends_hs[55].replace('\"/qListObjectDef\",[0]', f'\"/qListObjectDef\",[{municipio_number}]')\n",
        "\n",
        "  sends_hs[-1] = consulta\n",
        "\n",
        "  return sends_hs"
      ],
      "metadata": {
        "id": "pG1jWWcIzWTg"
      },
      "execution_count": null,
      "outputs": []
    },
    {
      "cell_type": "markdown",
      "metadata": {
        "id": "TTb_aULe8FOB"
      },
      "source": [
        "# Extrair CSV"
      ]
    },
    {
      "cell_type": "code",
      "execution_count": null,
      "metadata": {
        "id": "hgNVIzOk8FmN"
      },
      "outputs": [],
      "source": [
        "# extrair_zip(path=path_drive_csv + \".zip\",\n",
        "#         path_output=\"/content/csvs\")"
      ]
    },
    {
      "cell_type": "code",
      "execution_count": null,
      "metadata": {
        "id": "RvsOl64t8H2c"
      },
      "outputs": [],
      "source": [
        "extrair_zip(path=path_drive_input + \".zip\",\n",
        "        path_output=\"/content/input\")"
      ]
    },
    {
      "cell_type": "markdown",
      "metadata": {
        "id": "jCsWynZTLcJY"
      },
      "source": [
        "### Extrair Auto-Save"
      ]
    },
    {
      "cell_type": "code",
      "execution_count": null,
      "metadata": {
        "id": "RHGcjwumLlcU"
      },
      "outputs": [],
      "source": [
        "# extrair_zip(path=path_drive_csv2 + \"_auto\" + '.zip',\n",
        "#         path_output=\"/content/csvs\")"
      ]
    },
    {
      "cell_type": "code",
      "execution_count": null,
      "metadata": {
        "id": "bQXSGmDZIHaE"
      },
      "outputs": [],
      "source": [
        "extrair_zip(path=path_drive_input2 + \"_auto\" + '.zip',\n",
        "        path_output=\"/content/input\")"
      ]
    },
    {
      "cell_type": "markdown",
      "source": [
        "# Carregar Envios"
      ],
      "metadata": {
        "id": "kdyldVtd4xRI"
      }
    },
    {
      "cell_type": "code",
      "source": [
        "path_drive_input = f\"/content/drive/MyDrive/DataBase/world_bank/ac/utils/enviados_has_filtros.txt\"\n",
        "has = ler(path_drive_input)\n",
        "has = json.loads(has)"
      ],
      "metadata": {
        "id": "nb5va4XG2A-Z"
      },
      "execution_count": null,
      "outputs": []
    },
    {
      "cell_type": "code",
      "source": [
        "for xn in has[\"log\"][\"entries\"]:\n",
        "  ws_messages = xn.get(\"_webSocketMessages\")\n",
        "  if ws_messages:\n",
        "    break\n",
        "sends_hs = [mensage[\"data\"] for mensage in ws_messages if mensage[\"type\"] == \"send\"]\n",
        "sends_hs = [send for send in sends_hs if not \"GetLayout\" in send and not \"GetEffectiveProperties\" in send]"
      ],
      "metadata": {
        "id": "9BeJjxyX_UwM"
      },
      "execution_count": null,
      "outputs": []
    },
    {
      "cell_type": "code",
      "source": [
        "porta = '{\"delta\": true, \"handle\": 8, \"method\": \"GetHyperCubeData\", \"params\": [\"/qHyperCubeDef\", [{\"qTop\": 0, \"qLeft\": 0, \"qHeight\": 50, \"qWidth\": 1}, {\"qTop\": 0, \"qLeft\": 1, \"qHeight\": 50, \"qWidth\": 1}, {\"qTop\": 0, \"qLeft\": 2, \"qHeight\": 50, \"qWidth\": 1},  {\"qTop\": 0, \"qLeft\": 3, \"qHeight\": 50, \"qWidth\": 1},  {\"qTop\": 0, \"qLeft\": 4, \"qHeight\": 50, \"qWidth\": 1},  {\"qTop\": 0, \"qLeft\": 5, \"qHeight\": 50, \"qWidth\": 1},  {\"qTop\": 0, \"qLeft\": 6, \"qHeight\": 50, \"qWidth\": 1},  {\"qTop\": 0, \"qLeft\": 7, \"qHeight\": 50, \"qWidth\": 1}, {\"qTop\": 0, \"qLeft\": 8, \"qHeight\": 50, \"qWidth\": 1}]], \"id\": 248, \"jsonrpc\": \"2.0\"}'.replace(\"50\", \"1000\")"
      ],
      "metadata": {
        "id": "xjW8wpDa5Kcf"
      },
      "execution_count": null,
      "outputs": []
    },
    {
      "cell_type": "code",
      "source": [
        "get_data = [[n_send, send] for n_send, send in enumerate(sends_hs) if \"GetHyperCubeData\" in send]"
      ],
      "metadata": {
        "id": "zLzAxqIwAr01"
      },
      "execution_count": null,
      "outputs": []
    },
    {
      "cell_type": "code",
      "source": [
        "get_data"
      ],
      "metadata": {
        "id": "T9nUreCg29f-"
      },
      "execution_count": null,
      "outputs": []
    },
    {
      "cell_type": "code",
      "source": [
        "select_filtes = [[n_send, send] for n_send, send in enumerate(sends_hs) if \"SelectListObjectValues\" in send]"
      ],
      "metadata": {
        "id": "1UFRuDsy34up"
      },
      "execution_count": null,
      "outputs": []
    },
    {
      "cell_type": "code",
      "source": [
        "select_filtes"
      ],
      "metadata": {
        "id": "SBhhn3xJ30ez"
      },
      "execution_count": null,
      "outputs": []
    },
    {
      "cell_type": "code",
      "source": [
        "sends_hs = sends_hs[:62]"
      ],
      "metadata": {
        "id": "kq1yAvRQtfpv"
      },
      "execution_count": null,
      "outputs": []
    },
    {
      "cell_type": "code",
      "source": [
        "remove_data = [row[0] for row in get_data[:-1]]\n",
        "remove_data"
      ],
      "metadata": {
        "colab": {
          "base_uri": "https://localhost:8080/"
        },
        "id": "BEkV_i25DT6Z",
        "outputId": "ec794026-2ddb-4d8f-99da-8385dd80f912"
      },
      "execution_count": null,
      "outputs": [
        {
          "output_type": "execute_result",
          "data": {
            "text/plain": [
              "[35, 39, 45, 50]"
            ]
          },
          "metadata": {},
          "execution_count": 206
        }
      ]
    },
    {
      "cell_type": "code",
      "source": [
        "for remove in sorted(remove_data, reverse=True):\n",
        "  del sends_hs[remove]"
      ],
      "metadata": {
        "id": "4sGrS8Xav1J7"
      },
      "execution_count": null,
      "outputs": []
    },
    {
      "cell_type": "code",
      "source": [
        "ano_number = 8\n",
        "municipio_number = 0\n",
        "sends_hs[47] = sends_hs[47].replace('\"/qListObjectDef\",[8]', f'\"/qListObjectDef\",[{ano_number}]')\n",
        "sends_hs[58] = sends_hs[58].replace('\"/qListObjectDef\",[8]', f'\"/qListObjectDef\",[{municipio_number}]')\n",
        "sends_hs[-1] = porta"
      ],
      "metadata": {
        "id": "RdwMVTCPyCK5"
      },
      "execution_count": null,
      "outputs": []
    },
    {
      "cell_type": "markdown",
      "source": [
        "# Pegar anos e Municipios"
      ],
      "metadata": {
        "id": "v9W1Bb8pk5Jk"
      }
    },
    {
      "cell_type": "code",
      "source": [
        "path_drive_input = f\"/content/drive/MyDrive/DataBase/world_bank/ac/utils/enviados_has_filtros.txt\"\n",
        "has = ler(path_drive_input)\n",
        "has = json.loads(has)\n",
        "for xn in has[\"log\"][\"entries\"]:\n",
        "  ws_messages = xn.get(\"_webSocketMessages\")\n",
        "  if ws_messages:\n",
        "    break\n",
        "sends_hs = [mensage[\"data\"] for mensage in ws_messages if mensage[\"type\"] == \"send\"]\n",
        "sends_hs = [send for send in sends_hs if not \"GetLayout\" in send and not \"GetEffectiveProperties\" in send]"
      ],
      "metadata": {
        "id": "O3sPe4lok7H7"
      },
      "execution_count": null,
      "outputs": []
    },
    {
      "cell_type": "code",
      "source": [
        "sends_hs = sends_hs[:57]"
      ],
      "metadata": {
        "id": "q_sFNjihmBDX"
      },
      "execution_count": null,
      "outputs": []
    },
    {
      "cell_type": "code",
      "source": [
        "get_list = [[n_send, send] for n_send, send in enumerate(sends_hs) if \"GetListObjectData\" in send]"
      ],
      "metadata": {
        "id": "9oZy_9uWlEQu"
      },
      "execution_count": null,
      "outputs": []
    },
    {
      "cell_type": "code",
      "source": [
        "remove_data = [row[0] for row in get_list[1:-1]]\n",
        "remove_data"
      ],
      "metadata": {
        "colab": {
          "base_uri": "https://localhost:8080/"
        },
        "id": "4-pG07xOnqLg",
        "outputId": "6458be98-5f74-45b7-b07f-bbbd8a820b4c"
      },
      "execution_count": null,
      "outputs": [
        {
          "output_type": "execute_result",
          "data": {
            "text/plain": [
              "[44, 47, 52]"
            ]
          },
          "metadata": {},
          "execution_count": 19
        }
      ]
    },
    {
      "cell_type": "code",
      "source": [
        "for remove in sorted(remove_data, reverse=True):\n",
        "  del sends_hs[remove]"
      ],
      "metadata": {
        "id": "eAuZBDx8oL6Q"
      },
      "execution_count": null,
      "outputs": []
    },
    {
      "cell_type": "markdown",
      "source": [
        "## Coleta de anos e municipio"
      ],
      "metadata": {
        "id": "8GHIL8QRllMx"
      }
    },
    {
      "cell_type": "code",
      "source": [
        "async def scrape_website_ano_municipio():\n",
        "    # Replace the URL with the WebSocket endpoint of the target website\n",
        "\n",
        "    websocket_url = \"ws://qlik.tceac.tc.br/app/cb9dbe12-5f79-4af9-93a6-a778ae7ffffa?reloadUri=http%3A%2F%2Fqlik.tceac.tc.br%2Fextensions%2Fgastospublicos%2Fgastospublicos.html%3F_ga%3D2.234985153.1351290455.1696941468-160473323.1696941468%26_gl%3D1*1udkbll*_ga*MTYwNDczMzIzLjE2OTY5NDE0Njg.*_ga_7W9X95Q11R*MTY5Njk0MTQ2Ny4xLjEuMTY5Njk0MTU4NS4wLjAuMA..*_ga_BGWR95NM02*MTY5Njk0MTQ2Ny4xLjEuMTY5Njk0MTU4NS4wLjAuMA..\"\n",
        "\n",
        "    dados = []\n",
        "    dado = None\n",
        "\n",
        "    async with websockets.connect(websocket_url) as websocket:\n",
        "        print(f\"Connected to {websocket_url}\")\n",
        "\n",
        "        for x in range(2):\n",
        "          message = await websocket.recv()\n",
        "          print(f\"Received message: {message}\")\n",
        "\n",
        "        for send in sends_hs:\n",
        "\n",
        "          await websocket.send(send)\n",
        "\n",
        "          message = await websocket.recv()\n",
        "\n",
        "          if \"GetListObjectData\" in send:\n",
        "            print(f\"Received message: {message}\")\n",
        "            dado = json.loads(message)\n",
        "            dados.append(dado)\n",
        "\n",
        "    return dados\n",
        "\n",
        "# Run the scraper\n",
        "if __name__ == \"__main__\":\n",
        "  nest_asyncio.apply()\n",
        "  dados = asyncio.get_event_loop().run_until_complete(asyncio.gather(scrape_website_ano_municipio()))[0]\n"
      ],
      "metadata": {
        "colab": {
          "base_uri": "https://localhost:8080/"
        },
        "id": "WM08I1oLlozQ",
        "outputId": "642f477e-ae73-4b12-db65-c21fb9290011"
      },
      "execution_count": null,
      "outputs": [
        {
          "output_type": "stream",
          "name": "stdout",
          "text": [
            "Connected to ws://qlik.tceac.tc.br/app/cb9dbe12-5f79-4af9-93a6-a778ae7ffffa?reloadUri=http%3A%2F%2Fqlik.tceac.tc.br%2Fextensions%2Fgastospublicos%2Fgastospublicos.html%3F_ga%3D2.234985153.1351290455.1696941468-160473323.1696941468%26_gl%3D1*1udkbll*_ga*MTYwNDczMzIzLjE2OTY5NDE0Njg.*_ga_7W9X95Q11R*MTY5Njk0MTQ2Ny4xLjEuMTY5Njk0MTU4NS4wLjAuMA..*_ga_BGWR95NM02*MTY5Njk0MTQ2Ny4xLjEuMTY5Njk0MTU4NS4wLjAuMA..\n",
            "Received message: {\"jsonrpc\":\"2.0\",\"method\":\"OnAuthenticationInformation\",\"params\":{\"userId\":\"anonymousd198541e-78e6-47a2-b5bc-92065b96b613\",\"userDirectory\":\"NONE\",\"serverNodeId\":\"7df7e972-1b99-4be9-b360-1c72db7a14fd\",\"mustAuthenticate\":false}}\n",
            "Received message: {\"jsonrpc\":\"2.0\",\"method\":\"OnConnected\",\"params\":{\"qSessionState\":\"SESSION_CREATED\"}}\n",
            "Received message: {\"jsonrpc\":\"2.0\",\"id\":84,\"delta\":true,\"result\":{\"qDataPages\":[{\"op\":\"add\",\"path\":\"/\",\"value\":[{\"qMatrix\":[[{\"qText\":\"2023\",\"qNum\":2023,\"qElemNumber\":9,\"qState\":\"S\"}],[{\"qText\":\"2014\",\"qNum\":2014,\"qElemNumber\":0,\"qState\":\"A\"}],[{\"qText\":\"2015\",\"qNum\":2015,\"qElemNumber\":1,\"qState\":\"A\"}],[{\"qText\":\"2016\",\"qNum\":2016,\"qElemNumber\":2,\"qState\":\"A\"}],[{\"qText\":\"2017\",\"qNum\":2017,\"qElemNumber\":3,\"qState\":\"A\"}],[{\"qText\":\"2018\",\"qNum\":2018,\"qElemNumber\":4,\"qState\":\"A\"}],[{\"qText\":\"2019\",\"qNum\":2019,\"qElemNumber\":5,\"qState\":\"A\"}],[{\"qText\":\"2020\",\"qNum\":2020,\"qElemNumber\":6,\"qState\":\"A\"}],[{\"qText\":\"2021\",\"qNum\":2021,\"qElemNumber\":7,\"qState\":\"A\"}],[{\"qText\":\"2022\",\"qNum\":2022,\"qElemNumber\":8,\"qState\":\"A\"}]],\"qTails\":[],\"qArea\":{\"qLeft\":0,\"qTop\":0,\"qWidth\":1,\"qHeight\":10}},{\"qMatrix\":[[{\"qText\":\"2023\",\"qNum\":2023,\"qElemNumber\":9,\"qState\":\"S\"}],[{\"qText\":\"2014\",\"qNum\":2014,\"qElemNumber\":0,\"qState\":\"A\"}],[{\"qText\":\"2015\",\"qNum\":2015,\"qElemNumber\":1,\"qState\":\"A\"}],[{\"qText\":\"2016\",\"qNum\":2016,\"qElemNumber\":2,\"qState\":\"A\"}],[{\"qText\":\"2017\",\"qNum\":2017,\"qElemNumber\":3,\"qState\":\"A\"}],[{\"qText\":\"2018\",\"qNum\":2018,\"qElemNumber\":4,\"qState\":\"A\"}],[{\"qText\":\"2019\",\"qNum\":2019,\"qElemNumber\":5,\"qState\":\"A\"}],[{\"qText\":\"2020\",\"qNum\":2020,\"qElemNumber\":6,\"qState\":\"A\"}],[{\"qText\":\"2021\",\"qNum\":2021,\"qElemNumber\":7,\"qState\":\"A\"}],[{\"qText\":\"2022\",\"qNum\":2022,\"qElemNumber\":8,\"qState\":\"A\"}]],\"qTails\":[],\"qArea\":{\"qLeft\":0,\"qTop\":0,\"qWidth\":1,\"qHeight\":10}}]}]}}\n",
            "Received message: {\"jsonrpc\":\"2.0\",\"id\":163,\"delta\":true,\"result\":{\"qDataPages\":[{\"op\":\"add\",\"path\":\"/\",\"value\":[{\"qMatrix\":[[{\"qText\":\"ACRELÂNDIA\",\"qNum\":\"NaN\",\"qElemNumber\":0,\"qState\":\"O\"}],[{\"qText\":\"ASSIS BRASIL\",\"qNum\":\"NaN\",\"qElemNumber\":1,\"qState\":\"O\"}],[{\"qText\":\"BRASILÉIA\",\"qNum\":\"NaN\",\"qElemNumber\":2,\"qState\":\"O\"}],[{\"qText\":\"BUJARI\",\"qNum\":\"NaN\",\"qElemNumber\":3,\"qState\":\"O\"}],[{\"qText\":\"CAPIXABA\",\"qNum\":\"NaN\",\"qElemNumber\":4,\"qState\":\"O\"}],[{\"qText\":\"CRUZEIRO DO SUL\",\"qNum\":\"NaN\",\"qElemNumber\":5,\"qState\":\"O\"}],[{\"qText\":\"EPITACIOLÂNDIA\",\"qNum\":\"NaN\",\"qElemNumber\":6,\"qState\":\"O\"}],[{\"qText\":\"ESTADO DO ACRE\",\"qNum\":\"NaN\",\"qElemNumber\":22,\"qState\":\"O\"}],[{\"qText\":\"FEIJÓ\",\"qNum\":\"NaN\",\"qElemNumber\":7,\"qState\":\"O\"}],[{\"qText\":\"JORDÃO\",\"qNum\":\"NaN\",\"qElemNumber\":8,\"qState\":\"O\"}],[{\"qText\":\"MÂNCIO LIMA\",\"qNum\":\"NaN\",\"qElemNumber\":9,\"qState\":\"O\"}],[{\"qText\":\"MANOEL URBANO\",\"qNum\":\"NaN\",\"qElemNumber\":10,\"qState\":\"O\"}],[{\"qText\":\"MARECHAL THAUMATURGO\",\"qNum\":\"NaN\",\"qElemNumber\":11,\"qState\":\"O\"}],[{\"qText\":\"PLÁCIDO DE CASTRO\",\"qNum\":\"NaN\",\"qElemNumber\":12,\"qState\":\"O\"}],[{\"qText\":\"PORTO ACRE\",\"qNum\":\"NaN\",\"qElemNumber\":13,\"qState\":\"O\"}],[{\"qText\":\"PORTO WALTER\",\"qNum\":\"NaN\",\"qElemNumber\":14,\"qState\":\"O\"}],[{\"qText\":\"RIO BRANCO\",\"qNum\":\"NaN\",\"qElemNumber\":15,\"qState\":\"O\"}],[{\"qText\":\"RODRIGUES ALVES\",\"qNum\":\"NaN\",\"qElemNumber\":16,\"qState\":\"O\"}],[{\"qText\":\"SANTA ROSA DO PURUS\",\"qNum\":\"NaN\",\"qElemNumber\":17,\"qState\":\"O\"}],[{\"qText\":\"SENA MADUREIRA\",\"qNum\":\"NaN\",\"qElemNumber\":18,\"qState\":\"O\"}],[{\"qText\":\"SENADOR GUIOMARD\",\"qNum\":\"NaN\",\"qElemNumber\":19,\"qState\":\"O\"}],[{\"qText\":\"TARAUACÁ\",\"qNum\":\"NaN\",\"qElemNumber\":20,\"qState\":\"O\"}],[{\"qText\":\"XAPURI\",\"qNum\":\"NaN\",\"qElemNumber\":21,\"qState\":\"O\"}]],\"qTails\":[],\"qArea\":{\"qLeft\":0,\"qTop\":0,\"qWidth\":1,\"qHeight\":23}},{\"qMatrix\":[[{\"qText\":\"ACRELÂNDIA\",\"qNum\":\"NaN\",\"qElemNumber\":0,\"qState\":\"O\"}],[{\"qText\":\"ASSIS BRASIL\",\"qNum\":\"NaN\",\"qElemNumber\":1,\"qState\":\"O\"}],[{\"qText\":\"BRASILÉIA\",\"qNum\":\"NaN\",\"qElemNumber\":2,\"qState\":\"O\"}],[{\"qText\":\"BUJARI\",\"qNum\":\"NaN\",\"qElemNumber\":3,\"qState\":\"O\"}],[{\"qText\":\"CAPIXABA\",\"qNum\":\"NaN\",\"qElemNumber\":4,\"qState\":\"O\"}],[{\"qText\":\"CRUZEIRO DO SUL\",\"qNum\":\"NaN\",\"qElemNumber\":5,\"qState\":\"O\"}],[{\"qText\":\"EPITACIOLÂNDIA\",\"qNum\":\"NaN\",\"qElemNumber\":6,\"qState\":\"O\"}],[{\"qText\":\"ESTADO DO ACRE\",\"qNum\":\"NaN\",\"qElemNumber\":22,\"qState\":\"O\"}],[{\"qText\":\"FEIJÓ\",\"qNum\":\"NaN\",\"qElemNumber\":7,\"qState\":\"O\"}],[{\"qText\":\"JORDÃO\",\"qNum\":\"NaN\",\"qElemNumber\":8,\"qState\":\"O\"}],[{\"qText\":\"MÂNCIO LIMA\",\"qNum\":\"NaN\",\"qElemNumber\":9,\"qState\":\"O\"}],[{\"qText\":\"MANOEL URBANO\",\"qNum\":\"NaN\",\"qElemNumber\":10,\"qState\":\"O\"}],[{\"qText\":\"MARECHAL THAUMATURGO\",\"qNum\":\"NaN\",\"qElemNumber\":11,\"qState\":\"O\"}],[{\"qText\":\"PLÁCIDO DE CASTRO\",\"qNum\":\"NaN\",\"qElemNumber\":12,\"qState\":\"O\"}],[{\"qText\":\"PORTO ACRE\",\"qNum\":\"NaN\",\"qElemNumber\":13,\"qState\":\"O\"}],[{\"qText\":\"PORTO WALTER\",\"qNum\":\"NaN\",\"qElemNumber\":14,\"qState\":\"O\"}],[{\"qText\":\"RIO BRANCO\",\"qNum\":\"NaN\",\"qElemNumber\":15,\"qState\":\"O\"}],[{\"qText\":\"RODRIGUES ALVES\",\"qNum\":\"NaN\",\"qElemNumber\":16,\"qState\":\"O\"}],[{\"qText\":\"SANTA ROSA DO PURUS\",\"qNum\":\"NaN\",\"qElemNumber\":17,\"qState\":\"O\"}],[{\"qText\":\"SENA MADUREIRA\",\"qNum\":\"NaN\",\"qElemNumber\":18,\"qState\":\"O\"}],[{\"qText\":\"SENADOR GUIOMARD\",\"qNum\":\"NaN\",\"qElemNumber\":19,\"qState\":\"O\"}],[{\"qText\":\"TARAUACÁ\",\"qNum\":\"NaN\",\"qElemNumber\":20,\"qState\":\"O\"}],[{\"qText\":\"XAPURI\",\"qNum\":\"NaN\",\"qElemNumber\":21,\"qState\":\"O\"}]],\"qTails\":[],\"qArea\":{\"qLeft\":0,\"qTop\":0,\"qWidth\":1,\"qHeight\":23}}]}]}}\n"
          ]
        }
      ]
    },
    {
      "cell_type": "code",
      "source": [
        "def get_anos_municipios_from_dados(dados: list) -> list:\n",
        "\n",
        "  infos = []\n",
        "  for dado in dados:\n",
        "    path_temp = dado[\"result\"][\"qDataPages\"][0][\"value\"][0][\"qMatrix\"]\n",
        "    info = {path[0][\"qText\"]: path[0][\"qElemNumber\"] for path in path_temp}\n",
        "    infos.append(info)\n",
        "\n",
        "  return infos"
      ],
      "metadata": {
        "id": "SHIsAmz9sTEb"
      },
      "execution_count": null,
      "outputs": []
    },
    {
      "cell_type": "code",
      "source": [
        "anos, municipios = get_anos_municipios_from_dados(dados)"
      ],
      "metadata": {
        "id": "-1ImuRoWrBnn"
      },
      "execution_count": null,
      "outputs": []
    },
    {
      "cell_type": "markdown",
      "source": [
        "# Pegar dados diretos"
      ],
      "metadata": {
        "id": "LO86wTmz1BZx"
      }
    },
    {
      "cell_type": "code",
      "source": [
        "async def scrape_website():\n",
        "    # Replace the URL with the WebSocket endpoint of the target website\n",
        "\n",
        "    websocket_url = \"ws://qlik.tceac.tc.br/app/cb9dbe12-5f79-4af9-93a6-a778ae7ffffa?reloadUri=http%3A%2F%2Fqlik.tceac.tc.br%2Fextensions%2Fgastospublicos%2Fgastospublicos.html%3F_ga%3D2.234985153.1351290455.1696941468-160473323.1696941468%26_gl%3D1*1udkbll*_ga*MTYwNDczMzIzLjE2OTY5NDE0Njg.*_ga_7W9X95Q11R*MTY5Njk0MTQ2Ny4xLjEuMTY5Njk0MTU4NS4wLjAuMA..*_ga_BGWR95NM02*MTY5Njk0MTQ2Ny4xLjEuMTY5Njk0MTU4NS4wLjAuMA..\"\n",
        "\n",
        "    dados = []\n",
        "    pagina = 0\n",
        "    dado = None\n",
        "\n",
        "    async with websockets.connect(websocket_url, ping_interval=None) as websocket:\n",
        "        # print(f\"Connected to {websocket_url}\")\n",
        "\n",
        "        for x in range(2):\n",
        "          message = await websocket.recv()\n",
        "          # print(f\"Received message: {message}\")\n",
        "\n",
        "        for send in sends_hs:\n",
        "\n",
        "          await websocket.send(send)\n",
        "\n",
        "          message = await websocket.recv()\n",
        "\n",
        "          if \"GetHyperCubeData\" in send:\n",
        "            # print(f\"Received message: {message}\")\n",
        "            dado = json.loads(message)\n",
        "            dado = create_table(dado)\n",
        "            dados += dado\n",
        "            break\n",
        "\n",
        "        while dado:\n",
        "\n",
        "          # print(\"Proxima Pagina\")\n",
        "          send = send.replace(f'\"qTop\": {pagina},', f'\"qTop\": {pagina + 500},')\n",
        "          await websocket.send(send)\n",
        "          message = await websocket.recv()\n",
        "          dado = json.loads(message)\n",
        "          dado = create_table(dado)\n",
        "          dados += dado\n",
        "          pagina += 500\n",
        "          # print(\"Intervalo\")\n",
        "          sleep(1)\n",
        "\n",
        "\n",
        "    return dados\n",
        "\n",
        "# Run the scraper\n",
        "if __name__ == \"__main__\":\n",
        "\n",
        "  nest_asyncio.apply()\n",
        "\n",
        "  for text_municipio, municipio_number, in municipios.items():\n",
        "    for text_ano, ano_number, in anos.items():\n",
        "\n",
        "      print(f\"Coletando {text_municipio} ano: {text_ano}\")\n",
        "\n",
        "      path_base = f\"/content/input/{text_ano}\"\n",
        "      path = path_base + f\"/{text_municipio}.csv\"\n",
        "\n",
        "      if not os.path.exists(path):\n",
        "\n",
        "        sends_hs = make_envios_get_data(ano_number=ano_number, municipio_number=municipio_number)\n",
        "        dados = asyncio.get_event_loop().run_until_complete(asyncio.gather(scrape_website()))\n",
        "        dados = list(set(dados[0]))\n",
        "\n",
        "        os.makedirs(path_base, exist_ok=True)\n",
        "\n",
        "        save_csv(path, dados)\n",
        "\n",
        "        print(\"Intervalo da sessão\")\n",
        "        sleep(5)\n",
        "        print(\"Mandando drive\")\n",
        "        send_solo_drive()\n",
        "        print(\"-\" * 30)"
      ],
      "metadata": {
        "colab": {
          "base_uri": "https://localhost:8080/"
        },
        "id": "P4leixth1EbS",
        "outputId": "f940c30b-7927-4f92-94e5-21b89fee2479"
      },
      "execution_count": null,
      "outputs": [
        {
          "output_type": "stream",
          "name": "stdout",
          "text": [
            "Coletando ACRELÂNDIA ano: 2023\n",
            "Coletando ACRELÂNDIA ano: 2014\n",
            "Coletando ACRELÂNDIA ano: 2015\n",
            "Coletando ACRELÂNDIA ano: 2016\n",
            "Coletando ACRELÂNDIA ano: 2017\n",
            "Coletando ACRELÂNDIA ano: 2018\n",
            "Coletando ACRELÂNDIA ano: 2019\n",
            "Coletando ACRELÂNDIA ano: 2020\n",
            "Coletando ACRELÂNDIA ano: 2021\n",
            "Coletando ACRELÂNDIA ano: 2022\n",
            "Coletando ASSIS BRASIL ano: 2023\n",
            "Coletando ASSIS BRASIL ano: 2014\n",
            "Coletando ASSIS BRASIL ano: 2015\n",
            "Coletando ASSIS BRASIL ano: 2016\n",
            "Coletando ASSIS BRASIL ano: 2017\n",
            "Coletando ASSIS BRASIL ano: 2018\n",
            "Coletando ASSIS BRASIL ano: 2019\n",
            "Coletando ASSIS BRASIL ano: 2020\n",
            "Coletando ASSIS BRASIL ano: 2021\n",
            "Coletando ASSIS BRASIL ano: 2022\n",
            "Coletando BRASILÉIA ano: 2023\n",
            "Coletando BRASILÉIA ano: 2014\n",
            "Coletando BRASILÉIA ano: 2015\n",
            "Coletando BRASILÉIA ano: 2016\n",
            "Coletando BRASILÉIA ano: 2017\n",
            "Coletando BRASILÉIA ano: 2018\n",
            "Coletando BRASILÉIA ano: 2019\n",
            "Coletando BRASILÉIA ano: 2020\n",
            "Coletando BRASILÉIA ano: 2021\n",
            "Coletando BRASILÉIA ano: 2022\n",
            "Coletando BUJARI ano: 2023\n",
            "Coletando BUJARI ano: 2014\n",
            "Coletando BUJARI ano: 2015\n",
            "Coletando BUJARI ano: 2016\n",
            "Coletando BUJARI ano: 2017\n",
            "Coletando BUJARI ano: 2018\n",
            "Coletando BUJARI ano: 2019\n",
            "Coletando BUJARI ano: 2020\n",
            "Coletando BUJARI ano: 2021\n",
            "Coletando BUJARI ano: 2022\n",
            "Coletando CAPIXABA ano: 2023\n",
            "Coletando CAPIXABA ano: 2014\n",
            "Coletando CAPIXABA ano: 2015\n",
            "Coletando CAPIXABA ano: 2016\n",
            "Coletando CAPIXABA ano: 2017\n",
            "Coletando CAPIXABA ano: 2018\n",
            "Coletando CAPIXABA ano: 2019\n",
            "Coletando CAPIXABA ano: 2020\n",
            "Coletando CAPIXABA ano: 2021\n",
            "Coletando CAPIXABA ano: 2022\n",
            "Coletando CRUZEIRO DO SUL ano: 2023\n",
            "Coletando CRUZEIRO DO SUL ano: 2014\n",
            "Coletando CRUZEIRO DO SUL ano: 2015\n",
            "Coletando CRUZEIRO DO SUL ano: 2016\n",
            "Coletando CRUZEIRO DO SUL ano: 2017\n",
            "Coletando CRUZEIRO DO SUL ano: 2018\n",
            "Coletando CRUZEIRO DO SUL ano: 2019\n",
            "Coletando CRUZEIRO DO SUL ano: 2020\n",
            "Coletando CRUZEIRO DO SUL ano: 2021\n",
            "Coletando CRUZEIRO DO SUL ano: 2022\n",
            "Coletando EPITACIOLÂNDIA ano: 2023\n",
            "Coletando EPITACIOLÂNDIA ano: 2014\n",
            "Coletando EPITACIOLÂNDIA ano: 2015\n",
            "Coletando EPITACIOLÂNDIA ano: 2016\n",
            "Coletando EPITACIOLÂNDIA ano: 2017\n",
            "Coletando EPITACIOLÂNDIA ano: 2018\n",
            "Coletando EPITACIOLÂNDIA ano: 2019\n",
            "Coletando EPITACIOLÂNDIA ano: 2020\n",
            "Coletando EPITACIOLÂNDIA ano: 2021\n",
            "Coletando EPITACIOLÂNDIA ano: 2022\n",
            "Coletando ESTADO DO ACRE ano: 2023\n",
            "Coletando ESTADO DO ACRE ano: 2014\n",
            "Coletando ESTADO DO ACRE ano: 2015\n",
            "Coletando ESTADO DO ACRE ano: 2016\n",
            "Coletando ESTADO DO ACRE ano: 2017\n",
            "Coletando ESTADO DO ACRE ano: 2018\n",
            "Coletando ESTADO DO ACRE ano: 2019\n",
            "Coletando ESTADO DO ACRE ano: 2020\n",
            "Coletando ESTADO DO ACRE ano: 2021\n",
            "Coletando ESTADO DO ACRE ano: 2022\n",
            "Coletando FEIJÓ ano: 2023\n",
            "Coletando FEIJÓ ano: 2014\n",
            "Coletando FEIJÓ ano: 2015\n",
            "Coletando FEIJÓ ano: 2016\n",
            "Coletando FEIJÓ ano: 2017\n",
            "Coletando FEIJÓ ano: 2018\n",
            "Coletando FEIJÓ ano: 2019\n",
            "Coletando FEIJÓ ano: 2020\n",
            "Coletando FEIJÓ ano: 2021\n",
            "Coletando FEIJÓ ano: 2022\n",
            "Coletando JORDÃO ano: 2023\n",
            "Coletando JORDÃO ano: 2014\n",
            "Coletando JORDÃO ano: 2015\n",
            "Coletando JORDÃO ano: 2016\n",
            "Coletando JORDÃO ano: 2017\n",
            "Coletando JORDÃO ano: 2018\n",
            "Coletando JORDÃO ano: 2019\n",
            "Coletando JORDÃO ano: 2020\n",
            "Coletando JORDÃO ano: 2021\n",
            "Coletando JORDÃO ano: 2022\n",
            "Coletando MÂNCIO LIMA ano: 2023\n",
            "Coletando MÂNCIO LIMA ano: 2014\n",
            "Coletando MÂNCIO LIMA ano: 2015\n",
            "Coletando MÂNCIO LIMA ano: 2016\n",
            "Coletando MÂNCIO LIMA ano: 2017\n",
            "Coletando MÂNCIO LIMA ano: 2018\n",
            "Coletando MÂNCIO LIMA ano: 2019\n",
            "Coletando MÂNCIO LIMA ano: 2020\n",
            "Coletando MÂNCIO LIMA ano: 2021\n",
            "Coletando MÂNCIO LIMA ano: 2022\n",
            "Coletando MANOEL URBANO ano: 2023\n",
            "Coletando MANOEL URBANO ano: 2014\n",
            "Coletando MANOEL URBANO ano: 2015\n",
            "Coletando MANOEL URBANO ano: 2016\n",
            "Coletando MANOEL URBANO ano: 2017\n",
            "Coletando MANOEL URBANO ano: 2018\n",
            "Coletando MANOEL URBANO ano: 2019\n",
            "Coletando MANOEL URBANO ano: 2020\n",
            "Coletando MANOEL URBANO ano: 2021\n",
            "Coletando MANOEL URBANO ano: 2022\n",
            "Coletando MARECHAL THAUMATURGO ano: 2023\n",
            "Coletando MARECHAL THAUMATURGO ano: 2014\n",
            "Coletando MARECHAL THAUMATURGO ano: 2015\n",
            "Coletando MARECHAL THAUMATURGO ano: 2016\n",
            "Coletando MARECHAL THAUMATURGO ano: 2017\n",
            "Coletando MARECHAL THAUMATURGO ano: 2018\n",
            "Coletando MARECHAL THAUMATURGO ano: 2019\n",
            "Coletando MARECHAL THAUMATURGO ano: 2020\n",
            "Coletando MARECHAL THAUMATURGO ano: 2021\n",
            "Coletando MARECHAL THAUMATURGO ano: 2022\n",
            "Coletando PLÁCIDO DE CASTRO ano: 2023\n",
            "Coletando PLÁCIDO DE CASTRO ano: 2014\n",
            "Coletando PLÁCIDO DE CASTRO ano: 2015\n",
            "Coletando PLÁCIDO DE CASTRO ano: 2016\n",
            "Coletando PLÁCIDO DE CASTRO ano: 2017\n",
            "Coletando PLÁCIDO DE CASTRO ano: 2018\n",
            "Coletando PLÁCIDO DE CASTRO ano: 2019\n",
            "Coletando PLÁCIDO DE CASTRO ano: 2020\n",
            "Coletando PLÁCIDO DE CASTRO ano: 2021\n",
            "Coletando PLÁCIDO DE CASTRO ano: 2022\n",
            "Coletando PORTO ACRE ano: 2023\n",
            "Coletando PORTO ACRE ano: 2014\n",
            "Coletando PORTO ACRE ano: 2015\n",
            "Coletando PORTO ACRE ano: 2016\n",
            "Coletando PORTO ACRE ano: 2017\n",
            "Coletando PORTO ACRE ano: 2018\n",
            "Coletando PORTO ACRE ano: 2019\n",
            "Coletando PORTO ACRE ano: 2020\n",
            "Coletando PORTO ACRE ano: 2021\n",
            "Coletando PORTO ACRE ano: 2022\n",
            "Coletando PORTO WALTER ano: 2023\n",
            "Coletando PORTO WALTER ano: 2014\n",
            "Coletando PORTO WALTER ano: 2015\n",
            "Coletando PORTO WALTER ano: 2016\n",
            "Coletando PORTO WALTER ano: 2017\n",
            "Coletando PORTO WALTER ano: 2018\n",
            "Coletando PORTO WALTER ano: 2019\n",
            "Coletando PORTO WALTER ano: 2020\n",
            "Coletando PORTO WALTER ano: 2021\n",
            "Coletando PORTO WALTER ano: 2022\n",
            "Coletando RIO BRANCO ano: 2023\n",
            "Coletando RIO BRANCO ano: 2014\n",
            "Coletando RIO BRANCO ano: 2015\n",
            "Coletando RIO BRANCO ano: 2016\n",
            "Coletando RIO BRANCO ano: 2017\n",
            "Coletando RIO BRANCO ano: 2018\n",
            "Coletando RIO BRANCO ano: 2019\n",
            "Coletando RIO BRANCO ano: 2020\n",
            "Coletando RIO BRANCO ano: 2021\n",
            "Coletando RIO BRANCO ano: 2022\n",
            "Coletando RODRIGUES ALVES ano: 2023\n",
            "Coletando RODRIGUES ALVES ano: 2014\n",
            "Coletando RODRIGUES ALVES ano: 2015\n",
            "Coletando RODRIGUES ALVES ano: 2016\n",
            "Coletando RODRIGUES ALVES ano: 2017\n",
            "Coletando RODRIGUES ALVES ano: 2018\n",
            "Coletando RODRIGUES ALVES ano: 2019\n",
            "Coletando RODRIGUES ALVES ano: 2020\n",
            "Coletando RODRIGUES ALVES ano: 2021\n",
            "Intervalo da sessão\n",
            "Mandando drive\n",
            "Drive already mounted at /content/drive; to attempt to forcibly remount, call drive.mount(\"/content/drive\", force_remount=True).\n",
            "------------------------------\n",
            "Coletando RODRIGUES ALVES ano: 2022\n",
            "Intervalo da sessão\n",
            "Mandando drive\n",
            "Drive already mounted at /content/drive; to attempt to forcibly remount, call drive.mount(\"/content/drive\", force_remount=True).\n",
            "------------------------------\n",
            "Coletando SANTA ROSA DO PURUS ano: 2023\n",
            "Intervalo da sessão\n",
            "Mandando drive\n",
            "Drive already mounted at /content/drive; to attempt to forcibly remount, call drive.mount(\"/content/drive\", force_remount=True).\n",
            "------------------------------\n",
            "Coletando SANTA ROSA DO PURUS ano: 2014\n",
            "Intervalo da sessão\n",
            "Mandando drive\n",
            "Drive already mounted at /content/drive; to attempt to forcibly remount, call drive.mount(\"/content/drive\", force_remount=True).\n",
            "------------------------------\n",
            "Coletando SANTA ROSA DO PURUS ano: 2015\n",
            "Intervalo da sessão\n",
            "Mandando drive\n",
            "Drive already mounted at /content/drive; to attempt to forcibly remount, call drive.mount(\"/content/drive\", force_remount=True).\n",
            "------------------------------\n",
            "Coletando SANTA ROSA DO PURUS ano: 2016\n",
            "Intervalo da sessão\n",
            "Mandando drive\n",
            "Drive already mounted at /content/drive; to attempt to forcibly remount, call drive.mount(\"/content/drive\", force_remount=True).\n",
            "------------------------------\n",
            "Coletando SANTA ROSA DO PURUS ano: 2017\n",
            "Intervalo da sessão\n",
            "Mandando drive\n",
            "Drive already mounted at /content/drive; to attempt to forcibly remount, call drive.mount(\"/content/drive\", force_remount=True).\n",
            "------------------------------\n",
            "Coletando SANTA ROSA DO PURUS ano: 2018\n",
            "Intervalo da sessão\n",
            "Mandando drive\n",
            "Drive already mounted at /content/drive; to attempt to forcibly remount, call drive.mount(\"/content/drive\", force_remount=True).\n",
            "------------------------------\n",
            "Coletando SANTA ROSA DO PURUS ano: 2019\n",
            "Intervalo da sessão\n",
            "Mandando drive\n",
            "Drive already mounted at /content/drive; to attempt to forcibly remount, call drive.mount(\"/content/drive\", force_remount=True).\n",
            "------------------------------\n",
            "Coletando SANTA ROSA DO PURUS ano: 2020\n",
            "Intervalo da sessão\n",
            "Mandando drive\n",
            "Drive already mounted at /content/drive; to attempt to forcibly remount, call drive.mount(\"/content/drive\", force_remount=True).\n",
            "------------------------------\n",
            "Coletando SANTA ROSA DO PURUS ano: 2021\n",
            "Intervalo da sessão\n",
            "Mandando drive\n",
            "Drive already mounted at /content/drive; to attempt to forcibly remount, call drive.mount(\"/content/drive\", force_remount=True).\n",
            "------------------------------\n",
            "Coletando SANTA ROSA DO PURUS ano: 2022\n",
            "Intervalo da sessão\n",
            "Mandando drive\n",
            "Drive already mounted at /content/drive; to attempt to forcibly remount, call drive.mount(\"/content/drive\", force_remount=True).\n",
            "------------------------------\n",
            "Coletando SENA MADUREIRA ano: 2023\n",
            "Intervalo da sessão\n",
            "Mandando drive\n",
            "Drive already mounted at /content/drive; to attempt to forcibly remount, call drive.mount(\"/content/drive\", force_remount=True).\n",
            "------------------------------\n",
            "Coletando SENA MADUREIRA ano: 2014\n",
            "Intervalo da sessão\n",
            "Mandando drive\n",
            "Drive already mounted at /content/drive; to attempt to forcibly remount, call drive.mount(\"/content/drive\", force_remount=True).\n",
            "------------------------------\n",
            "Coletando SENA MADUREIRA ano: 2015\n",
            "Intervalo da sessão\n",
            "Mandando drive\n",
            "Drive already mounted at /content/drive; to attempt to forcibly remount, call drive.mount(\"/content/drive\", force_remount=True).\n",
            "------------------------------\n",
            "Coletando SENA MADUREIRA ano: 2016\n",
            "Intervalo da sessão\n",
            "Mandando drive\n",
            "Drive already mounted at /content/drive; to attempt to forcibly remount, call drive.mount(\"/content/drive\", force_remount=True).\n",
            "------------------------------\n",
            "Coletando SENA MADUREIRA ano: 2017\n",
            "Intervalo da sessão\n",
            "Mandando drive\n",
            "Drive already mounted at /content/drive; to attempt to forcibly remount, call drive.mount(\"/content/drive\", force_remount=True).\n",
            "------------------------------\n",
            "Coletando SENA MADUREIRA ano: 2018\n",
            "Intervalo da sessão\n",
            "Mandando drive\n",
            "Drive already mounted at /content/drive; to attempt to forcibly remount, call drive.mount(\"/content/drive\", force_remount=True).\n",
            "------------------------------\n",
            "Coletando SENA MADUREIRA ano: 2019\n",
            "Intervalo da sessão\n",
            "Mandando drive\n",
            "Drive already mounted at /content/drive; to attempt to forcibly remount, call drive.mount(\"/content/drive\", force_remount=True).\n",
            "------------------------------\n",
            "Coletando SENA MADUREIRA ano: 2020\n",
            "Intervalo da sessão\n",
            "Mandando drive\n",
            "Drive already mounted at /content/drive; to attempt to forcibly remount, call drive.mount(\"/content/drive\", force_remount=True).\n",
            "------------------------------\n",
            "Coletando SENA MADUREIRA ano: 2021\n",
            "Intervalo da sessão\n",
            "Mandando drive\n",
            "Drive already mounted at /content/drive; to attempt to forcibly remount, call drive.mount(\"/content/drive\", force_remount=True).\n",
            "------------------------------\n",
            "Coletando SENA MADUREIRA ano: 2022\n",
            "Intervalo da sessão\n",
            "Mandando drive\n",
            "Drive already mounted at /content/drive; to attempt to forcibly remount, call drive.mount(\"/content/drive\", force_remount=True).\n",
            "------------------------------\n",
            "Coletando SENADOR GUIOMARD ano: 2023\n",
            "Intervalo da sessão\n",
            "Mandando drive\n",
            "Drive already mounted at /content/drive; to attempt to forcibly remount, call drive.mount(\"/content/drive\", force_remount=True).\n",
            "------------------------------\n",
            "Coletando SENADOR GUIOMARD ano: 2014\n",
            "Intervalo da sessão\n",
            "Mandando drive\n",
            "Drive already mounted at /content/drive; to attempt to forcibly remount, call drive.mount(\"/content/drive\", force_remount=True).\n",
            "------------------------------\n",
            "Coletando SENADOR GUIOMARD ano: 2015\n",
            "Intervalo da sessão\n",
            "Mandando drive\n",
            "Drive already mounted at /content/drive; to attempt to forcibly remount, call drive.mount(\"/content/drive\", force_remount=True).\n",
            "------------------------------\n",
            "Coletando SENADOR GUIOMARD ano: 2016\n",
            "Intervalo da sessão\n",
            "Mandando drive\n",
            "Drive already mounted at /content/drive; to attempt to forcibly remount, call drive.mount(\"/content/drive\", force_remount=True).\n",
            "------------------------------\n",
            "Coletando SENADOR GUIOMARD ano: 2017\n",
            "Intervalo da sessão\n",
            "Mandando drive\n",
            "Drive already mounted at /content/drive; to attempt to forcibly remount, call drive.mount(\"/content/drive\", force_remount=True).\n",
            "------------------------------\n",
            "Coletando SENADOR GUIOMARD ano: 2018\n",
            "Intervalo da sessão\n",
            "Mandando drive\n",
            "Drive already mounted at /content/drive; to attempt to forcibly remount, call drive.mount(\"/content/drive\", force_remount=True).\n",
            "------------------------------\n",
            "Coletando SENADOR GUIOMARD ano: 2019\n",
            "Intervalo da sessão\n",
            "Mandando drive\n",
            "Drive already mounted at /content/drive; to attempt to forcibly remount, call drive.mount(\"/content/drive\", force_remount=True).\n",
            "------------------------------\n",
            "Coletando SENADOR GUIOMARD ano: 2020\n",
            "Intervalo da sessão\n",
            "Mandando drive\n",
            "Drive already mounted at /content/drive; to attempt to forcibly remount, call drive.mount(\"/content/drive\", force_remount=True).\n",
            "------------------------------\n",
            "Coletando SENADOR GUIOMARD ano: 2021\n",
            "Intervalo da sessão\n",
            "Mandando drive\n",
            "Drive already mounted at /content/drive; to attempt to forcibly remount, call drive.mount(\"/content/drive\", force_remount=True).\n",
            "------------------------------\n",
            "Coletando SENADOR GUIOMARD ano: 2022\n",
            "Intervalo da sessão\n",
            "Mandando drive\n",
            "Drive already mounted at /content/drive; to attempt to forcibly remount, call drive.mount(\"/content/drive\", force_remount=True).\n",
            "------------------------------\n",
            "Coletando TARAUACÁ ano: 2023\n",
            "Intervalo da sessão\n",
            "Mandando drive\n",
            "Drive already mounted at /content/drive; to attempt to forcibly remount, call drive.mount(\"/content/drive\", force_remount=True).\n",
            "------------------------------\n",
            "Coletando TARAUACÁ ano: 2014\n",
            "Intervalo da sessão\n",
            "Mandando drive\n",
            "Drive already mounted at /content/drive; to attempt to forcibly remount, call drive.mount(\"/content/drive\", force_remount=True).\n",
            "------------------------------\n",
            "Coletando TARAUACÁ ano: 2015\n",
            "Intervalo da sessão\n",
            "Mandando drive\n",
            "Drive already mounted at /content/drive; to attempt to forcibly remount, call drive.mount(\"/content/drive\", force_remount=True).\n",
            "------------------------------\n",
            "Coletando TARAUACÁ ano: 2016\n",
            "Intervalo da sessão\n",
            "Mandando drive\n",
            "Drive already mounted at /content/drive; to attempt to forcibly remount, call drive.mount(\"/content/drive\", force_remount=True).\n",
            "------------------------------\n",
            "Coletando TARAUACÁ ano: 2017\n",
            "Intervalo da sessão\n",
            "Mandando drive\n",
            "Drive already mounted at /content/drive; to attempt to forcibly remount, call drive.mount(\"/content/drive\", force_remount=True).\n",
            "------------------------------\n",
            "Coletando TARAUACÁ ano: 2018\n",
            "Intervalo da sessão\n",
            "Mandando drive\n",
            "Drive already mounted at /content/drive; to attempt to forcibly remount, call drive.mount(\"/content/drive\", force_remount=True).\n",
            "------------------------------\n",
            "Coletando TARAUACÁ ano: 2019\n",
            "Intervalo da sessão\n",
            "Mandando drive\n",
            "Drive already mounted at /content/drive; to attempt to forcibly remount, call drive.mount(\"/content/drive\", force_remount=True).\n",
            "------------------------------\n",
            "Coletando TARAUACÁ ano: 2020\n",
            "Intervalo da sessão\n",
            "Mandando drive\n",
            "Drive already mounted at /content/drive; to attempt to forcibly remount, call drive.mount(\"/content/drive\", force_remount=True).\n",
            "------------------------------\n",
            "Coletando TARAUACÁ ano: 2021\n",
            "Intervalo da sessão\n",
            "Mandando drive\n",
            "Drive already mounted at /content/drive; to attempt to forcibly remount, call drive.mount(\"/content/drive\", force_remount=True).\n",
            "------------------------------\n",
            "Coletando TARAUACÁ ano: 2022\n",
            "Intervalo da sessão\n",
            "Mandando drive\n",
            "Drive already mounted at /content/drive; to attempt to forcibly remount, call drive.mount(\"/content/drive\", force_remount=True).\n",
            "------------------------------\n",
            "Coletando XAPURI ano: 2023\n",
            "Intervalo da sessão\n",
            "Mandando drive\n",
            "Drive already mounted at /content/drive; to attempt to forcibly remount, call drive.mount(\"/content/drive\", force_remount=True).\n",
            "------------------------------\n",
            "Coletando XAPURI ano: 2014\n",
            "Intervalo da sessão\n",
            "Mandando drive\n",
            "Drive already mounted at /content/drive; to attempt to forcibly remount, call drive.mount(\"/content/drive\", force_remount=True).\n",
            "------------------------------\n",
            "Coletando XAPURI ano: 2015\n",
            "Intervalo da sessão\n",
            "Mandando drive\n",
            "Drive already mounted at /content/drive; to attempt to forcibly remount, call drive.mount(\"/content/drive\", force_remount=True).\n",
            "------------------------------\n",
            "Coletando XAPURI ano: 2016\n",
            "Intervalo da sessão\n",
            "Mandando drive\n",
            "Drive already mounted at /content/drive; to attempt to forcibly remount, call drive.mount(\"/content/drive\", force_remount=True).\n",
            "------------------------------\n",
            "Coletando XAPURI ano: 2017\n",
            "Intervalo da sessão\n",
            "Mandando drive\n",
            "Drive already mounted at /content/drive; to attempt to forcibly remount, call drive.mount(\"/content/drive\", force_remount=True).\n",
            "------------------------------\n",
            "Coletando XAPURI ano: 2018\n",
            "Intervalo da sessão\n",
            "Mandando drive\n",
            "Drive already mounted at /content/drive; to attempt to forcibly remount, call drive.mount(\"/content/drive\", force_remount=True).\n",
            "------------------------------\n",
            "Coletando XAPURI ano: 2019\n",
            "Intervalo da sessão\n",
            "Mandando drive\n",
            "Drive already mounted at /content/drive; to attempt to forcibly remount, call drive.mount(\"/content/drive\", force_remount=True).\n",
            "------------------------------\n",
            "Coletando XAPURI ano: 2020\n",
            "Intervalo da sessão\n",
            "Mandando drive\n",
            "Drive already mounted at /content/drive; to attempt to forcibly remount, call drive.mount(\"/content/drive\", force_remount=True).\n",
            "------------------------------\n",
            "Coletando XAPURI ano: 2021\n",
            "Intervalo da sessão\n",
            "Mandando drive\n",
            "Drive already mounted at /content/drive; to attempt to forcibly remount, call drive.mount(\"/content/drive\", force_remount=True).\n",
            "------------------------------\n",
            "Coletando XAPURI ano: 2022\n",
            "Intervalo da sessão\n",
            "Mandando drive\n",
            "Drive already mounted at /content/drive; to attempt to forcibly remount, call drive.mount(\"/content/drive\", force_remount=True).\n",
            "------------------------------\n"
          ]
        }
      ]
    },
    {
      "cell_type": "markdown",
      "source": [
        "# Mandar drive"
      ],
      "metadata": {
        "id": "NcjB8yWjfVGr"
      }
    },
    {
      "cell_type": "code",
      "source": [
        "drive.mount('/content/drive')\n",
        "\n",
        "\n",
        "send_folder_drive(path_drive_input2,\n",
        "                \"/content/input/\")\n",
        "\n",
        "# send_folder_drive(path_drive_csv,\n",
        "#                 \"/content/csvs\")"
      ],
      "metadata": {
        "colab": {
          "base_uri": "https://localhost:8080/"
        },
        "id": "znY8FLnjfUlR",
        "outputId": "21676dfa-654b-4dbe-d243-955422209f75"
      },
      "execution_count": null,
      "outputs": [
        {
          "output_type": "stream",
          "name": "stdout",
          "text": [
            "Drive already mounted at /content/drive; to attempt to forcibly remount, call drive.mount(\"/content/drive\", force_remount=True).\n"
          ]
        }
      ]
    }
  ]
}