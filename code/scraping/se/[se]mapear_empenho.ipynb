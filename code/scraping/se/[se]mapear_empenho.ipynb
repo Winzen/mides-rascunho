{
  "nbformat": 4,
  "nbformat_minor": 0,
  "metadata": {
    "colab": {
      "provenance": [],
      "authorship_tag": "ABX9TyOD06zKho6tQla9mJZmjmm/",
      "include_colab_link": true
    },
    "kernelspec": {
      "name": "python3",
      "display_name": "Python 3"
    },
    "language_info": {
      "name": "python"
    }
  },
  "cells": [
    {
      "cell_type": "markdown",
      "metadata": {
        "id": "view-in-github",
        "colab_type": "text"
      },
      "source": [
        "<a href=\"https://colab.research.google.com/github/Winzen/mides-rascunho/blob/main/code/scraping/se/%5Bse%5Dmapear_empenho.ipynb\" target=\"_parent\"><img src=\"https://colab.research.google.com/assets/colab-badge.svg\" alt=\"Open In Colab\"/></a>"
      ]
    },
    {
      "cell_type": "code",
      "execution_count": null,
      "metadata": {
        "colab": {
          "base_uri": "https://localhost:8080/"
        },
        "id": "Z4y_dxGn3Ose",
        "outputId": "3aa9d999-c2ff-486a-a143-5c0e2ade6811"
      },
      "outputs": [
        {
          "output_type": "stream",
          "name": "stdout",
          "text": [
            "Mounted at /content/drive\n"
          ]
        }
      ],
      "source": [
        "from google.colab import drive\n",
        "drive.mount('/content/drive')"
      ]
    },
    {
      "cell_type": "markdown",
      "source": [
        "# Constantes"
      ],
      "metadata": {
        "id": "1ufupK_j79Fo"
      }
    },
    {
      "cell_type": "code",
      "source": [
        "path_drive_input = None # Onde será extraido e salvo as paginas de empenho\n",
        "path_drive_csv = None # Onde será extraido e salvo o csv das entidades\n",
        "path_drive_csv_mapeamento = # Onde será extraido e salvo os CSVs do mapeamento dos empenhos"
      ],
      "metadata": {
        "id": "Lz6ljA_47qcj"
      },
      "execution_count": null,
      "outputs": []
    },
    {
      "cell_type": "markdown",
      "source": [
        "# Importação"
      ],
      "metadata": {
        "id": "UM-EZote8LW0"
      }
    },
    {
      "cell_type": "code",
      "source": [
        "import requests\n",
        "import os\n",
        "import csv\n",
        "import shutil\n",
        "import glob\n",
        "import concurrent.futures\n",
        "import datetime as dt\n",
        "import time\n",
        "import re\n",
        "import pandas as pd\n",
        "from time import sleep\n",
        "from more_itertools import batched\n",
        "from bs4 import BeautifulSoup, element\n",
        "from urllib3 import PoolManager, disable_warnings, exceptions, Timeout\n",
        "from urllib.parse import urlencode\n",
        "from zipfile import ZipFile\n",
        "\n",
        "\n",
        "def send_folder_drive(path_drive: str, path_input: str) -> None:\n",
        "\n",
        "  if not len(os.listdir(path_input)) > 0:\n",
        "    raise Exception(\"Essa Pasta vazia\")\n",
        "    return None\n",
        "\n",
        "  shutil.make_archive(path_drive,\n",
        "                      'zip',\n",
        "                      path_input)\n",
        "\n",
        "\n",
        "def make_list_chunks(values: list, chunk_size:int = 2000) -> list:\n",
        "  resquet_in_chunks = [chunk for chunk in batched(values, chunk_size)]\n",
        "  return resquet_in_chunks\n",
        "\n",
        "\n",
        "def extrair_zip(path, path_output) -> None:\n",
        "  # loading the temp.zip and creating a zip object\n",
        "  with ZipFile(path, 'r') as zObject:\n",
        "\n",
        "      # Extracting all the members of the zip\n",
        "      # into a specific location.\n",
        "      zObject.extractall(\n",
        "          path=path_output)\n",
        "\n",
        "\n",
        "def extrair(path_himl: str) -> list|str:\n",
        "\n",
        "  try:\n",
        "\n",
        "    html = ler(path_himl)\n",
        "    soup = BeautifulSoup(html, \"html.parser\")\n",
        "    basic_info = path_himl.split(\"/\")[3:-1]\n",
        "    linhas_table = soup.select(\"table#ctl00_ContentPlaceHolder1_grdEmpenhos tr\")[3:-3] # Seleciona linhas da tag Table e remove desnecessarios\n",
        "    linhas = [get_row_values(row, basic_info) for row in linhas_table]\n",
        "\n",
        "    return linhas\n",
        "\n",
        "  except:\n",
        "\n",
        "    return path_himl\n",
        "\n",
        "\n",
        "def ler(path: str) -> str:\n",
        "\n",
        "  with open(path, \"r\") as slot_read:\n",
        "    return slot_read.read()\n",
        "\n",
        "\n",
        "def get_row_values(row: element.Tag, info_basic: list) -> list:\n",
        "\n",
        "  colunas = row.find_all(\"td\")\n",
        "  coluna_link = colunas.pop()\n",
        "  valores = [coluna.text.strip() for coluna in colunas]\n",
        "\n",
        "  parametros = coluna_link.select_one(\"a.thickbox\").get(\"href\").replace(\" \", \"\")\n",
        "  link = \"https://www.tcese.tc.br/portaldatransparencia/\" + parametros\n",
        "  valores.append(link)\n",
        "\n",
        "  linha = info_basic + valores\n",
        "\n",
        "  return linha"
      ],
      "metadata": {
        "id": "SJVxRr2H8Mxw"
      },
      "execution_count": null,
      "outputs": []
    },
    {
      "cell_type": "markdown",
      "source": [
        "# Extrair CSV"
      ],
      "metadata": {
        "id": "TTb_aULe8FOB"
      }
    },
    {
      "cell_type": "code",
      "source": [
        "extrair_zip(path=path_drive_csv + \".zip\",\n",
        "        path_output=\"/content/csvs\")"
      ],
      "metadata": {
        "id": "hgNVIzOk8FmN"
      },
      "execution_count": null,
      "outputs": []
    },
    {
      "cell_type": "code",
      "source": [
        "extrair_zip(path=path_drive_input + \".zip\",\n",
        "        path_output=\"/content/input\")"
      ],
      "metadata": {
        "id": "RvsOl64t8H2c"
      },
      "execution_count": null,
      "outputs": []
    },
    {
      "cell_type": "markdown",
      "source": [
        "# Mapear Empenhos"
      ],
      "metadata": {
        "id": "R40r8jAG-fp8"
      }
    },
    {
      "cell_type": "code",
      "source": [
        "path_csvs = \"/content/input/**/**/**/*.html\"\n",
        "htmls = glob.glob(path_csvs)\n",
        "\n",
        "with concurrent.futures.ThreadPoolExecutor() as executor:\n",
        "  tasks = [task for task in executor.map(extrair, htmls)]\n",
        "  linhas_paginas = [task for task in tasks if type(task) != str]\n",
        "  erros = [task for task in tasks if type(task) == str]\n",
        "\n",
        "print(f\"De {len(htmls)} paginas foram coletadas {len(linhas_paginas)} com sucesso\")\n",
        "\n",
        "linhas = [linha for linhas in linhas_paginas for linha in linhas]\n",
        "\n",
        "colunas = [\"ano\", \"municipio\", \"unidade\",\n",
        "           \"numero_empenho\", \"data_empenho\", \"participante\",\n",
        "           \"valor_empenhado\", \"valor_pago\", \"link\"]\n",
        "\n",
        "df = pd.DataFrame(linhas, columns=colunas)\n",
        "df[\"coletado\"] = False\n",
        "df.to_csv(\"csvs/se_mapeamentos_empenhos.csv\", index=False)"
      ],
      "metadata": {
        "id": "ReG3zCXhUpFE"
      },
      "execution_count": null,
      "outputs": []
    },
    {
      "cell_type": "markdown",
      "source": [
        "## Dividir por anos"
      ],
      "metadata": {
        "id": "tiwZrzhMDtZf"
      }
    },
    {
      "cell_type": "code",
      "source": [
        "anos = df.ano.unique()\n",
        "for ano in anos:\n",
        "  df_ano = df[df.ano == ano]\n",
        "  df_ano.to_csv(f\"csvs/se_mapeamentos_empenhos_{ano}.csv\", index=False)"
      ],
      "metadata": {
        "id": "pB-5S0ZK_DQF"
      },
      "execution_count": null,
      "outputs": []
    },
    {
      "cell_type": "markdown",
      "metadata": {
        "id": "98_15dAlHvyk"
      },
      "source": [
        "# Mandar no drive"
      ]
    },
    {
      "cell_type": "code",
      "execution_count": null,
      "metadata": {
        "colab": {
          "base_uri": "https://localhost:8080/"
        },
        "id": "a3Sf_eG8H10g",
        "outputId": "4b099db3-fb06-4b89-dc10-6bff9ecbcaef"
      },
      "outputs": [
        {
          "output_type": "stream",
          "name": "stdout",
          "text": [
            "Drive already mounted at /content/drive; to attempt to forcibly remount, call drive.mount(\"/content/drive\", force_remount=True).\n"
          ]
        }
      ],
      "source": [
        "drive.mount('/content/drive')\n",
        "\n",
        "send_folder_drive(path_drive_csv_mapeamento,\n",
        "                \"/content/csvs\")"
      ]
    }
  ]
}