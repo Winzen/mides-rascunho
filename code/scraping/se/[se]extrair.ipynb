{
  "cells": [
    {
      "cell_type": "markdown",
      "metadata": {
        "id": "view-in-github",
        "colab_type": "text"
      },
      "source": [
        "<a href=\"https://colab.research.google.com/github/Winzen/mides-rascunho/blob/main/code/scraping/se/%5Bse%5Dextrair.ipynb\" target=\"_parent\"><img src=\"https://colab.research.google.com/assets/colab-badge.svg\" alt=\"Open In Colab\"/></a>"
      ]
    },
    {
      "cell_type": "code",
      "execution_count": null,
      "metadata": {
        "colab": {
          "base_uri": "https://localhost:8080/"
        },
        "id": "CpVNwZaGLZd0",
        "outputId": "4c5b4fd9-dc16-46ae-fd7f-658184184208"
      },
      "outputs": [
        {
          "output_type": "stream",
          "name": "stdout",
          "text": [
            "Mounted at /content/drive\n"
          ]
        }
      ],
      "source": [
        "from google.colab import drive\n",
        "drive.mount('/content/drive')"
      ]
    },
    {
      "cell_type": "markdown",
      "source": [
        "# Constantes"
      ],
      "metadata": {
        "id": "iuLdqHBy_3co"
      }
    },
    {
      "cell_type": "code",
      "execution_count": null,
      "metadata": {
        "id": "wic0ace7NeD0"
      },
      "outputs": [],
      "source": [
        "ano = 2016 # Ano de coleta\n",
        "csv_coleta_name = None # caminho para o CSV que tem os empenhos desejado\n",
        "path_drive_input = None # Caminho para salvar os empenhos coletados e extrair\n",
        "path_drive_csv = None # Para salvar a pasta com os CSVs dos empenhos e extrair ela\n",
        "\n"
      ]
    },
    {
      "cell_type": "markdown",
      "metadata": {
        "id": "9ptCC5xP2ssI"
      },
      "source": [
        "# Verificar IP"
      ]
    },
    {
      "cell_type": "code",
      "execution_count": null,
      "metadata": {
        "colab": {
          "base_uri": "https://localhost:8080/"
        },
        "id": "df7yG-uBRCoz",
        "outputId": "3ffdbcba-5100-43f2-b939-b1969b93d65f"
      },
      "outputs": [
        {
          "output_type": "execute_result",
          "data": {
            "text/plain": [
              "{'ip': '35.194.240.248', 'country': 'Taiwan', 'cc': 'TW'}"
            ]
          },
          "metadata": {},
          "execution_count": 1
        }
      ],
      "source": [
        "import requests\n",
        "\n",
        "my_country = requests.get(\"https://api.myip.com/\")\n",
        "my_country.json()"
      ]
    },
    {
      "cell_type": "markdown",
      "metadata": {
        "id": "_VXXXORnNegL"
      },
      "source": [
        "# Importação"
      ]
    },
    {
      "cell_type": "code",
      "execution_count": null,
      "metadata": {
        "id": "7k8gKqktM1aq"
      },
      "outputs": [],
      "source": [
        "import requests\n",
        "import os\n",
        "import csv\n",
        "import shutil\n",
        "import glob\n",
        "import concurrent.futures\n",
        "import datetime as dt\n",
        "import time\n",
        "import re\n",
        "import pandas as pd\n",
        "from time import sleep\n",
        "from more_itertools import batched\n",
        "from bs4 import BeautifulSoup, element\n",
        "from urllib3 import PoolManager, disable_warnings, exceptions, Timeout\n",
        "from urllib.parse import urlencode\n",
        "from zipfile import ZipFile\n",
        "\n",
        "def send_folder_drive(path_drive: str, path_input: str) -> None:\n",
        "\n",
        "  if not len(os.listdir(path_input)) > 0:\n",
        "    raise Exception(\"Essa Pasta vazia\")\n",
        "    return None\n",
        "\n",
        "  shutil.make_archive(path_drive,\n",
        "                      'zip',\n",
        "                      path_input)\n",
        "\n",
        "\n",
        "def make_list_chunks(values: list, chunk_size:int = 2000) -> list:\n",
        "  resquet_in_chunks = [chunk for chunk in batched(values, chunk_size)]\n",
        "  return resquet_in_chunks\n",
        "\n",
        "\n",
        "def extrair_zip(path, path_output) -> None:\n",
        "  # loading the temp.zip and creating a zip object\n",
        "  with ZipFile(path, 'r') as zObject:\n",
        "\n",
        "      # Extracting all the members of the zip\n",
        "      # into a specific location.\n",
        "      zObject.extractall(\n",
        "          path=path_output)\n",
        "\n",
        "def send_solo_drive() -> None:\n",
        "\n",
        "  drive.mount('/content/drive')\n",
        "\n",
        "  send_folder_drive(path_drive_input + \"_auto\",\n",
        "                    \"/content/input/\")\n",
        "\n",
        "  send_folder_drive(path_drive_csv + \"_auto\",\n",
        "                    \"/content/csvs\")"
      ]
    },
    {
      "cell_type": "markdown",
      "metadata": {
        "id": "TTb_aULe8FOB"
      },
      "source": [
        "# Extrair CSV"
      ]
    },
    {
      "cell_type": "code",
      "execution_count": null,
      "metadata": {
        "id": "hgNVIzOk8FmN"
      },
      "outputs": [],
      "source": [
        "extrair_zip(path=path_drive_csv + \".zip\",\n",
        "        path_output=\"/content/csvs\")"
      ]
    },
    {
      "cell_type": "code",
      "execution_count": null,
      "metadata": {
        "id": "RvsOl64t8H2c"
      },
      "outputs": [],
      "source": [
        "extrair_zip(path=path_drive_input + \".zip\",\n",
        "        path_output=\"/content/input\")"
      ]
    },
    {
      "cell_type": "markdown",
      "metadata": {
        "id": "jCsWynZTLcJY"
      },
      "source": [
        "### Extrair Auto-Save"
      ]
    },
    {
      "cell_type": "code",
      "execution_count": null,
      "metadata": {
        "id": "RHGcjwumLlcU"
      },
      "outputs": [],
      "source": [
        "extrair_zip(path=path_drive_csv + \"_auto\" + '.zip',\n",
        "        path_output=\"/content/csvs\")"
      ]
    },
    {
      "cell_type": "code",
      "execution_count": null,
      "metadata": {
        "id": "bQXSGmDZIHaE"
      },
      "outputs": [],
      "source": [
        "extrair_zip(path=path_drive_input + \"_auto\" + '.zip',\n",
        "        path_output=\"/content/input\")"
      ]
    },
    {
      "cell_type": "markdown",
      "metadata": {
        "id": "_3EoBWtuPvIL"
      },
      "source": [
        "# Raspagem"
      ]
    },
    {
      "cell_type": "code",
      "execution_count": null,
      "metadata": {
        "id": "A0U8kQ_ASJPJ"
      },
      "outputs": [],
      "source": [
        "def form_data_pagamentos(soup: BeautifulSoup, input_pagamento= \"\")-> str|dict:\n",
        "\n",
        "  parametros = {inp[\"name\"]:inp.get(\"value\") for inp in soup.select(\"input\")}\n",
        "\n",
        "  data = {\n",
        "  \"__VIEWSTATE\": parametros[\"__VIEWSTATE\"],\n",
        "  \"__VIEWSTATEGENERATOR\": parametros[\"__VIEWSTATEGENERATOR\"],\n",
        "  \"__SCROLLPOSITIONX\": parametros[\"__SCROLLPOSITIONX\"],\n",
        "  \"__SCROLLPOSITIONY\": parametros[\"__SCROLLPOSITIONY\"],\n",
        "  \"__EVENTTARGET\": \"\",\n",
        "  \"__EVENTARGUMENT\": \"\",\n",
        "  \"__VIEWSTATEENCRYPTED\": \"\",\n",
        "  \"__EVENTVALIDATION\": parametros[\"__EVENTVALIDATION\"],\n",
        "  f\"{input_pagamento}.x\": \"6\",\n",
        "  f\"{input_pagamento}.y\": \"10\",\n",
        "  }\n",
        "\n",
        "  encoded_params = urlencode(data)\n",
        "  return encoded_params\n",
        "\n",
        "\n",
        "def save_html(row: pd.DataFrame, response: requests.Response) ->  pd.DataFrame|bool:\n",
        "\n",
        "  try:\n",
        "\n",
        "    html = response.text\n",
        "\n",
        "    if \"DADOS DO EMPENHO\" in html:\n",
        "      path_base = f\"input/{row.ano}/{row.municipio}/{row.unidade}/\"\n",
        "\n",
        "      os.makedirs(path_base, exist_ok=True)\n",
        "\n",
        "      with open(path_base + f\"{row.numero_empenho}.html\", \"w\") as form_html:\n",
        "        form_html.write(html)\n",
        "\n",
        "      return row\n",
        "\n",
        "    return False\n",
        "\n",
        "  except:\n",
        "\n",
        "    return False\n",
        "\n",
        "\n",
        "def extrair(row: pd.DataFrame) -> pd.DataFrame|bool:\n",
        "  try:\n",
        "\n",
        "    headers = {\n",
        "      \"User-Agent\": \"Mozilla/5.0 (Windows NT 10.0; Win64; x64; rv:125.0) Gecko/20100101 Firefox/125.0\",\n",
        "      \"Accept\": \"text/html,application/xhtml+xml,application/xml;q=0.9,image/avif,image/webp,*/*;q=0.8\",\n",
        "      \"Accept-Language\": \"pt-BR,pt;q=0.8,en-US;q=0.5,en;q=0.3\",\n",
        "      \"Content-Type\": \"application/x-www-form-urlencoded\",\n",
        "      \"Connection\": \"keep-alive\"\n",
        "    }\n",
        "\n",
        "    with requests.Session() as s:\n",
        "\n",
        "      empenho_pagamento = s.get(row.link, headers=headers, verify=False)\n",
        "      soup_pagamento = BeautifulSoup(empenho_pagamento.text, \"html.parser\")\n",
        "\n",
        "      elements_inputs = soup_pagamento.select(\"td input\")\n",
        "\n",
        "      if  elements_inputs:\n",
        "\n",
        "        if len(elements_inputs) > 20: # Limitar numero de pagamentos aceitaveis\n",
        "          return False\n",
        "\n",
        "        input_ids = [element.get(\"id\").replace(\"_\", \"$\") for element in elements_inputs]\n",
        "\n",
        "        for input in input_ids: # Abrir todos os inputs de pagamento\n",
        "          data_pagamento = form_data_pagamentos(soup_pagamento, input)\n",
        "          empenho_pagamento = s.post(row.link, headers=headers, data=data_pagamento, verify=False)\n",
        "          soup_pagamento = BeautifulSoup(empenho_pagamento.text, \"html.parser\")\n",
        "\n",
        "      return save_html(row, empenho_pagamento)\n",
        "\n",
        "  except:\n",
        "    return False"
      ]
    },
    {
      "cell_type": "code",
      "execution_count": null,
      "metadata": {
        "id": "Kn55vlQTmoOR"
      },
      "outputs": [],
      "source": [
        "df = pd.read_csv(csv_coleta_name, dtype=str)"
      ]
    },
    {
      "cell_type": "code",
      "execution_count": null,
      "metadata": {
        "id": "pd0cmOsXcOBx"
      },
      "outputs": [],
      "source": [
        "para_coletar = df[df[\"coletado\"] == \"False\"]\n",
        "\n",
        "chunks = make_list_chunks(para_coletar.itertuples(), 60)\n",
        "disable_warnings(exceptions.InsecureRequestWarning)\n",
        "\n",
        "for n, rows in enumerate(chunks):\n",
        "\n",
        "  print(f\"{'-' * 30}\\nIniciando extração: {n + 1}/{len(chunks)}\")\n",
        "  start_time = time.time()\n",
        "\n",
        "  with concurrent.futures.ThreadPoolExecutor() as executor:\n",
        "    tasks = [task for task in executor.map(extrair, rows)]\n",
        "    tasks_done = [task.Index for task in tasks if task]\n",
        "\n",
        "  df.loc[tasks_done, \"coletado\"] = \"True\"\n",
        "\n",
        "  print(f\"De {len(rows)} paginas, foram coletadas {len(tasks_done)} com sucesso\")\n",
        "\n",
        "  segundo_execucao = time.time() - start_time\n",
        "\n",
        "  print(f\"Duração da execução: {segundo_execucao / 60:.2f}\\n{'-' * 30}\")\n",
        "  print(f\"Intervalo\\nRespeito de {segundo_execucao * 0.2: 0.2f} segudos ao servidor\")\n",
        "\n",
        "  sleep(segundo_execucao * 0.2)\n",
        "\n",
        "  if (n + 1) % 40 == 0:\n",
        "    print(\"Salvando..\")\n",
        "    df.to_csv(csv_coleta_name, index=False)\n",
        "    send_solo_drive()\n",
        "    print(\"Salvamento concluido.\")\n",
        "\n",
        "print(\"Salvando..\")\n",
        "df.to_csv(csv_coleta_name, index=False)\n",
        "send_solo_drive()\n",
        "print(\"Salvamento concluido.\")"
      ]
    },
    {
      "cell_type": "markdown",
      "metadata": {
        "id": "0C9q39fziTTj"
      },
      "source": [
        "## Verificar arquivos"
      ]
    },
    {
      "cell_type": "code",
      "execution_count": null,
      "metadata": {
        "colab": {
          "base_uri": "https://localhost:8080/"
        },
        "id": "nV_rSCldffAG",
        "outputId": "3c33244b-6935-4fc9-9216-1a90a31de85f"
      },
      "outputs": [
        {
          "output_type": "execute_result",
          "data": {
            "text/plain": [
              "207445"
            ]
          },
          "metadata": {},
          "execution_count": 62
        }
      ],
      "source": [
        "path_csvs = \"/content/input/**/**/**/*.html\"\n",
        "htmls = glob.glob(path_csvs)\n",
        "htmls = list(dict.fromkeys(htmls))\n",
        "len(htmls)"
      ]
    },
    {
      "cell_type": "code",
      "execution_count": null,
      "metadata": {
        "colab": {
          "base_uri": "https://localhost:8080/"
        },
        "id": "XXKDeZwwgWlP",
        "outputId": "edaca300-9686-4b1b-9807-3cc8e91459c7"
      },
      "outputs": [
        {
          "output_type": "stream",
          "name": "stdout",
          "text": [
            "False\n",
            "Valores nesse momento são coletado 207445 e registrados 207680\n"
          ]
        }
      ],
      "source": [
        "registrados = df[df[\"coletado\"] == \"True\"].shape[0]\n",
        "print(len(htmls) == registrados)\n",
        "print(f\"Valores nesse momento são coletado {len(htmls)} e registrados {registrados}\")"
      ]
    },
    {
      "cell_type": "markdown",
      "metadata": {
        "id": "98_15dAlHvyk"
      },
      "source": [
        "# Mandar no drive"
      ]
    },
    {
      "cell_type": "code",
      "execution_count": null,
      "metadata": {
        "colab": {
          "base_uri": "https://localhost:8080/"
        },
        "id": "a3Sf_eG8H10g",
        "outputId": "7cf114ee-3416-445b-8b22-16f5cd900504"
      },
      "outputs": [
        {
          "name": "stdout",
          "output_type": "stream",
          "text": [
            "Drive already mounted at /content/drive; to attempt to forcibly remount, call drive.mount(\"/content/drive\", force_remount=True).\n"
          ]
        }
      ],
      "source": [
        "drive.mount('/content/drive')\n",
        "\n",
        "df.to_csv(csv_coleta_name, index=False)\n",
        "\n",
        "send_folder_drive(path_drive_input,\n",
        "                \"/content/input/\")\n",
        "\n",
        "send_folder_drive(path_drive_csv,\n",
        "                \"/content/csvs\")"
      ]
    }
  ],
  "metadata": {
    "colab": {
      "provenance": [],
      "authorship_tag": "ABX9TyPovaxi60s6M3VZi1jEabv1",
      "include_colab_link": true
    },
    "kernelspec": {
      "display_name": "Python 3",
      "name": "python3"
    },
    "language_info": {
      "name": "python"
    }
  },
  "nbformat": 4,
  "nbformat_minor": 0
}