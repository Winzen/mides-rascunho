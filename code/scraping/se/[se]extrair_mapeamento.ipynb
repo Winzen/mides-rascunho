{
  "cells": [
    {
      "cell_type": "code",
      "execution_count": null,
      "metadata": {
        "colab": {
          "base_uri": "https://localhost:8080/"
        },
        "id": "oXmwQ3xTtEcX",
        "outputId": "df226b26-5499-42ea-a735-0c97cff35191"
      },
      "outputs": [
        {
          "output_type": "stream",
          "name": "stdout",
          "text": [
            "Mounted at /content/drive\n"
          ]
        }
      ],
      "source": [
        "from google.colab import drive\n",
        "drive.mount('/content/drive')"
      ]
    },
    {
      "cell_type": "markdown",
      "metadata": {
        "id": "9ptCC5xP2ssI"
      },
      "source": [
        "# Verificar IP"
      ]
    },
    {
      "cell_type": "code",
      "execution_count": null,
      "metadata": {
        "colab": {
          "base_uri": "https://localhost:8080/"
        },
        "id": "df7yG-uBRCoz",
        "outputId": "7ee78776-3d13-47ae-c19e-7613eb6685b5"
      },
      "outputs": [
        {
          "output_type": "execute_result",
          "data": {
            "text/plain": [
              "{'ip': '34.16.136.187', 'country': 'United States', 'cc': 'US'}"
            ]
          },
          "metadata": {},
          "execution_count": 2
        }
      ],
      "source": [
        "import requests\n",
        "\n",
        "my_country = requests.get(\"https://api.myip.com/\")\n",
        "my_country.json()"
      ]
    },
    {
      "cell_type": "markdown",
      "metadata": {
        "id": "6hVL9mJ1fcnq"
      },
      "source": [
        "# Importação"
      ]
    },
    {
      "cell_type": "code",
      "execution_count": null,
      "metadata": {
        "id": "C7ZAU77ofdjr"
      },
      "outputs": [],
      "source": [
        "import requests\n",
        "import os\n",
        "import csv\n",
        "import shutil\n",
        "import glob\n",
        "import concurrent.futures\n",
        "import datetime as dt\n",
        "import time\n",
        "import re\n",
        "import pandas as pd\n",
        "from time import sleep\n",
        "from more_itertools import batched\n",
        "from bs4 import BeautifulSoup\n",
        "from urllib3 import PoolManager, disable_warnings, exceptions, Timeout\n",
        "from urllib.parse import urlencode\n",
        "from zipfile import ZipFile\n",
        "\n",
        "\n",
        "class SlotBase:\n",
        "\n",
        "  def __init__(self, municipio: str, ano: str, unidade: str,\n",
        "               soup: BeautifulSoup , headers: dict, session: requests.Session) -> None:\n",
        "\n",
        "    self.municipio = municipio\n",
        "    self.ano = ano\n",
        "    self.unidade = unidade\n",
        "    self.soup = soup\n",
        "    self.headers = headers\n",
        "    self.session = session\n",
        "\n",
        "def send_folder_drive(path_drive: str, path_input: str) -> None:\n",
        "\n",
        "  if not len(os.listdir(path_input)) > 0:\n",
        "    raise Exception(\"Essa Pasta vazia\")\n",
        "    return None\n",
        "\n",
        "  shutil.make_archive(path_drive,\n",
        "                      'zip',\n",
        "                      path_input)\n",
        "\n",
        "\n",
        "def send_solo_drive() -> None:\n",
        "\n",
        "  drive.mount('/content/drive')\n",
        "\n",
        "  send_folder_drive(path_drive_input + \"_auto\",\n",
        "                    \"/content/input/\")\n",
        "\n",
        "  send_folder_drive(path_drive_csv + \"_auto\",\n",
        "                    \"/content/csvs\")\n",
        "\n",
        "\n",
        "def ler(path: str) -> str:\n",
        "\n",
        "  with open(path, \"r\") as slot_read:\n",
        "    return slot_read.read()\n",
        "\n",
        "\n",
        "# def form_data_post(soup: BeautifulSoup, ano: str,\n",
        "#                    municipio: str, unidade: str) -> str|dict:\n",
        "\n",
        "def form_data_post(soup: BeautifulSoup, page: str = \"Page$2\") -> str|dict:\n",
        "\n",
        "  # inputs_temas = [\"__EVENTARGUMENT\", \"__EVENTTARGET\",\n",
        "  #                 \"__EVENTVALIDATION\", \"__LASTFOCUS\",\n",
        "  #                 \"__SCROLLPOSITIONX\", \"__SCROLLPOSITIONY\",\n",
        "  #                 \"__VIEWSTATE\", \"__VIEWSTATEGENERATOR\"\n",
        "  #                 ]\n",
        "\n",
        "  # inputs_temas = [\"__EVENTTARGET\", \"__EVENTARGUMENT\",\n",
        "  #                   \"__LASTFOCUS\", \"__VIEWSTATE\", \"__VIEWSTATEGENERATOR\",\n",
        "  #                   \"__SCROLLPOSITIONX\", \"__SCROLLPOSITIONY\",\n",
        "  #                   \"__EVENTVALIDATION\"]\n",
        "\n",
        "\n",
        "  inputs_temas = [\"__EVENTTARGET\", \"__EVENTARGUMENT\",\n",
        "                    \"__VIEWSTATE\", \"__VIEWSTATEGENERATOR\",\n",
        "                    \"__SCROLLPOSITIONX\", \"__SCROLLPOSITIONY\",\n",
        "                    \"__EVENTVALIDATION\"]\n",
        "\n",
        "  parametros= {key: soup.select_one(f\"input#{key}\").get(\"value\") for key in inputs_temas}\n",
        "\n",
        "\n",
        "  data = {\n",
        "  \"__EVENTTARGET\": \"ctl00$ContentPlaceHolder1$grdEmpenhos\",\n",
        "  \"__EVENTARGUMENT\": page,\n",
        "  \"__VIEWSTATE\": parametros[\"__VIEWSTATE\"],\n",
        "  \"__VIEWSTATEGENERATOR\": parametros[\"__VIEWSTATEGENERATOR\"],\n",
        "  \"__SCROLLPOSITIONX\": parametros[\"__SCROLLPOSITIONX\"],\n",
        "  \"__SCROLLPOSITIONY\": parametros[\"__SCROLLPOSITIONY\"],\n",
        "  \"__EVENTVALIDATION\": parametros[\"__EVENTVALIDATION\"],\n",
        "  \"ctl00$LoginView1$Login1$UserName\": \"\",\n",
        "  \"ctl00$LoginView1$Login1$Password\": \"\",\n",
        "  \"ctl00$ContentPlaceHolder1$hdfOrdenacao\": \"\",\n",
        "  }\n",
        "  encoded_params = urlencode(data)\n",
        "  # return encoded_params\n",
        "  return encoded_params\n",
        "\n",
        "def form_row_entidades(municipio: str, unidade: str, id_entidade: str, ano: str) -> dict:\n",
        "  row = {\n",
        "        \"municipio\": municipio,\n",
        "        \"entidade\": unidade,\n",
        "        \"id_entidade\": id_entidade,\n",
        "        \"ano\": ano\n",
        "          }\n",
        "  return row\n",
        "\n",
        "def make_list_chunks(values: list, chunk_size:int = 2000) -> list:\n",
        "  resquet_in_chunks = [chunk for chunk in batched(values, chunk_size)]\n",
        "  return resquet_in_chunks\n",
        "\n",
        "def extrair(path, path_output) -> None:\n",
        "  # loading the temp.zip and creating a zip object\n",
        "  with ZipFile(path, 'r') as zObject:\n",
        "\n",
        "      # Extracting all the members of the zip\n",
        "      # into a specific location.\n",
        "      zObject.extractall(\n",
        "          path=path_output)"
      ]
    },
    {
      "cell_type": "code",
      "execution_count": null,
      "metadata": {
        "id": "SNeMuPRDAEoL"
      },
      "outputs": [],
      "source": [
        "def form_data_post(soup: BeautifulSoup, ano: str,\n",
        "                   municipio: str, unidade: str, event_target: str = \"\") -> str|dict:\n",
        "\n",
        "  inputs_temas = [\"__EVENTTARGET\", \"__EVENTARGUMENT\",\n",
        "                  \"__LASTFOCUS\", \"__VIEWSTATE\", \"__VIEWSTATEGENERATOR\",\n",
        "                  \"__SCROLLPOSITIONX\", \"__SCROLLPOSITIONY\",\n",
        "                  \"__EVENTVALIDATION\"]\n",
        "\n",
        "  # parametros= {key: soup.select_one(f\"input#{key}\").get(\"value\") for key in inputs_temas}\n",
        "  parametros = {inp[\"name\"]:inp.get(\"value\") for inp in soup.select(\"input\")}\n",
        "\n",
        "  data = {\n",
        "  \"__EVENTTARGET\": event_target,\n",
        "  \"__EVENTARGUMENT\": \"\",\n",
        "  \"__LASTFOCUS\": \"\",\n",
        "  \"__VIEWSTATE\": parametros[\"__VIEWSTATE\"],\n",
        "  \"__VIEWSTATEGENERATOR\": parametros[\"__VIEWSTATEGENERATOR\"],\n",
        "  \"__SCROLLPOSITIONX\": parametros[\"__SCROLLPOSITIONX\"],\n",
        "  \"__SCROLLPOSITIONY\": parametros[\"__SCROLLPOSITIONY\"],\n",
        "  \"__EVENTVALIDATION\": parametros[\"__EVENTVALIDATION\"],\n",
        "  \"ctl00$LoginView1$Login1$UserName\": \"\",\n",
        "  \"ctl00$LoginView1$Login1$Password\": \"\",\n",
        "  \"ctl00$ContentPlaceHolder1$ddlEsfera\": \"1\",\n",
        "  \"ctl00$ContentPlaceHolder1$ddlAno\": ano,\n",
        "  \"ctl00$ContentPlaceHolder1$ddlMunicipios\": municipio,\n",
        "  }\n",
        "\n",
        "  encoded_params = urlencode(data)\n",
        "  # return encoded_params\n",
        "  return encoded_params"
      ]
    },
    {
      "cell_type": "code",
      "execution_count": null,
      "metadata": {
        "id": "hSaNvw6LdXxQ"
      },
      "outputs": [],
      "source": [
        "def form_data_post_ano(soup: BeautifulSoup, ano: str,\n",
        "                   municipio: str, unidade: str, event_target: str = \"\") -> str|dict:\n",
        "\n",
        "  inputs_temas = [\"__EVENTTARGET\", \"__EVENTARGUMENT\",\n",
        "                  \"__LASTFOCUS\", \"__VIEWSTATE\", \"__VIEWSTATEGENERATOR\",\n",
        "                  \"__SCROLLPOSITIONX\", \"__SCROLLPOSITIONY\",\n",
        "                  \"__EVENTVALIDATION\"]\n",
        "\n",
        "  # parametros= {key: soup.select_one(f\"input#{key}\").get(\"value\") for key in inputs_temas}\n",
        "  parametros = {inp[\"name\"]:inp.get(\"value\") for inp in soup.select(\"input\")}\n",
        "\n",
        "  data = {\n",
        "  \"__EVENTTARGET\": event_target,\n",
        "  \"__EVENTARGUMENT\": \"\",\n",
        "  \"__LASTFOCUS\": \"\",\n",
        "  \"__VIEWSTATE\": parametros[\"__VIEWSTATE\"],\n",
        "  \"__VIEWSTATEGENERATOR\": parametros[\"__VIEWSTATEGENERATOR\"],\n",
        "  \"__SCROLLPOSITIONX\": parametros[\"__SCROLLPOSITIONX\"],\n",
        "  \"__SCROLLPOSITIONY\": parametros[\"__SCROLLPOSITIONY\"],\n",
        "  \"__EVENTVALIDATION\": parametros[\"__EVENTVALIDATION\"],\n",
        "  \"ctl00$LoginView1$Login1$UserName\": \"\",\n",
        "  \"ctl00$LoginView1$Login1$Password\": \"\",\n",
        "  \"ctl00$ContentPlaceHolder1$ddlEsfera\": \"1\",\n",
        "  \"ctl00$ContentPlaceHolder1$ddlAno\": ano,\n",
        "  }\n",
        "\n",
        "  encoded_params = urlencode(data)\n",
        "  # return encoded_params\n",
        "  return encoded_params"
      ]
    },
    {
      "cell_type": "code",
      "execution_count": null,
      "metadata": {
        "id": "Ho40JWKwdXjf"
      },
      "outputs": [],
      "source": [
        "def form_data_post_municipio(soup: BeautifulSoup, ano: str,\n",
        "                   municipio: str, unidade: str, event_target: str = \"\") -> str|dict:\n",
        "\n",
        "  inputs_temas = [\"__EVENTTARGET\", \"__EVENTARGUMENT\",\n",
        "                  \"__LASTFOCUS\", \"__VIEWSTATE\", \"__VIEWSTATEGENERATOR\",\n",
        "                  \"__SCROLLPOSITIONX\", \"__SCROLLPOSITIONY\",\n",
        "                  \"__EVENTVALIDATION\"]\n",
        "\n",
        "  # parametros= {key: soup.select_one(f\"input#{key}\").get(\"value\") for key in inputs_temas}\n",
        "  parametros = {inp[\"name\"]:inp.get(\"value\") for inp in soup.select(\"input\")}\n",
        "\n",
        "  data = {\n",
        "  \"__EVENTTARGET\": event_target,\n",
        "  \"__EVENTARGUMENT\": \"\",\n",
        "  \"__LASTFOCUS\": \"\",\n",
        "  \"__VIEWSTATE\": parametros[\"__VIEWSTATE\"],\n",
        "  \"__VIEWSTATEGENERATOR\": parametros[\"__VIEWSTATEGENERATOR\"],\n",
        "  \"__SCROLLPOSITIONX\": parametros[\"__SCROLLPOSITIONX\"],\n",
        "  \"__SCROLLPOSITIONY\": parametros[\"__SCROLLPOSITIONY\"],\n",
        "  \"__EVENTVALIDATION\": parametros[\"__EVENTVALIDATION\"],\n",
        "  \"ctl00$LoginView1$Login1$UserName\": \"\",\n",
        "  \"ctl00$LoginView1$Login1$Password\": \"\",\n",
        "  \"ctl00$ContentPlaceHolder1$ddlEsfera\": \"1\",\n",
        "  \"ctl00$ContentPlaceHolder1$ddlMunicipios\": municipio\n",
        "  }\n",
        "\n",
        "  encoded_params = urlencode(data)\n",
        "  # return encoded_params\n",
        "  return encoded_params"
      ]
    },
    {
      "cell_type": "code",
      "execution_count": null,
      "metadata": {
        "id": "P4XRyjwCfqpu"
      },
      "outputs": [],
      "source": [
        "def form_data_post_unidade(soup: BeautifulSoup, ano: str,\n",
        "                   municipio: str, unidade: str, event_target: str = \"\") -> str|dict:\n",
        "\n",
        "  inputs_temas = [\"__EVENTTARGET\", \"__EVENTARGUMENT\",\n",
        "                  \"__LASTFOCUS\", \"__VIEWSTATE\", \"__VIEWSTATEGENERATOR\",\n",
        "                  \"__SCROLLPOSITIONX\", \"__SCROLLPOSITIONY\",\n",
        "                  \"__EVENTVALIDATION\"]\n",
        "\n",
        "  # parametros= {key: soup.select_one(f\"input#{key}\").get(\"value\") for key in inputs_temas}\n",
        "  parametros = {inp[\"name\"]:inp.get(\"value\") for inp in soup.select(\"input\")}\n",
        "\n",
        "  data = {\n",
        "  \"__EVENTTARGET\": event_target,\n",
        "  \"__EVENTARGUMENT\": \"\",\n",
        "  \"__LASTFOCUS\": \"\",\n",
        "  \"__VIEWSTATE\": parametros[\"__VIEWSTATE\"],\n",
        "  \"__VIEWSTATEGENERATOR\": parametros[\"__VIEWSTATEGENERATOR\"],\n",
        "  \"__SCROLLPOSITIONX\": parametros[\"__SCROLLPOSITIONX\"],\n",
        "  \"__SCROLLPOSITIONY\": parametros[\"__SCROLLPOSITIONY\"],\n",
        "  \"__EVENTVALIDATION\": parametros[\"__EVENTVALIDATION\"],\n",
        "  \"ctl00$LoginView1$Login1$UserName\": \"\",\n",
        "  \"ctl00$LoginView1$Login1$Password\": \"\",\n",
        "  \"ctl00$ContentPlaceHolder1$ddlEsfera\": \"1\",\n",
        "  \"ctl00$ContentPlaceHolder1$ddlUnidadeGestora\":\tunidade,\n",
        "  \"ctl00$ContentPlaceHolder1$imgConsultar.x\":\t\"101\",\n",
        "  \"ctl00$ContentPlaceHolder1$imgConsultar.y\":\t\"16\"\n",
        "  }\n",
        "\n",
        "  encoded_params = urlencode(data)\n",
        "  # return encoded_params\n",
        "  return encoded_params"
      ]
    },
    {
      "cell_type": "code",
      "execution_count": null,
      "metadata": {
        "id": "BULO1CxpoAjf"
      },
      "outputs": [],
      "source": [
        "def form_data_post2(soup: BeautifulSoup) -> str|dict:\n",
        "\n",
        "  inputs_temas = [\"__VIEWSTATE\", \"__VIEWSTATEGENERATOR\",\n",
        "                  \"__VIEWSTATE\", \"__VIEWSTATEGENERATOR\",\n",
        "                  \"__SCROLLPOSITIONX\", \"__SCROLLPOSITIONY\",\n",
        "                  \"__EVENTVALIDATION\"]\n",
        "\n",
        "  parametros = {inp[\"name\"]:inp.get(\"value\") for inp in soup.select(\"input\")}\n",
        "\n",
        "  data = {\n",
        "  \"__VIEWSTATE\": parametros[\"__VIEWSTATE\"],\n",
        "  \"__VIEWSTATEGENERATOR\": parametros[\"__VIEWSTATEGENERATOR\"],\n",
        "  \"__SCROLLPOSITIONX\": parametros[\"__SCROLLPOSITIONX\"],\n",
        "  \"__SCROLLPOSITIONY\": parametros[\"__SCROLLPOSITIONY\"],\n",
        "  \"__EVENTTARGET\": \"\",\n",
        "  \"__EVENTARGUMENT\": \"\",\n",
        "  \"__VIEWSTATEENCRYPTED\": \"\",\n",
        "  \"__EVENTVALIDATION\": parametros[\"__EVENTVALIDATION\"],\n",
        "  \"grdPagamentos$ctl02$imgbtnDetalharPagamento.x\": \"6\",\n",
        "  \"grdPagamentos$ctl02$imgbtnDetalharPagamento.y\": \"9\"\n",
        "  }\n",
        "\n",
        "  encoded_params = urlencode(data)\n",
        "  # return encoded_params\n",
        "  return encoded_params"
      ]
    },
    {
      "cell_type": "markdown",
      "metadata": {
        "id": "MT-Xd5hN1rhu"
      },
      "source": [
        "# Meu drive pessoal - Variaveis Globais"
      ]
    },
    {
      "cell_type": "code",
      "execution_count": null,
      "metadata": {
        "id": "QPmnBa3NABTb"
      },
      "outputs": [],
      "source": [
        "path_drive_input = f\"/content/drive/MyDrive/DataBase/world_bank/se/input_html_empenhos_map\"\n",
        "path_drive_csv = f\"/content/drive/MyDrive/DataBase/world_bank/se/csvs\"\n",
        "# local_path_csv = f\"/content/links_coleta_grupo/links_coletados_pagamentos_grupo_{id_grupo}.csv\""
      ]
    },
    {
      "cell_type": "code",
      "execution_count": null,
      "metadata": {
        "id": "aBBPwVZkY2NR"
      },
      "outputs": [],
      "source": []
    },
    {
      "cell_type": "markdown",
      "metadata": {
        "id": "3PaPn6j88Y0h"
      },
      "source": [
        "# Extrair CSV"
      ]
    },
    {
      "cell_type": "code",
      "execution_count": null,
      "metadata": {
        "id": "E8AKSSFj8WeR"
      },
      "outputs": [],
      "source": [
        "extrair(path=path_drive_csv + \".zip\",\n",
        "        path_output=\"/content/csvs\")"
      ]
    },
    {
      "cell_type": "code",
      "execution_count": null,
      "metadata": {
        "id": "UeE-vEHaqy7n"
      },
      "outputs": [],
      "source": [
        "extrair(path=path_drive_input + \".zip\",\n",
        "        path_output=\"/content/input\")"
      ]
    },
    {
      "cell_type": "markdown",
      "metadata": {
        "id": "jCsWynZTLcJY"
      },
      "source": [
        "### Extrair Auto-Save"
      ]
    },
    {
      "cell_type": "code",
      "execution_count": null,
      "metadata": {
        "id": "RHGcjwumLlcU"
      },
      "outputs": [],
      "source": [
        "extrair(path=path_drive_csv + \"_auto\" + \".zip\",\n",
        "        path_output=\"/content/csvs\")"
      ]
    },
    {
      "cell_type": "code",
      "execution_count": null,
      "metadata": {
        "id": "bQXSGmDZIHaE"
      },
      "outputs": [],
      "source": [
        "extrair(path=path_drive_input + \"_auto\" + \".zip\",\n",
        "        path_output=\"/content/input\")"
      ]
    },
    {
      "cell_type": "markdown",
      "metadata": {
        "id": "Nk5xVZgySMqo"
      },
      "source": [
        "# Classes para Selenium"
      ]
    },
    {
      "cell_type": "code",
      "execution_count": null,
      "metadata": {
        "id": "SRG0XG0ySZki"
      },
      "outputs": [],
      "source": [
        "from selenium import webdriver\n",
        "from selenium.webdriver.firefox.options import Options\n",
        "from selenium.webdriver.remote.webelement import WebElement\n",
        "from selenium.webdriver.support.ui import WebDriverWait\n",
        "from selenium.webdriver.common.by import By\n",
        "from selenium.webdriver.support import expected_conditions as EC\n",
        "import os\n",
        "\n",
        "class Manage:\n",
        "\n",
        "    def __init__(self, drive: WebElement, wait: WebDriverWait, script: Scripts):\n",
        "        self.drive = drive\n",
        "        self.wait = wait\n",
        "        self.script = script\n",
        "\n",
        "\n",
        "class MyWebDrive:\n",
        "\n",
        "    def __init__(self, path_input: str = \"input\", headless: bool = True):\n",
        "\n",
        "        self.path_input = os.path.join(os.getcwd(), path_input)\n",
        "        self.headless = headless\n",
        "        self.drive = self.create()\n",
        "\n",
        "    def create(self):\n",
        "\n",
        "        options = Options()\n",
        "\n",
        "        if self.headless:\n",
        "            options.add_argument(\"-headless\")\n",
        "\n",
        "        options.set_preference(\"browser.download.folderList\", 2)\n",
        "        options.set_preference(\"browser.download.manager.showWhenStarting\", False)\n",
        "        options.set_preference(\"browser.download.dir\", self.path_input)\n",
        "        options.set_preference(\"browser.helperApps.neverAsk.saveToDisk\", \"application/x-gzip\")\n",
        "        options.add_argument(\"-no-sandbox\")\n",
        "        options.add_argument(\"-disable-dev-shm-usage\")\n",
        "        options.add_argument(\"-disable-blink-features=AutomationControlled\")\n",
        "        options.add_argument(\"-disable-extensions\")\n",
        "        options.add_argument(\"-incognito\")\n",
        "        drive = webdriver.Chrome(options=options)\n",
        "\n",
        "        return drive\n"
      ]
    },
    {
      "cell_type": "markdown",
      "metadata": {
        "id": "nkMSbioTWoR5"
      },
      "source": [
        "## Script Class"
      ]
    },
    {
      "cell_type": "code",
      "execution_count": null,
      "metadata": {
        "id": "IEoVUtkAWqIP"
      },
      "outputs": [],
      "source": [
        "from selenium import webdriver\n",
        "from selenium.webdriver.support.ui import WebDriverWait\n",
        "from time import sleep\n",
        "from selenium.webdriver.support import expected_conditions as EC\n",
        "from selenium.webdriver.common.by import By\n",
        "\n",
        "\n",
        "class Scripts:\n",
        "\n",
        "  def __init__(self, drive: webdriver, wait: WebDriverWait):\n",
        "\n",
        "      self.drive = drive\n",
        "      self.wait = wait\n",
        "\n",
        "  def consultar(self, municipio: str, ano: str, unidade: str) -> None:\n",
        "\n",
        "    function = \"\"\"\n",
        "function consultar(municipio, ano, unidade){\n",
        "document.getElementById(\"ctl00_ContentPlaceHolder1_ddlMunicipios\").value = municipio\n",
        "document.getElementById(\"ctl00_ContentPlaceHolder1_ddlAno\").value = ano\n",
        "document.getElementById(\"ctl00_ContentPlaceHolder1_ddlUnidadeGestora\").value = unidade\n",
        "document.getElementById(\"ctl00_ContentPlaceHolder1_imgConsultar\").click()\n",
        "}\n",
        "\n",
        "\"\"\"\n",
        "    parametro = f\"consultar('{municipio}', '{ano}',' {unidade}');\"\n",
        "\n",
        "    script = function + parametro\n",
        "    self.drive.execute_script(script)\n",
        "\n",
        "    self.wait.until(EC.visibility_of_element_located((By.ID, 'ctl00_lnkEmpenho')))\n",
        "\n",
        "  def click_empenho(self) -> None:\n",
        "\n",
        "    script = \"\"\"document.getElementById(\"ctl00_lnkEmpenho\").click()\"\"\"\n",
        "    self.drive.execute_script(script)\n",
        "    self.wait.until(EC.visibility_of_element_located((By.ID, \"ctl00_ContentPlaceHolder1_btnConsultar\")))\n",
        "\n",
        "  def consultar_empenho(self) -> None:\n",
        "\n",
        "    script = \"\"\"document.getElementById(\"ctl00_ContentPlaceHolder1_btnConsultar\").click()\"\"\"\n",
        "    self.drive.execute_script(script)\n",
        "    self.wait.until(EC.visibility_of_element_located((By.ID, \"ctl00_ContentPlaceHolder1_grdEmpenhos\")))\n",
        "\n"
      ]
    },
    {
      "cell_type": "markdown",
      "metadata": {
        "id": "eQCVWyYuP9m3"
      },
      "source": [
        "# Install Selenium"
      ]
    },
    {
      "cell_type": "code",
      "execution_count": null,
      "metadata": {
        "id": "D7nzsLVEP_NX"
      },
      "outputs": [],
      "source": [
        "!pip install selenium\n",
        "!pip install webdriver-manager\n",
        "!apt-get update\n",
        "!apt install chromium-chromedriver"
      ]
    },
    {
      "cell_type": "markdown",
      "metadata": {
        "id": "j58b1IlGCQ_H"
      },
      "source": [
        "# Criar textos"
      ]
    },
    {
      "cell_type": "code",
      "execution_count": null,
      "metadata": {
        "id": "upzFO1h4CUS0"
      },
      "outputs": [],
      "source": [
        "for x in range(5):\n",
        "  with open(f\"body_{x}.txt\", \"w\") as temp_body:\n",
        "    temp_body.write(\"\")"
      ]
    },
    {
      "cell_type": "markdown",
      "metadata": {
        "id": "ht2ixsMVfePu"
      },
      "source": [
        "# LINK DENTRO DO EMPENHO"
      ]
    },
    {
      "cell_type": "code",
      "execution_count": null,
      "metadata": {
        "id": "TPkRE2vJfmRD"
      },
      "outputs": [],
      "source": [
        "link = \"https://www.tcese.tc.br/portaldatransparencia/EmpenhoDetalhes.aspx?Num=1040001+++++++++&Unidade=002322&Ano=2016&keepThis=true&TB_iframe=true&height=450&width=900\"\n",
        "link = \"https://www.tcese.tc.br/portaldatransparencia/EmpenhoDetalhes.aspx?Num=3280001&Unidade=002322&Ano=2016&keepThis=true&TB_iframe=true&height=450&width=900\"\n",
        "headers = {\n",
        "    \"User-Agent\": \"Mozilla/5.0 (Windows NT 10.0; Win64; x64; rv:125.0) Gecko/20100101 Firefox/125.0\",\n",
        "    \"Accept-Encoding\": \"gzip, deflate, br\",\n",
        "    \"Accept\": \"text/html,application/xhtml+xml,application/xml;q=0.9,image/avif,image/webp,*/*;q=0.8\",\n",
        "    \"Accept-Language\": \"pt-BR,pt;q=0.8,en-US;q=0.5,en;q=0.3\"\n",
        "}\n",
        "\n",
        "# proxies = {\n",
        "#   \"https\": \"scraperapi.country_code=br:c45ba8009496799a77df31e2ef862325@proxy-server.scraperapi.com:8001\"\n",
        "# }\n",
        "\n",
        "# respose = requests.get(link, proxies=proxies, verify=False)\n",
        "# respose = requests.get(link, headers=headers)\n",
        "with requests.Session() as s:\n",
        "\n",
        "  inicial_response = s.get(link, headers=headers)\n",
        "\n",
        "  soup_inicial = BeautifulSoup(inicial_response.text)\n",
        "\n",
        "  body_inicial = form_data_post2(soup_inicial)\n",
        "\n",
        "  response1 = s.post(link, headers=headers, data=body_inicial)\n",
        "# soup = BeautifulSoup(respose.text)\n",
        "# soup"
      ]
    },
    {
      "cell_type": "code",
      "execution_count": null,
      "metadata": {
        "id": "0-mR9T0vpL9n"
      },
      "outputs": [],
      "source": [
        "soup = BeautifulSoup(response1.text)\n",
        "soup"
      ]
    },
    {
      "cell_type": "markdown",
      "metadata": {
        "id": "TVpY5rwki3KT"
      },
      "source": [
        "# Pegar Anos E Municipios"
      ]
    },
    {
      "cell_type": "code",
      "execution_count": null,
      "metadata": {
        "id": "Slk5vrq6i6Zq"
      },
      "outputs": [],
      "source": [
        "headers = {\n",
        "  \"User-Agent\": \"Mozilla/5.0 (Windows NT 10.0; Win64; x64; rv:125.0) Gecko/20100101 Firefox/125.0\",\n",
        "  \"Accept\": \"text/html,application/xhtml+xml,application/xml;q=0.9,image/avif,image/webp,*/*;q=0.8\",\n",
        "  \"Accept-Language\": \"pt-BR,pt;q=0.8,en-US;q=0.5,en;q=0.3\",\n",
        "  \"Content-Type\": \"application/x-www-form-urlencoded\",\n",
        "  \"Connection\": \"keep-alive\"\n",
        "}\n",
        "link = \"https://www.tcese.tc.br/portaldatransparencia/Default.aspx\"\n",
        "\n",
        "with requests.Session() as s:\n",
        "\n",
        "  response_anos_municipios = s.get(link, headers=headers)"
      ]
    },
    {
      "cell_type": "code",
      "execution_count": null,
      "metadata": {
        "id": "2RXpOKK9jMAU"
      },
      "outputs": [],
      "source": [
        "soup_anos_municipios = BeautifulSoup(response_anos_municipios.text)\n",
        "\n",
        "anos = [ano.get(\"value\") for ano in soup_anos_municipios.select(\"select#ctl00_ContentPlaceHolder1_ddlAno option\")]\n",
        "municipios = [municipio.get(\"value\") for municipio in soup_anos_municipios.select(\"select#ctl00_ContentPlaceHolder1_ddlMunicipios option\")]\n",
        "unidades = [unidade.get(\"value\") for unidade in soup_anos_municipios.select(\"select#ctl00_ContentPlaceHolder1_ddlUnidadeGestora option\")]"
      ]
    },
    {
      "cell_type": "code",
      "execution_count": null,
      "metadata": {
        "id": "HMOXqXRxqa69"
      },
      "outputs": [],
      "source": [
        "select_unidade = \"select#ctl00_ContentPlaceHolder1_ddlUnidadeGestora option\"\n",
        "element_unidades = soup_anos_municipios.select(select_unidade)\n"
      ]
    },
    {
      "cell_type": "markdown",
      "metadata": {
        "id": "OKrN3wgQsfPj"
      },
      "source": [
        "# Formar DataFrame das entidades"
      ]
    },
    {
      "cell_type": "code",
      "execution_count": null,
      "metadata": {
        "id": "RBCO-dDssiRS"
      },
      "outputs": [],
      "source": [
        "link_confirmar_unidade = \"https://www.tcese.tc.br/portaldatransparencia/Default.aspx\"\n",
        "link_acesse_inicio_dados = \"https://www.tcese.tc.br/portaldatransparencia/DadosUnidade.aspx\"\n",
        "\n",
        "\n",
        "headers = {\n",
        "  \"User-Agent\": \"Mozilla/5.0 (Windows NT 10.0; Win64; x64; rv:125.0) Gecko/20100101 Firefox/125.0\",\n",
        "  \"Accept\": \"text/html,application/xhtml+xml,application/xml;q=0.9,image/avif,image/webp,*/*;q=0.8\",\n",
        "  \"Accept-Language\": \"pt-BR,pt;q=0.8,en-US;q=0.5,en;q=0.3\",\n",
        "  \"Content-Type\": \"application/x-www-form-urlencoded\",\n",
        "  \"Connection\": \"keep-alive\"\n",
        "}\n",
        "\n",
        "rows = []\n",
        "\n",
        "for municipio in municipios:\n",
        "  for ano in anos:\n",
        "    with requests.Session() as s:\n",
        "\n",
        "      inicial_response = s.get(link_confirmar_unidade, headers=headers)\n",
        "      soup_inicial = BeautifulSoup(inicial_response.text)\n",
        "      select_ano = form_data_post_ano(soup_inicial, ano, municipio, unidade, \"ctl00$ContentPlaceHolder1$ddlAno\")\n",
        "      # body_inicial = form_data_post(soup_inicial, ano, municipio, unidade)\n",
        "\n",
        "      response_ano = s.post(link_confirmar_unidade, headers=headers, data=select_ano)\n",
        "      soup_ano = BeautifulSoup(response_ano.text)\n",
        "      select_municipio = form_data_post_municipio(soup_ano, ano, municipio, unidade, \"ctl00$ContentPlaceHolder1$ddlMunicipios\")\n",
        "      response_municipio = s.post(link_confirmar_unidade, headers=headers, data=select_municipio)\n",
        "      # body_inicial = form_data_post(soup_inicial, ano, municipio, unidade)\n",
        "\n",
        "      # response2 = s.post(link_acesse_inicio_dados, headers=headers)\n",
        "      soup_municipio = BeautifulSoup(response_municipio.text)\n",
        "\n",
        "      select_unidade = \"select#ctl00_ContentPlaceHolder1_ddlUnidadeGestora option\"\n",
        "      element_unidades = soup_municipio.select(select_unidade)\n",
        "      unidades = [form_row_entidades(municipio, unidade.text, unidade.get(\"value\"), ano) for unidade in element_unidades]\n",
        "      rows += unidades\n"
      ]
    },
    {
      "cell_type": "code",
      "execution_count": null,
      "metadata": {
        "id": "_GJZFcxtwcug"
      },
      "outputs": [],
      "source": [
        "df = pd.DataFrame(rows)\n",
        "df.to_csv(\"entidades.csv\", index=False)"
      ]
    },
    {
      "cell_type": "code",
      "execution_count": null,
      "metadata": {
        "colab": {
          "base_uri": "https://localhost:8080/"
        },
        "id": "qi4gOfvkwn6H",
        "outputId": "4d0177ac-34f9-45ff-ae48-6460527c27ed"
      },
      "outputs": [
        {
          "data": {
            "text/plain": [
              "ano\n",
              "2008    185\n",
              "2009    186\n",
              "2010    258\n",
              "2011    265\n",
              "2012    339\n",
              "2013    347\n",
              "2014    349\n",
              "2015    351\n",
              "2016    353\n",
              "Name: entidade, dtype: int64"
            ]
          },
          "execution_count": 97,
          "metadata": {},
          "output_type": "execute_result"
        }
      ],
      "source": [
        "df.groupby(\"ano\")[\"entidade\"].count()"
      ]
    },
    {
      "cell_type": "markdown",
      "metadata": {
        "id": "ScKZU3fxzQvL"
      },
      "source": [
        "# Extrair Paginas de coleta (Mapeamento)"
      ]
    },
    {
      "cell_type": "code",
      "execution_count": null,
      "metadata": {
        "id": "4bF0nvM7zran"
      },
      "outputs": [],
      "source": [
        "def consultar_unidade(session: requests.Session, headers: dict, ano: str,\n",
        "                   municipio: str, unidade: str) -> BeautifulSoup:\n",
        "\n",
        "  link_confirmar_unidade = \"https://www.tcese.tc.br/portaldatransparencia/Default.aspx\"\n",
        "  link_acesse_inicio_dados = \"https://www.tcese.tc.br/portaldatransparencia/DadosUnidade.aspx\"\n",
        "\n",
        "  inicial_response = session.get(link_confirmar_unidade, headers=headers)\n",
        "  soup_inicial = BeautifulSoup(inicial_response.text)\n",
        "  select_ano = form_data_post_ano(soup_inicial, ano, municipio, unidade, \"ctl00$ContentPlaceHolder1$ddlAno\")\n",
        "\n",
        "  response_ano = session.post(link_confirmar_unidade, headers=headers, data=select_ano)\n",
        "  soup_ano = BeautifulSoup(response_ano.text)\n",
        "  select_municipio = form_data_post_municipio(soup_ano, ano, municipio, unidade, \"ctl00$ContentPlaceHolder1$ddlMunicipios\")\n",
        "  response_municipio = session.post(link_confirmar_unidade, headers=headers, data=select_municipio)\n",
        "\n",
        "  soup_municipio = BeautifulSoup(response_municipio.text)\n",
        "  select_unidade = form_data_post_unidade(soup_municipio, ano, municipio, unidade)\n",
        "  response_unidade = session.post(link_confirmar_unidade, headers=headers, data=select_unidade)\n",
        "\n",
        "  soup = BeautifulSoup(response_unidade.text)\n",
        "  return soup"
      ]
    },
    {
      "cell_type": "code",
      "execution_count": null,
      "metadata": {
        "id": "vdKjIWX42BGR"
      },
      "outputs": [],
      "source": [
        "def form_data_empenho(soup: BeautifulSoup) -> str|dict:\n",
        "\n",
        "  parametros = {inp[\"name\"]:inp.get(\"value\") for inp in soup.select(\"input\")}\n",
        "  data = {\n",
        "    \"__EVENTTARGET\": \"\",\n",
        "    \"__EVENTARGUMENT\": \"\",\n",
        "    \"__LASTFOCUS\": \"\",\n",
        "    \"__VIEWSTATE\": parametros[\"__VIEWSTATE\"],\n",
        "    \"__VIEWSTATEGENERATOR\": parametros[\"__VIEWSTATEGENERATOR\"],\n",
        "    \"__SCROLLPOSITIONX\": parametros[\"__SCROLLPOSITIONX\"],\n",
        "    \"__SCROLLPOSITIONY\": parametros[\"__SCROLLPOSITIONY\"],\n",
        "    \"__EVENTVALIDATION\": parametros[\"__EVENTVALIDATION\"],\n",
        "    \"ctl00$LoginView1$Login1$UserName\":\t\"\",\n",
        "    \"ctl00$LoginView1$Login1$Password\":\t\"\",\n",
        "    \"ctl00$ContentPlaceHolder1$txtDataInicial\":\t\"01/01\",\n",
        "    \"ctl00$ContentPlaceHolder1$txtDataFinal\":\t\"31/12\",\n",
        "    \"ctl00$ContentPlaceHolder1$txtNumero\":\t\"\",\n",
        "    \"ctl00$ContentPlaceHolder1$txtValorMin\":\t\"\",\n",
        "    \"ctl00$ContentPlaceHolder1$txtValorMax\":\t\"\",\n",
        "    \"ctl00$ContentPlaceHolder1$ddlOrgao\":\t\"\",\n",
        "    \"ctl00$ContentPlaceHolder1$ddlUnidadeOrcamentaria\":\t\"\",\n",
        "    \"ctl00$ContentPlaceHolder1$txtCpfCnpj\":\t\"\",\n",
        "    \"ctl00$ContentPlaceHolder1$txtEspecDespesa\":\t\"\",\n",
        "    \"ctl00$ContentPlaceHolder1$ddlRegiao\":\t\"\",\n",
        "    \"ctl00$ContentPlaceHolder1$ddlFuncao\":\t\"\",\n",
        "    \"ctl00$ContentPlaceHolder1$ddlSubfuncao\":\t\"\",\n",
        "    \"ctl00$ContentPlaceHolder1$ddlPrograma\":\t\"\",\n",
        "    \"ctl00$ContentPlaceHolder1$ddlProjAtividade\":\t\"\",\n",
        "    \"ctl00$ContentPlaceHolder1$ddlCategEconomica\":\t\"\",\n",
        "    \"ctl00$ContentPlaceHolder1$ddlGrupoDespesa\":\t\"\",\n",
        "    \"ctl00$ContentPlaceHolder1$ddlModalidadeApp\":\t\"\",\n",
        "    \"ctl00$ContentPlaceHolder1$ddlElementoDespesa\":\t\"\",\n",
        "    \"ctl00$ContentPlaceHolder1$ddlFonteRecurso\":\t\"\",\n",
        "    \"ctl00$ContentPlaceHolder1$btnConsultar\":\t\"Consultar\"\n",
        "  }\n",
        "\n",
        "  encoded_params = urlencode(data)\n",
        "  return encoded_params"
      ]
    },
    {
      "cell_type": "code",
      "execution_count": null,
      "metadata": {
        "id": "2J2ousILdc30"
      },
      "outputs": [],
      "source": [
        " #\"ctl00$ContentPlaceHolder1$ddlSubElementoDespesa\":\t\"\","
      ]
    },
    {
      "cell_type": "code",
      "execution_count": null,
      "metadata": {
        "id": "L9dDHsMf7s7p"
      },
      "outputs": [],
      "source": [
        "def form_data_page(soup: BeautifulSoup, page= \"1\")-> str|dict:\n",
        "\n",
        "  parametros = {inp[\"name\"]:inp.get(\"value\") for inp in soup.select(\"input\")}\n",
        "\n",
        "  data = {\n",
        "  \"__EVENTTARGET\": \"ctl00$ContentPlaceHolder1$grdEmpenhos\",\n",
        "  \"__EVENTARGUMENT\": f\"Page${page}\",\n",
        "  \"__VIEWSTATE\": parametros[\"__VIEWSTATE\"],\n",
        "  \"__VIEWSTATEGENERATOR\": parametros[\"__VIEWSTATEGENERATOR\"],\n",
        "  \"__SCROLLPOSITIONX\": parametros[\"__SCROLLPOSITIONX\"],\n",
        "  \"__SCROLLPOSITIONY\": parametros[\"__SCROLLPOSITIONY\"],\n",
        "  \"__EVENTVALIDATION\": parametros[\"__EVENTVALIDATION\"],\n",
        "  \"ctl00$LoginView1$Login1$UserName\": \"\",\n",
        "  \"ctl00$LoginView1$Login1$Password\": \"\",\n",
        "  \"ctl00$ContentPlaceHolder1$hdfOrdenacao\t\": \"\",\n",
        "  }\n",
        "\n",
        "  encoded_params = urlencode(data)\n",
        "  return encoded_params"
      ]
    },
    {
      "cell_type": "code",
      "execution_count": null,
      "metadata": {
        "id": "smsqLwxl3AsM"
      },
      "outputs": [],
      "source": [
        "class SlotExtration:\n",
        "\n",
        "  def __init__(self, base:SlotBase, response: requests.Response, page: int) -> None:\n",
        "\n",
        "    self.base = base\n",
        "    self.response = response\n",
        "    self.page = page"
      ]
    },
    {
      "cell_type": "code",
      "execution_count": null,
      "metadata": {
        "id": "60Pz2PbZ_C_p"
      },
      "outputs": [],
      "source": [
        "def mudar_pagina(s: requests.Session, soup: BeautifulSoup, headers: dict, page: int|str) -> requests.Response:\n",
        "\n",
        "  link_acessa_empenhos = \"https://www.tcese.tc.br/portaldatransparencia/EmpenhoLista.aspx?Ini=01/01&Fim=31/12&Num=&Min=&Max=&Org=&UO=&Reg=&Fun=&SubF=&Prg=&GD=&Mod=&PA=&CE=&ED=&SED=&FR=&CPFCNPJ=&EspD=\"\n",
        "\n",
        "  data_next_page = form_data_page(soup, str(page))\n",
        "  response_next_page = s.post(link_acessa_empenhos, headers=headers, data=data_next_page)\n",
        "  return response_next_page"
      ]
    },
    {
      "cell_type": "code",
      "execution_count": null,
      "metadata": {
        "id": "35MbwkPl41fw"
      },
      "outputs": [],
      "source": [
        "def get_response(base: SlotBase, page: int) -> SlotExtration:\n",
        "\n",
        "  response_next_page = mudar_pagina(base.session, base.soup, base.headers, page)\n",
        "  slot_extration = SlotExtration(base, response_next_page, page)\n",
        "  return slot_extration"
      ]
    },
    {
      "cell_type": "code",
      "execution_count": null,
      "metadata": {
        "id": "tiJwxIr10f0r"
      },
      "outputs": [],
      "source": [
        "def save_html(slot: SlotExtration) -> SlotExtration|bool:\n",
        "\n",
        "  try:\n",
        "\n",
        "    html = slot.response.text\n",
        "\n",
        "    if \"LISTA DE EMPENHOS\" in html:\n",
        "      path_base = f\"input/{slot.base.ano}/{slot.base.municipio}/{slot.base.unidade}/\"\n",
        "\n",
        "      os.makedirs(path_base, exist_ok=True)\n",
        "\n",
        "      with open(path_base + f\"{slot.page}.html\", \"w\") as form_html:\n",
        "        form_html.write(html)\n",
        "\n",
        "      return slot\n",
        "\n",
        "    return False\n",
        "\n",
        "  except:\n",
        "\n",
        "    return False"
      ]
    },
    {
      "cell_type": "code",
      "execution_count": null,
      "metadata": {
        "id": "rYrGNUbCJuLi"
      },
      "outputs": [],
      "source": [
        "def verifica_ultima_pagina(soup: BeautifulSoup) -> str|bool:\n",
        "\n",
        "  ultima_disponivel = False\n",
        "  last_page = soup.select('img[title=\"Última Página\"]')\n",
        "  paginas = re.findall(r\"Page[$](\\d+)\", str(soup))\n",
        "\n",
        "  if last_page:\n",
        "    ultima_disponivel = \"Last\"\n",
        "  elif paginas:\n",
        "    ultima_disponivel = str(max([int(n) for n in list(dict.fromkeys(paginas))]))\n",
        "\n",
        "  return ultima_disponivel\n",
        "\n",
        "def get_last_page(s: requests.Session, soup: BeautifulSoup, headers: dict) -> int:\n",
        "\n",
        " response =  mudar_pagina(s, soup, headers, \"Last\")\n",
        " suop = BeautifulSoup(response.text)\n",
        " pagina_atual = int(suop.select(\"td span\")[-1].text)\n",
        " return pagina_atual\n",
        "\n",
        "def form_paginas(s: requests.Session, soup: BeautifulSoup, headers: dict) -> list|bool:\n",
        "\n",
        "  paginas = False\n",
        "\n",
        "  ultima_pagina = verifica_ultima_pagina(soup)\n",
        "  if ultima_pagina:\n",
        "\n",
        "    if ultima_pagina == \"Last\":\n",
        "      ultima_pagina = get_last_page(s, soup, headers)\n",
        "\n",
        "    paginas = list(range(2, int(ultima_pagina) + 1))\n",
        "\n",
        "  return paginas"
      ]
    },
    {
      "cell_type": "code",
      "execution_count": null,
      "metadata": {
        "id": "PXbZ7CxMPZHn"
      },
      "outputs": [],
      "source": [
        "def consultar_empenho(s: requests.Session, headers: dict) -> list:\n",
        "\n",
        "  link_confirmar_empenho = \"https://www.tcese.tc.br/portaldatransparencia/Empenho.aspx\"\n",
        "\n",
        "  consulta_empenho = s.get(link_confirmar_empenho, headers=headers)\n",
        "  soup_consulta_empenho = BeautifulSoup(consulta_empenho.text)\n",
        "  data_empenho = form_data_empenho(soup_consulta_empenho)\n",
        "  response_empenho_inicial = s.post(link_confirmar_empenho, headers=headers, data=data_empenho)\n",
        "\n",
        "  soup_empenho_inicial = BeautifulSoup(response_empenho_inicial.text)\n",
        "  return [soup_empenho_inicial, response_empenho_inicial]"
      ]
    },
    {
      "cell_type": "code",
      "execution_count": null,
      "metadata": {
        "id": "Rtj8WUNgzlA6"
      },
      "outputs": [],
      "source": [
        "def coletar_paginas_empenho(municipio: str, ano: str, unidade: str) -> bool:\n",
        "\n",
        "  headers = {\n",
        "    \"User-Agent\": \"Mozilla/5.0 (Windows NT 10.0; Win64; x64; rv:125.0) Gecko/20100101 Firefox/125.0\",\n",
        "    \"Accept\": \"text/html,application/xhtml+xml,application/xml;q=0.9,image/avif,image/webp,*/*;q=0.8\",\n",
        "    \"Accept-Language\": \"pt-BR,pt;q=0.8,en-US;q=0.5,en;q=0.3\",\n",
        "    \"Content-Type\": \"application/x-www-form-urlencoded\",\n",
        "    \"Connection\": \"keep-alive\"\n",
        "  }\n",
        "\n",
        "  print(f\"{'-' * 30}\\nIniciando extração\\nMunicipio: {municipio}\\nUnidade: {unidade}\\nAno: {ano}\")\n",
        "\n",
        "  start_time = time.time()\n",
        "\n",
        "  with requests.Session() as s:\n",
        "\n",
        "    consulta = consultar_unidade(s, headers, ano, municipio, unidade)\n",
        "    soup_empenho_inicial, response_empenho_inicial = consultar_empenho(s, headers)\n",
        "\n",
        "    if \"LISTA DE EMPENHOS\" in str(soup_empenho_inicial):\n",
        "\n",
        "      slot_base = SlotBase(municipio, ano, unidade, soup_empenho_inicial, headers, s)\n",
        "\n",
        "      first_page = SlotExtration(slot_base, response_empenho_inicial, 1)\n",
        "\n",
        "      tasks_extration = [first_page]\n",
        "\n",
        "      paginas = form_paginas(s, soup_empenho_inicial, headers)\n",
        "\n",
        "      if paginas:\n",
        "\n",
        "        if len(paginas) >= 11:\n",
        "\n",
        "          paginas_chunk = make_list_chunks(paginas, chunk_size=10)\n",
        "\n",
        "          for chuck in paginas_chunk:\n",
        "\n",
        "            with concurrent.futures.ThreadPoolExecutor() as executor:\n",
        "              tasks_extration += [response for response in executor.map(lambda page: get_response(slot_base, page), chuck)]\n",
        "\n",
        "            slot_base.soup = BeautifulSoup(tasks_extration[-1].response.text)\n",
        "\n",
        "        else:\n",
        "\n",
        "          with concurrent.futures.ThreadPoolExecutor() as executor:\n",
        "            tasks_extration += [response for response in executor.map(lambda page: get_response(slot_base, page), paginas)]\n",
        "\n",
        "      print(f\"Dados prontos para serem salvos: {len(tasks_extration)}\")\n",
        "\n",
        "      with concurrent.futures.ThreadPoolExecutor() as executor:\n",
        "          extrations = [extration for extration in executor.map(save_html, tasks_extration) if extration]\n",
        "\n",
        "      print(f\"Dados salvos com sucesso: {len(extrations)}\")\n",
        "\n",
        "      segundo_execucao = time.time() - start_time\n",
        "      print(f\"Duração da execução: {segundo_execucao / 60:.2f}\\n{'-' * 30}\")\n",
        "      print(f\"Intervalo\\nRespeito de {segundo_execucao: 0.2f} segudos ao servidor\")\n",
        "      sleep(segundo_execucao * 0.2)\n",
        "\n",
        "      if len(tasks_extration) == len(extrations):\n",
        "        print(f\"Extração Perfeita!\\n{'-' * 30}\")\n",
        "        return True\n",
        "    else:\n",
        "      print(\"Erro na primeira pagina. Nada é possivel!\")\n",
        "\n",
        "  return False\n",
        "\n"
      ]
    },
    {
      "cell_type": "code",
      "execution_count": null,
      "metadata": {
        "colab": {
          "base_uri": "https://localhost:8080/"
        },
        "id": "gIpuqb2EEbCR",
        "outputId": "d06c4f08-bfd4-44b8-a835-e29eaa43a066"
      },
      "outputs": [
        {
          "name": "stdout",
          "output_type": "stream",
          "text": [
            "Salvando..\n",
            "Drive already mounted at /content/drive; to attempt to forcibly remount, call drive.mount(\"/content/drive\", force_remount=True).\n",
            "Salvamento concluido.\n"
          ]
        }
      ],
      "source": [
        "df_entidades = pd.read_csv(\"/content/csvs/se_entidades_coleta.csv\", dtype=str)\n",
        "para_coletar = df_entidades[df_entidades[\"coletado\"] == \"False\"]\n",
        "\n",
        "for n, row in enumerate(para_coletar.itertuples()):\n",
        "\n",
        "  coletado = coletar_paginas_empenho(row.municipio, row.ano, row.id_entidade)\n",
        "\n",
        "  if coletado:\n",
        "    df_entidades.loc[row.Index, \"coletado\"] = \"True\"\n",
        "\n",
        "  if (n + 1) % 20 == 0:\n",
        "    print(\"Salvando..\")\n",
        "    df_entidades.to_csv(\"/content/csvs/se_entidades_coleta.csv\", index=False)\n",
        "    send_solo_drive()\n",
        "    print(\"Salvamento concluido.\")\n",
        "\n",
        "\n",
        "print(\"Salvando..\")\n",
        "df_entidades.to_csv(\"/content/csvs/se_entidades_coleta.csv\", index=False)\n",
        "send_solo_drive()\n",
        "print(\"Salvamento concluido.\")"
      ]
    },
    {
      "cell_type": "markdown",
      "metadata": {
        "id": "98_15dAlHvyk"
      },
      "source": [
        "# Mandar no drive"
      ]
    },
    {
      "cell_type": "code",
      "execution_count": null,
      "metadata": {
        "colab": {
          "base_uri": "https://localhost:8080/"
        },
        "id": "a3Sf_eG8H10g",
        "outputId": "d37396f5-ceda-4957-c143-cb189e7adf73"
      },
      "outputs": [
        {
          "name": "stdout",
          "output_type": "stream",
          "text": [
            "Drive already mounted at /content/drive; to attempt to forcibly remount, call drive.mount(\"/content/drive\", force_remount=True).\n"
          ]
        }
      ],
      "source": [
        "drive.mount('/content/drive')\n",
        "\n",
        "df_entidades.to_csv(\"/content/csvs/se_entidades_coleta.csv\", index=False)\n",
        "\n",
        "send_folder_drive(path_drive_input,\n",
        "                \"/content/input/\")\n",
        "\n",
        "send_folder_drive(path_drive_csv,\n",
        "                \"/content/csvs\")"
      ]
    },
    {
      "cell_type": "markdown",
      "metadata": {
        "id": "lfC9UsGLyeFI"
      },
      "source": [
        "# Testa elementos de Requerimento"
      ]
    },
    {
      "cell_type": "code",
      "execution_count": null,
      "metadata": {
        "id": "ZJJMGD-dJL4s"
      },
      "outputs": [],
      "source": [
        "Municipio = \"AQUIDABA\"\n",
        "Unidade = \"009036\"\n",
        "Ano = \"2016\"\n",
        "\n",
        "# coletar_paginas_empenho(Municipio, Ano, Unidade)"
      ]
    },
    {
      "cell_type": "code",
      "execution_count": null,
      "metadata": {
        "id": "W2tXmQjmNDJF"
      },
      "outputs": [],
      "source": [
        "def testo(municipio: str, ano: str, unidade: str):\n",
        "  headers = {\n",
        "      \"User-Agent\": \"Mozilla/5.0 (Windows NT 10.0; Win64; x64; rv:125.0) Gecko/20100101 Firefox/125.0\",\n",
        "      \"Accept\": \"text/html,application/xhtml+xml,application/xml;q=0.9,image/avif,image/webp,*/*;q=0.8\",\n",
        "      \"Accept-Language\": \"pt-BR,pt;q=0.8,en-US;q=0.5,en;q=0.3\",\n",
        "      \"Content-Type\": \"application/x-www-form-urlencoded\",\n",
        "      \"Connection\": \"keep-alive\"\n",
        "    }\n",
        "\n",
        "\n",
        "  start_time = time.time()\n",
        "\n",
        "  with requests.Session() as s:\n",
        "\n",
        "    consulta = consultar_unidade(s, headers, ano, municipio, unidade)\n",
        "    soup_empenho_inicial,_ = consultar_empenho(s, headers)\n",
        "    return soup_empenho_inicial, consulta"
      ]
    },
    {
      "cell_type": "code",
      "execution_count": null,
      "metadata": {
        "id": "BCd_MWFfNLIh"
      },
      "outputs": [],
      "source": [
        "soup_empenho_inicial, consulta = testo(Municipio, Ano, Unidade)\n",
        "soup_empenho_inicial"
      ]
    },
    {
      "cell_type": "code",
      "execution_count": null,
      "metadata": {
        "id": "1CI7Lvtwb7k4"
      },
      "outputs": [],
      "source": [
        "consulta"
      ]
    },
    {
      "cell_type": "markdown",
      "metadata": {
        "id": "dtWLLFT-EwHI"
      },
      "source": [
        "# Pegar pagina inicial"
      ]
    },
    {
      "cell_type": "code",
      "execution_count": null,
      "metadata": {
        "id": "G36p7b1HE80M"
      },
      "outputs": [],
      "source": [
        "link_confirmar_unidade = \"https://www.tcese.tc.br/portaldatransparencia/Default.aspx\"\n",
        "link_acesse_inicio_dados = \"https://www.tcese.tc.br/portaldatransparencia/DadosUnidade.aspx\"\n",
        "\n",
        "\n",
        "headers = {\n",
        "  \"User-Agent\": \"Mozilla/5.0 (Windows NT 10.0; Win64; x64; rv:125.0) Gecko/20100101 Firefox/125.0\",\n",
        "  \"Accept\": \"text/html,application/xhtml+xml,application/xml;q=0.9,image/avif,image/webp,*/*;q=0.8\",\n",
        "  \"Accept-Language\": \"pt-BR,pt;q=0.8,en-US;q=0.5,en;q=0.3\",\n",
        "  \"Content-Type\": \"application/x-www-form-urlencoded\",\n",
        "  \"Connection\": \"keep-alive\"\n",
        "}\n",
        "\n",
        "ano = \"2016\"\n",
        "municipio = \"CARIRA\"\n",
        "unidade = \"004323\"\n",
        "\n",
        "\n",
        "with requests.Session() as s:\n",
        "\n",
        "  inicial_response = s.get(link_confirmar_unidade, headers=headers)\n",
        "  soup_inicial = BeautifulSoup(inicial_response.text)\n",
        "  select_ano = form_data_post_ano(soup_inicial, ano, municipio, unidade, \"ctl00$ContentPlaceHolder1$ddlAno\")\n",
        "  # body_inicial = form_data_post(soup_inicial, ano, municipio, unidade)\n",
        "\n",
        "  response_ano = s.post(link_confirmar_unidade, headers=headers, data=select_ano)\n",
        "  soup_ano = BeautifulSoup(response_ano.text)\n",
        "  select_municipio = form_data_post_municipio(soup_ano, ano, municipio, unidade, \"ctl00$ContentPlaceHolder1$ddlMunicipios\")\n",
        "  response_municipio = s.post(link_confirmar_unidade, headers=headers, data=select_municipio)\n",
        "  # body_inicial = form_data_post(soup_inicial, ano, municipio, unidade)\n",
        "\n",
        "  # response2 = s.post(link_acesse_inicio_dados, headers=headers)\n",
        "\n",
        "  soup_municipio = BeautifulSoup(response_municipio.text)\n",
        "  select_unidade = form_data_post_unidade(soup_municipio, ano, municipio, unidade)\n",
        "  response_unidade = s.post(link_confirmar_unidade, headers=headers, data=select_unidade)\n",
        "\n",
        "  soup = BeautifulSoup(response_unidade.text)\n",
        "\n",
        "  print(soup)\n"
      ]
    },
    {
      "cell_type": "code",
      "execution_count": null,
      "metadata": {
        "id": "UH-4ijDiqKDG"
      },
      "outputs": [],
      "source": []
    },
    {
      "cell_type": "code",
      "execution_count": null,
      "metadata": {
        "colab": {
          "base_uri": "https://localhost:8080/"
        },
        "id": "k1PopCsUcsi4",
        "outputId": "ee52c846-8f84-4c58-b142-c5a1fcf0a641"
      },
      "outputs": [
        {
          "data": {
            "text/plain": [
              "<!DOCTYPE html PUBLIC \"-//W3C//DTD XHTML 1.0 Transitional//EN\" \"http://www.w3.org/TR/xhtml1/DTD/xhtml1-transitional.dtd\">\n",
              "<html xmlns=\"http://www.w3.org/1999/xhtml\">\n",
              "<head><link href=\"App_Themes/Tce/Default.css\" rel=\"stylesheet\" type=\"text/css\"/><title>\n",
              "\tTCE/SE Portal da Transparência\n",
              "</title>\n",
              "<style type=\"text/css\">\n",
              "        .table\n",
              "        {\n",
              "            width: 100%;\n",
              "        }\n",
              "        a.menu_disable:link\n",
              "        {\n",
              "            color: #999;\n",
              "            text-decoration: none;\n",
              "        }\n",
              "        a.menu_disable:active\n",
              "        {\n",
              "            color: #999;\n",
              "            text-decoration: none;\n",
              "        }\n",
              "        a.menu_disable:visited\n",
              "        {\n",
              "            color: #999;\n",
              "            text-decoration: none;\n",
              "        }\n",
              "        a.menu_disable:hover\n",
              "        {\n",
              "            color: #999;\n",
              "            text-decoration: none;\n",
              "        }\n",
              "    </style>\n",
              "<script language=\"javascript\" src=\"Scripts/Format/Generic.js\" type=\"text/javascript\"></script>\n",
              "<script language=\"javascript\" src=\"Scripts/Format/Format.js\" type=\"text/javascript\"></script>\n",
              "<script language=\"javascript\" src=\"Scripts/Format/FormatString.js\" type=\"text/javascript\"></script>\n",
              "<script language=\"javascript\" src=\"Scripts/Format/FormatNumber.js\" type=\"text/javascript\"></script>\n",
              "<script language=\"javascript\" src=\"Scripts/aapf.js\" type=\"text/javascript\"></script>\n",
              "<link href=\"style.css\" rel=\"stylesheet\" type=\"text/css\"/></head>\n",
              "<body>\n",
              "<form action=\"./Default.aspx\" id=\"aspnetForm\" method=\"post\" name=\"aspnetForm\" onsubmit=\"javascript:return WebForm_OnSubmit();\">\n",
              "<div>\n",
              "<input id=\"__EVENTTARGET\" name=\"__EVENTTARGET\" type=\"hidden\" value=\"\"/>\n",
              "<input id=\"__EVENTARGUMENT\" name=\"__EVENTARGUMENT\" type=\"hidden\" value=\"\"/>\n",
              "<input id=\"__LASTFOCUS\" name=\"__LASTFOCUS\" type=\"hidden\" value=\"\"/>\n",
              "<input id=\"__VIEWSTATE\" name=\"__VIEWSTATE\" type=\"hidden\" value=\"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\"/>\n",
              "</div>\n",
              "<script type=\"text/javascript\">\n",
              "//<![CDATA[\n",
              "var theForm = document.forms['aspnetForm'];\n",
              "if (!theForm) {\n",
              "    theForm = document.aspnetForm;\n",
              "}\n",
              "function __doPostBack(eventTarget, eventArgument) {\n",
              "    if (!theForm.onsubmit || (theForm.onsubmit() != false)) {\n",
              "        theForm.__EVENTTARGET.value = eventTarget;\n",
              "        theForm.__EVENTARGUMENT.value = eventArgument;\n",
              "        theForm.submit();\n",
              "    }\n",
              "}\n",
              "//]]>\n",
              "</script>\n",
              "<script src=\"/portaldatransparencia/WebResource.axd?d=Qj2IwnSi1w2NA9U_jNvBIeXQSuUgcWQGg18JyCKIS50dgkqeT4Aw39PCUzdhtm6Efz260wpsFnYCXXKU_HcRAC2An2vs6INTmS7S9dfawiI1&amp;t=637100518460000000\" type=\"text/javascript\"></script>\n",
              "<script src=\"/portaldatransparencia/WebResource.axd?d=nF4GtlN9mxYPBG9vcIaHOAgQSIBvllfJVSQMENBfahGpFE4Y24DUkiiWAEMc8LB5p2RYcCqutp-7Gipf1dbNE9-KMGt1kduF6PWoV-i4Kdo1&amp;t=637100518460000000\" type=\"text/javascript\"></script>\n",
              "<script type=\"text/javascript\">\n",
              "//<![CDATA[\n",
              "function WebForm_OnSubmit() {\n",
              "if (typeof(ValidatorOnSubmit) == \"function\" && ValidatorOnSubmit() == false) return false;\n",
              "return true;\n",
              "}\n",
              "//]]>\n",
              "</script>\n",
              "<div>\n",
              "<input id=\"__VIEWSTATEGENERATOR\" name=\"__VIEWSTATEGENERATOR\" type=\"hidden\" value=\"C1D7D404\"/>\n",
              "<input id=\"__SCROLLPOSITIONX\" name=\"__SCROLLPOSITIONX\" type=\"hidden\" value=\"0\"/>\n",
              "<input id=\"__SCROLLPOSITIONY\" name=\"__SCROLLPOSITIONY\" type=\"hidden\" value=\"0\"/>\n",
              "<input id=\"__EVENTVALIDATION\" name=\"__EVENTVALIDATION\" type=\"hidden\" value=\"/wEdAGLmPUM5odj3gUkiOB7LoiZYxgjExItltWJx9uMX98PxvlxLL0p5uczRMRVoQT+5e8u8efzf8OMpHYaqxJal/xILgx4UCXUptLo3W1vusgsI8APYvPHCgc9Ifw+zKV0daHx8krSKbGJ9drprqltlKWEETQDf9Wce5CRRSgvOupsF2mY/e1oSwUtOzoZthJCXZWwVi8MHEvrAPcbiqgVjmIQxoTAJFhUoKRO04E4RLX7OTugsWyWB8L+3gV9UpFFmyRMWvL5YiF6jtsSZfI7+fkWhzFmQOY4fO1GnVs1GbANjqtiiEPviF6m+5OpSjV88wwysuB9qJf4w39T/tcmlUN6ampMbVyEUJUknYRXXyRbHbRH6Bdzuu2rPCFO0Ve16lrhfxLjANeGueDucnY9xB7HFSjRvnYSH8RPpZc8GY6spk/FUBkeCB7FyN6HV7b7h21yXxMDEEApAkFEgc8kFvYcUj9IBdOJx9teRB6+sB6sice8hUrn5pc9iIjHObEoHh98y/7kljU3l7WdFdgf3iA0wqcyUc8CNAnFeCFz+o0dBPLMjFECu01IG9z9bFRmADRBgFu5J85z26FKFkFUUEV2/+EWEfrEn4JxcvnLFMAy7t8PFKNmQiM+O6NXiUTNyLG0B1D4YK6Z+KR6KqpGlJIuY5qjrxG3vwqbx6555SGxXxgKJq2pJN6F1n5WZKvPp2Ouiq9KSlHc3Vw39GqfUM/yVKP9MJa4ocMxr0h49IxysYFjt6dRKeICeADChW9wrEEouFOJRAs9oWfRSjUPgkRiYBbSHvygI0fmNpNDyqJ7tuFpWwCBiOGSlSO7WzesnzKWabFW7342BoWGRexcVTnGcSiltybb/XpsYkg1smAXVjg4Eg6GElS9lO79//XqPIRUW9SvOQ1fibUNiPegKE3k+PEyvbTL+NIr5a28a/zjE/lxWKPdgyQiC2AIvp8ZO3GzCl6u5pEoybtRa2xGpqHBVaHQqqKvgdgKQF6naIr3wNWKaE6PEFwnQ8g7hN/JvBaxtkd3C9A+3fK2O8w3MJtPrxj0u8jTfhanlrKTOcZfZdGAQfwVqH8qHYaChdiGhtVKFycMotojkGGfYOSvqKshze/ez95svTeBlurnjbjLD7m0A4qqcKCC7KP1KyrqCDBNw6Au4QPscITzvOerfxfUyoVnFhBVWVKykR6MHlT8YQR0QOa2pLZgXYfsJnFYZlnpSX41AQkOOb+X2vEtdyAzgAl7f9JqXbhtNI0x4ap0md+xeBkH3I1vJrhZgnekZhpqk4Aln21pbYaWKbaTo0JRTeOQroqz+c7ox8Icu2Og5lm0/NoOAndteeapOhROiuIhjKIWCCQ7SVMZZKgHHCr2yB81zJGHyNsIWkQ298wEQ6H5OuUhSR9M66kND5lhD/hawGxofadql/CEqxDwyg71PfqXM3RzrhEvfwY7BCFEaHl+1sSgNYswVDN4XXd9+OysUSUcOqnz2zbFKeLLNMRIK3eF9FyOIBxjAmnty89SI7c1WnGqXdHt3XsoxEz+gd7QrgNyHdVQixBStUhG+OraCjb+rgkR1u7sbsv6n8h3SENZFn3XOtCz0/FwETB+nXhv3dVBht4ehF6LvvmHv6E6rFsTfTLHSJC+4RM6i3TyGIlAf8p0hg/jb7F6PaGF4a11ZozQfUuorEgpWrNanxQC6DDOE+2QCdVfoJysKAhfyF8lOa4Nl7LbgtdoLYPUetmE3Y0moLCnZfeRyhSdTRxjxFckn3agbz19brpy4upPipiEbbbtn7PKuGfgQlBW5uO05QON3Y/nfHD6RIHH0zOJW7a+dl9jliiIDuDyZI+bLfcHgYSZvYPjZrm1+eSBcUvuI7/A8HvKSkG8VMVF587oe0eQgERSzgsnkgZAqWmLf3Juy5UBAzGIItxlbeikanjqbsEZEKqoWN42oQw45m9UONliK4b78plnV8Uud/M/x7O0guZSiZHDpXKLQGpOcpSLVoYVRq1XXbEBVVMBbSiN77qanTMnRk2KFbmr1ovr0o257L+rNzahWvVmS4ICxGnQrMf/Zbt2muGkOlCuTpUuyP6/fbXM3ld+1x4RBvaHtiVCRZ9thHFVYe1SfH2lbXkNkEpLma6g/bDyWes6OuY0N\"/>\n",
              "</div>\n",
              "<table border=\"0\" cellpadding=\"0\" cellspacing=\"0\" id=\"ctl00_LoginView1_Login1\" style=\"width:100%;border-collapse:collapse;\">\n",
              "<tr>\n",
              "<td>\n",
              "<div class=\"barra-superior\">\n",
              "<div style=\"margin: 0 auto; width: 980px;\">\n",
              "                            Fazer login:  \n",
              "                            <input class=\"intranet-usuario\" id=\"ctl00_LoginView1_Login1_UserName\" maxlength=\"14\" name=\"ctl00$LoginView1$Login1$UserName\" style=\"height:20px;width:140px;\" type=\"text\"/>\n",
              "<span id=\"ctl00_LoginView1_Login1_UserNameRequired\" style=\"color:Yellow;visibility:hidden;\" title=\"Usuário requerido.\">*</span>\n",
              "<input class=\"intranet-senha\" id=\"ctl00_LoginView1_Login1_Password\" maxlength=\"14\" name=\"ctl00$LoginView1$Login1$Password\" style=\"height:20px;width:140px;\" type=\"password\"/>\n",
              "<span id=\"ctl00_LoginView1_Login1_PasswordRequired\" style=\"color:Yellow;visibility:hidden;\" title=\"Senha requerido.\">*</span>\n",
              "<input id=\"ctl00_LoginView1_Login1_LoginButton\" name=\"ctl00$LoginView1$Login1$LoginButton\" onclick='javascript:WebForm_DoPostBackWithOptions(new WebForm_PostBackOptions(\"ctl00$LoginView1$Login1$LoginButton\", \"\", true, \"Login1\", \"\", false, false))' src=\"Images/bt_entrar.jpg\" style=\"border-width:0px;\" type=\"image\"/>\n",
              "</div>\n",
              "</div>\n",
              "</td>\n",
              "</tr>\n",
              "</table>\n",
              "<table bgcolor=\"#EBEBEB\" width=\"100%\">\n",
              "<tr>\n",
              "<td>\n",
              "<table align=\"center\" cellpadding=\"6\" width=\"980px\">\n",
              "<tr>\n",
              "<td width=\"211px\">\n",
              "<a href=\"http://www.tce.se.gov.br\">\n",
              "<img alt=\"Logotipo do TCE\" border=\"0\" height=\"71px\" src=\"Images/logo.png\" title=\"Ir para a página inicial do TCE/SE\" width=\"211px\"/></a>\n",
              "</td>\n",
              "<td>\n",
              "</td>\n",
              "</tr>\n",
              "</table>\n",
              "</td>\n",
              "</tr>\n",
              "</table>\n",
              "<table align=\"center\" cellpadding=\"6\" width=\"980px\">\n",
              "<tr>\n",
              "<td>\n",
              "<div class=\"site-title\">\n",
              "                    Informações do Jurisdicionado</div>\n",
              "<div style=\"text-align: justify; padding: 5px\">\n",
              "<font color=\"#000000\" face=\"Arial, Helvetica, sans-serif\"><span style=\"line-height: 24px;\">O Tribunal de Contas do Estado de Sergipe (TCE/SE), na busca do crescente\n",
              "                        aperfeiçoamento da transparência, como valor essencial na divulgação das suas ações e resultados, vem buscando cada vez mais, soluções propiciadoras de modernização\n",
              "                        dos meios de divulgação oficial. Desta forma, vai além do seu tempo, e disponibiliza através do “Portal da Transparência” as principais informações relativas à\n",
              "                        gestão pública, sua e de seus jurisdicionados. Com este instrumento, o TCE/SE, visa atender as determinações contidas nas Leis Complementares nºs 101/2000 (LRF)\n",
              "                        e 131/2009 e, ainda, na Lei Federal n° 12.527, de 18 de novembro de 2011 (LAI), prestigiando o princípio da transparência, que deve nortear os atos praticados pela\n",
              "                        Administração Pública, bem como contribuir, de forma efetiva, para o exercício do controle social sobre os gastos públicos. </span></font>\n",
              "</div>\n",
              "<div style=\"border: solid 1px #8EBE32; background-color: #EEEEEE; padding: 5px\">\n",
              "<div id=\"ctl00_ContentPlaceHolder1_pnlSistemaAtivo\">\n",
              "<h3 style=\"color: #000\">\n",
              "                            Seleção da Unidade Gestora</h3>\n",
              "<table border=\"0\" cellpadding=\"4\" width=\"100%\">\n",
              "<tr>\n",
              "<td width=\"120px\">\n",
              "                                    Esfera:\n",
              "                                </td>\n",
              "<td>\n",
              "<select id=\"ctl00_ContentPlaceHolder1_ddlEsfera\" name=\"ctl00$ContentPlaceHolder1$ddlEsfera\" onchange=\"javascript:setTimeout('__doPostBack(\\'ctl00$ContentPlaceHolder1$ddlEsfera\\',\\'\\')', 0)\">\n",
              "<option selected=\"selected\" value=\"1\">Municipal</option>\n",
              "<option value=\"2\">Estadual</option>\n",
              "</select>\n",
              "</td>\n",
              "</tr>\n",
              "<tr>\n",
              "<td width=\"120px\">\n",
              "                                    Ano:\n",
              "                                </td>\n",
              "<td>\n",
              "<select id=\"ctl00_ContentPlaceHolder1_ddlAno\" name=\"ctl00$ContentPlaceHolder1$ddlAno\" onchange=\"javascript:setTimeout('__doPostBack(\\'ctl00$ContentPlaceHolder1$ddlAno\\',\\'\\')', 0)\">\n",
              "<option selected=\"selected\" value=\"2016\">2016</option>\n",
              "<option value=\"2015\">2015</option>\n",
              "<option value=\"2014\">2014</option>\n",
              "<option value=\"2013\">2013</option>\n",
              "<option value=\"2012\">2012</option>\n",
              "<option value=\"2011\">2011</option>\n",
              "<option value=\"2010\">2010</option>\n",
              "<option value=\"2009\">2009</option>\n",
              "<option value=\"2008\">2008</option>\n",
              "</select>\n",
              "</td>\n",
              "</tr>\n",
              "</table>\n",
              "<div id=\"ctl00_ContentPlaceHolder1_pnlMunicipios\">\n",
              "<table border=\"0\" cellpadding=\"4\" width=\"100%\">\n",
              "<tr>\n",
              "<td width=\"120px\">\n",
              "                                        Município:\n",
              "                                    </td>\n",
              "<td>\n",
              "<select id=\"ctl00_ContentPlaceHolder1_ddlMunicipios\" name=\"ctl00$ContentPlaceHolder1$ddlMunicipios\" onchange=\"javascript:setTimeout('__doPostBack(\\'ctl00$ContentPlaceHolder1$ddlMunicipios\\',\\'\\')', 0)\">\n",
              "<option selected=\"selected\" value=\"AMPARO DE SAO FRANCISCO\">AMPARO DE SAO FRANCISCO</option>\n",
              "<option value=\"AQUIDABA\">AQUIDABA</option>\n",
              "<option value=\"ARACAJU\">ARACAJU</option>\n",
              "<option value=\"ARAUA\">ARAUA</option>\n",
              "<option value=\"AREIA BRANCA\">AREIA BRANCA</option>\n",
              "<option value=\"BARRA DOS COQUEIROS\">BARRA DOS COQUEIROS</option>\n",
              "<option value=\"BOQUIM\">BOQUIM</option>\n",
              "<option value=\"BREJO GRANDE\">BREJO GRANDE</option>\n",
              "<option value=\"CAMPO DO BRITO\">CAMPO DO BRITO</option>\n",
              "<option value=\"CANHOBA\">CANHOBA</option>\n",
              "<option value=\"CANINDE DE SAO FRANCISCO\">CANINDE DE SAO FRANCISCO</option>\n",
              "<option value=\"CAPELA\">CAPELA</option>\n",
              "<option value=\"CARIRA\">CARIRA</option>\n",
              "<option value=\"CARMOPOLIS\">CARMOPOLIS</option>\n",
              "<option value=\"CEDRO DE SAO JOAO\">CEDRO DE SAO JOAO</option>\n",
              "<option value=\"CRISTINAPOLIS\">CRISTINAPOLIS</option>\n",
              "<option value=\"CUMBE\">CUMBE</option>\n",
              "<option value=\"DIVINA PASTORA\">DIVINA PASTORA</option>\n",
              "<option value=\"ESTANCIA\">ESTANCIA</option>\n",
              "<option value=\"FEIRA NOVA\">FEIRA NOVA</option>\n",
              "<option value=\"FREI PAULO\">FREI PAULO</option>\n",
              "<option value=\"GARARU\">GARARU</option>\n",
              "<option value=\"GENERAL MAYNARD\">GENERAL MAYNARD</option>\n",
              "<option value=\"GRACCHO CARDOSO\">GRACCHO CARDOSO</option>\n",
              "<option value=\"ILHA DAS FLORES\">ILHA DAS FLORES</option>\n",
              "<option value=\"INDIAROBA\">INDIAROBA</option>\n",
              "<option value=\"ITABAIANA\">ITABAIANA</option>\n",
              "<option value=\"ITABAIANINHA\">ITABAIANINHA</option>\n",
              "<option value=\"ITABI\">ITABI</option>\n",
              "<option value=\"ITAPORANGA D'AJUDA\">ITAPORANGA D'AJUDA</option>\n",
              "<option value=\"JAPARATUBA\">JAPARATUBA</option>\n",
              "<option value=\"JAPOATA\">JAPOATA</option>\n",
              "<option value=\"LAGARTO\">LAGARTO</option>\n",
              "<option value=\"LARANJEIRAS\">LARANJEIRAS</option>\n",
              "<option value=\"MACAMBIRA\">MACAMBIRA</option>\n",
              "<option value=\"MALHADA DOS BOIS\">MALHADA DOS BOIS</option>\n",
              "<option value=\"MALHADOR\">MALHADOR</option>\n",
              "<option value=\"MARUIM\">MARUIM</option>\n",
              "<option value=\"MOITA BONITA\">MOITA BONITA</option>\n",
              "<option value=\"MONTE ALEGRE\">MONTE ALEGRE</option>\n",
              "<option value=\"MURIBECA\">MURIBECA</option>\n",
              "<option value=\"NEOPOLIS\">NEOPOLIS</option>\n",
              "<option value=\"NOSSA SENHORA APARECIDA\">NOSSA SENHORA APARECIDA</option>\n",
              "<option value=\"NOSSA SENHORA DA GLORIA\">NOSSA SENHORA DA GLORIA</option>\n",
              "<option value=\"NOSSA SENHORA DAS DORES\">NOSSA SENHORA DAS DORES</option>\n",
              "<option value=\"NOSSA SENHORA DE LOURDES\">NOSSA SENHORA DE LOURDES</option>\n",
              "<option value=\"NOSSA SENHORA DO SOCORRO\">NOSSA SENHORA DO SOCORRO</option>\n",
              "<option value=\"PACATUBA\">PACATUBA</option>\n",
              "<option value=\"PEDRA MOLE\">PEDRA MOLE</option>\n",
              "<option value=\"PEDRINHAS\">PEDRINHAS</option>\n",
              "<option value=\"PINHAO\">PINHAO</option>\n",
              "<option value=\"PIRAMBU\">PIRAMBU</option>\n",
              "<option value=\"POCO REDONDO\">POCO REDONDO</option>\n",
              "<option value=\"POCO VERDE\">POCO VERDE</option>\n",
              "<option value=\"PORTO DA FOLHA\">PORTO DA FOLHA</option>\n",
              "<option value=\"PROPRIA\">PROPRIA</option>\n",
              "<option value=\"RIACHAO DO DANTAS\">RIACHAO DO DANTAS</option>\n",
              "<option value=\"RIACHUELO\">RIACHUELO</option>\n",
              "<option value=\"RIBEIROPOLIS\">RIBEIROPOLIS</option>\n",
              "<option value=\"ROSARIO DO CATETE\">ROSARIO DO CATETE</option>\n",
              "<option value=\"SALGADO\">SALGADO</option>\n",
              "<option value=\"SANTA LUZIA DO ITANHY\">SANTA LUZIA DO ITANHY</option>\n",
              "<option value=\"SANTA ROSA DE LIMA\">SANTA ROSA DE LIMA</option>\n",
              "<option value=\"SANTANA DO SAO FRANCISCO\">SANTANA DO SAO FRANCISCO</option>\n",
              "<option value=\"SANTO AMARO DAS BROTAS\">SANTO AMARO DAS BROTAS</option>\n",
              "<option value=\"SAO CRISTOVAO\">SAO CRISTOVAO</option>\n",
              "<option value=\"SAO DOMINGOS\">SAO DOMINGOS</option>\n",
              "<option value=\"SAO FRANCISCO\">SAO FRANCISCO</option>\n",
              "<option value=\"SAO MIGUEL DO ALEIXO\">SAO MIGUEL DO ALEIXO</option>\n",
              "<option value=\"SIMAO DIAS\">SIMAO DIAS</option>\n",
              "<option value=\"SIRIRI\">SIRIRI</option>\n",
              "<option value=\"TELHA\">TELHA</option>\n",
              "<option value=\"TOBIAS BARRETO\">TOBIAS BARRETO</option>\n",
              "<option value=\"TOMAR DO GERU\">TOMAR DO GERU</option>\n",
              "<option value=\"UMBAUBA\">UMBAUBA</option>\n",
              "</select>\n",
              "</td>\n",
              "</tr>\n",
              "</table>\n",
              "</div>\n",
              "<table border=\"0\" cellpadding=\"4\" width=\"100%\">\n",
              "<tr>\n",
              "<td width=\"120px\">\n",
              "                                    Unidade Gestora:\n",
              "                                </td>\n",
              "<td>\n",
              "<select id=\"ctl00_ContentPlaceHolder1_ddlUnidadeGestora\" name=\"ctl00$ContentPlaceHolder1$ddlUnidadeGestora\" style=\"width:800px;\">\n",
              "<option value=\"002322\">CAMARA MUNICIPAL DE AMPARO DE SAO FRANCISCO (CM-AMPARO S.F.)</option>\n",
              "<option value=\"009137\">FUNDO MUNICIPAL DE ASSISTENCIA SOCIAL DE AMPARO DO SAO FRANCISCO (FMAS)</option>\n",
              "<option value=\"009034\">FUNDO MUNICIPAL DE SAUDE DE AMPARO SAO FRANCISCO (FMS)</option>\n",
              "<option value=\"002306\">PREFEITURA MUNICIPAL DE AMPARO DO SAO FRANCISCO (PM-AMPARO S.F.)</option>\n",
              "</select>\n",
              "<br/>\n",
              "</td>\n",
              "</tr>\n",
              "<tr>\n",
              "<td colspan=\"2\">\n",
              "<input id=\"ctl00_ContentPlaceHolder1_imgConsultar\" name=\"ctl00$ContentPlaceHolder1$imgConsultar\" src=\"Images/btn_consultar.png\" style=\"border-width:0px;\" type=\"image\"/>\n",
              "</td>\n",
              "</tr>\n",
              "</table>\n",
              "</div>\n",
              "</div>\n",
              "</td>\n",
              "</tr>\n",
              "</table>\n",
              "<div style=\"height: 2px; background-color: #3399CC\">\n",
              "</div>\n",
              "<script type=\"text/javascript\">\n",
              "//<![CDATA[\n",
              "var Page_Validators =  new Array(document.getElementById(\"ctl00_LoginView1_Login1_UserNameRequired\"), document.getElementById(\"ctl00_LoginView1_Login1_PasswordRequired\"));\n",
              "//]]>\n",
              "</script>\n",
              "<script type=\"text/javascript\">\n",
              "//<![CDATA[\n",
              "var ctl00_LoginView1_Login1_UserNameRequired = document.all ? document.all[\"ctl00_LoginView1_Login1_UserNameRequired\"] : document.getElementById(\"ctl00_LoginView1_Login1_UserNameRequired\");\n",
              "ctl00_LoginView1_Login1_UserNameRequired.controltovalidate = \"ctl00_LoginView1_Login1_UserName\";\n",
              "ctl00_LoginView1_Login1_UserNameRequired.errormessage = \"Usuário requerido.\";\n",
              "ctl00_LoginView1_Login1_UserNameRequired.validationGroup = \"Login1\";\n",
              "ctl00_LoginView1_Login1_UserNameRequired.evaluationfunction = \"RequiredFieldValidatorEvaluateIsValid\";\n",
              "ctl00_LoginView1_Login1_UserNameRequired.initialvalue = \"\";\n",
              "var ctl00_LoginView1_Login1_PasswordRequired = document.all ? document.all[\"ctl00_LoginView1_Login1_PasswordRequired\"] : document.getElementById(\"ctl00_LoginView1_Login1_PasswordRequired\");\n",
              "ctl00_LoginView1_Login1_PasswordRequired.controltovalidate = \"ctl00_LoginView1_Login1_Password\";\n",
              "ctl00_LoginView1_Login1_PasswordRequired.errormessage = \"Senha requerido.\";\n",
              "ctl00_LoginView1_Login1_PasswordRequired.validationGroup = \"Login1\";\n",
              "ctl00_LoginView1_Login1_PasswordRequired.evaluationfunction = \"RequiredFieldValidatorEvaluateIsValid\";\n",
              "ctl00_LoginView1_Login1_PasswordRequired.initialvalue = \"\";\n",
              "//]]>\n",
              "</script>\n",
              "<script type=\"text/javascript\">\n",
              "//<![CDATA[\n",
              "\n",
              "var Page_ValidationActive = false;\n",
              "if (typeof(ValidatorOnLoad) == \"function\") {\n",
              "    ValidatorOnLoad();\n",
              "}\n",
              "\n",
              "function ValidatorOnSubmit() {\n",
              "    if (Page_ValidationActive) {\n",
              "        return ValidatorCommonOnSubmit();\n",
              "    }\n",
              "    else {\n",
              "        return true;\n",
              "    }\n",
              "}\n",
              "        \n",
              "theForm.oldSubmit = theForm.submit;\n",
              "theForm.submit = WebForm_SaveScrollPositionSubmit;\n",
              "\n",
              "theForm.oldOnSubmit = theForm.onsubmit;\n",
              "theForm.onsubmit = WebForm_SaveScrollPositionOnSubmit;\n",
              "//]]>\n",
              "</script>\n",
              "</form>\n",
              "</body>\n",
              "</html>"
            ]
          },
          "execution_count": 41,
          "metadata": {},
          "output_type": "execute_result"
        }
      ],
      "source": [
        "BeautifulSoup(inicial_response.text)"
      ]
    },
    {
      "cell_type": "code",
      "execution_count": null,
      "metadata": {
        "id": "SRmJcOV5dfnb"
      },
      "outputs": [],
      "source": [
        "body_inicial"
      ]
    },
    {
      "cell_type": "markdown",
      "metadata": {
        "id": "HKT22n6QEk-Q"
      },
      "source": [
        "# Chegar ao empenhos"
      ]
    },
    {
      "cell_type": "code",
      "execution_count": null,
      "metadata": {
        "id": "jzSSQhDkEf87"
      },
      "outputs": [],
      "source": [
        "link_confirmar_empenho = \"https://www.tcese.tc.br/portaldatransparencia/Empenho.aspx\"\n",
        "link_acessa_empenhos = \"https://www.tcese.tc.br/portaldatransparencia/EmpenhoLista.aspx?Ini=01/01&Fim=31/12&Num=&Min=&Max=&Org=&UO=&Reg=&Fun=&SubF=&Prg=&GD=&Mod=&PA=&CE=&ED=&SED=&FR=&CPFCNPJ=&EspD=\"\n",
        "\n",
        "\n",
        "headers = {\n",
        "  \"User-Agent\": \"Mozilla/5.0 (Windows NT 10.0; Win64; x64; rv:125.0) Gecko/20100101 Firefox/125.0\",\n",
        "  \"Accept\": \"text/html,application/xhtml+xml,application/xml;q=0.9,image/avif,image/webp,*/*;q=0.8\",\n",
        "  \"Accept-Language\": \"pt-BR,pt;q=0.8,en-US;q=0.5,en;q=0.3\",\n",
        "  \"Content-Type\": \"application/x-www-form-urlencoded\",\n",
        "}\n",
        "\n",
        "\n",
        "with requests.Session() as s:\n",
        "\n",
        "  body_inicial = ler(\"/content/body_0.txt\")\n",
        "\n",
        "  response1 = s.post(link_confirmar_unidade, headers=headers, data=body_inicial)\n",
        "\n",
        "  response2 = s.get(link_acesse_inicio_dados, headers=headers)\n",
        "\n",
        "  body_response_empenho1 = ler(\"/content/body_1.txt\")\n",
        "\n",
        "  response_empenho1 = s.post(link_confirmar_empenho, headers=headers, data=body_response_empenho1)\n",
        "\n",
        "  response_empenho2 = s.get(link_acessa_empenhos, headers=headers)\n",
        "\n",
        "  soup = BeautifulSoup(response_empenho2.text)\n",
        "\n",
        "  print(soup)\n"
      ]
    },
    {
      "cell_type": "markdown",
      "metadata": {
        "id": "WxcD1RhQGldv"
      },
      "source": [
        "# Analisar body"
      ]
    },
    {
      "cell_type": "code",
      "execution_count": null,
      "metadata": {
        "id": "0rIwOMbAGm5e"
      },
      "outputs": [],
      "source": [
        "bodys = [ler(path) for path in os.listdir(\"/content/\") if path.count(\".txt\")]\n",
        "bodys = [body for body in bodys if body]"
      ]
    },
    {
      "cell_type": "code",
      "execution_count": null,
      "metadata": {
        "id": "rTs1drTbHamO"
      },
      "outputs": [],
      "source": [
        "body_sepados = [body.split(\"&\") for body in bodys]"
      ]
    },
    {
      "cell_type": "code",
      "execution_count": null,
      "metadata": {
        "id": "sGdVgqYZIAKg"
      },
      "outputs": [],
      "source": [
        "body_sepados[0] == body_sepados[1]"
      ]
    },
    {
      "cell_type": "code",
      "execution_count": null,
      "metadata": {
        "colab": {
          "base_uri": "https://localhost:8080/"
        },
        "id": "xYtcXw6tIFkw",
        "outputId": "ed8f848b-cd1e-4c90-9a8b-45c0148b5832"
      },
      "outputs": [
        {
          "data": {
            "text/plain": [
              "['__EVENTTARGET=ctl00%24ContentPlaceHolder1%24grdEmpenhos',\n",
              " '__EVENTARGUMENT=Page%242',\n",
              " '__VIEWSTATE=%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%2FTnVtPTYgICAgICAgICAgICAgICAmVW5pZGFkZT0wMDQzMTMmQW5vPTIwMTZkAggPZBYMZg8PFgIfAAUQNyAgICAgICAgICAgICAgIGRkAgEPDxYCHwAFCjA0LzAxLzIwMTZkZAICDw8WAh8ABSBNQVJJQSBERSBMT1VSREVTIFNBTlRPUyBFIE9VVFJPU2RkAgMPDxYCHwAFCTIxLjEyMCwwMGRkAgQPDxYCHwAFCTIxLjEyMCwwMGRkAgUPZBYCZg8VAUFFbXBlbmhvRGV0YWxoZXMuYXNweD9OdW09NyAgICAgICAgICAgICAgICZVbmlkYWRlPTAwNDMxMyZBbm89MjAxNmQCCQ9kFgxmDw8WAh8ABRA4ICAgICAgICAgICAgICAgZGQCAQ8PFgIfAAUKMDQvMDEvMjAxNmRkAgIPDxYCHwAFIE1BUklBIERFIExPVVJERVMgU0FOVE9TIEUgT1VUUk9TZGQCAw8PFgIfAAUJMTguMTgwLDQwZGQCBA8PFgIfAAUJMTguMTgwLDQwZGQCBQ9kFgJmDxUBQUVtcGVuaG9EZXRhbGhlcy5hc3B4P051bT04ICAgICAgICAgICAgICAgJlVuaWRhZGU9MDA0MzEzJkFubz0yMDE2ZAIKD2QWDGYPDxYCHwAFEDkgICAgICAgICAgICAgICBkZAIBDw8WAh8ABQowNC8wMS8yMDE2ZGQCAg8PFgIfAAUgTUFSSUEgREUgTE9VUkRFUyBTQU5UT1MgRSBPVVRST1NkZAIDDw8WAh8ABQg0LjM1NywyMGRkAgQPDxYCHwAFCDQuMzU3LDIwZGQCBQ9kFgJmDxUBQUVtcGVuaG9EZXRhbGhlcy5hc3B4P051bT05ICAgICAgICAgICAgICAgJlVuaWRhZGU9MDA0MzEzJkFubz0yMDE2ZAILD2QWDGYPDxYCHwAFEDEwICAgICAgICAgICAgICBkZAIBDw8WAh8ABQowNC8wMS8yMDE2ZGQCAg8PFgIfAAUZSk9TRSBBR1VJTkFMRE8gRE9TIFNBTlRPU2RkAgMPDxYCHwAFCTMyLjAwMCwwMGRkAgQPDxYCHwAFCTMyLjAwMCwwMGRkAgUPZBYCZg8VAUFFbXBlbmhvRGV0YWxoZXMuYXNweD9OdW09MTAgICAgICAgICAgICAgICZVbmlkYWRlPTAwNDMxMyZBbm89MjAxNmQCDA9kFgxmDw8WAh8ABRAxMSAgICAgICAgICAgICAgZGQCAQ8PFgIfAAUKMDQvMDEvMjAxNmRkAgIPDxYCHwAFKEJSVU5BIENBUk9MSU5FIE1BVE9TIERPUyBTQU5UT1MgRSBPVVRST1NkZAIDDw8WAh8ABQk0Ni4zMzMsMjJkZAIEDw8WAh8ABQk0Ni4zMzMsMjJkZAIFD2QWAmYPFQFBRW1wZW5ob0RldGFsaGVzLmFzcHg%2FTnVtPTExICAgICAgICAgICAgICAmVW5pZGFkZT0wMDQzMTMmQW5vPTIwMTZkAg0PZBYMZg8PFgIfAAUQMTIgICAgICAgICAgICAgIGRkAgEPDxYCHwAFCjA0LzAxLzIwMTZkZAICDw8WAh8ABShCUlVOQSBDQVJPTElORSBNQVRPUyBET1MgU0FOVE9TIEUgT1VUUk9TZGQCAw8PFgIfAAUEMCwwMGRkAgQPDxYCHwAFBDAsMDBkZAIFD2QWAmYPFQFBRW1wZW5ob0RldGFsaGVzLmFzcHg%2FTnVtPTEyICAgICAgICAgICAgICAmVW5pZGFkZT0wMDQzMTMmQW5vPTIwMTZkAg4PZBYMZg8PFgIfAAUQMTMgICAgICAgICAgICAgIGRkAgEPDxYCHwAFCjA0LzAxLzIwMTZkZAICDw8WAh8ABShCUlVOQSBDQVJPTElORSBNQVRPUyBET1MgU0FOVE9TIEUgT1VUUk9TZGQCAw8PFgIfAAUIMi40MDAsMDBkZAIEDw8WAh8ABQgyLjQwMCwwMGRkAgUPZBYCZg8VAUFFbXBlbmhvRGV0YWxoZXMuYXNweD9OdW09MTMgICAgICAgICAgICAgICZVbmlkYWRlPTAwNDMxMyZBbm89MjAxNmQCDw9kFgxmDw8WAh8ABRAxNCAgICAgICAgICAgICAgZGQCAQ8PFgIfAAUKMDQvMDEvMjAxNmRkAgIPDxYCHwAFIUFMSU5FIENBVkFMQ0FOVEUgU0FOVEFOQSBFIE9VVFJPU2RkAgMPDxYCHwAFCTI4LjE2MCwwMGRkAgQPDxYCHwAFCTI4LjE2MCwwMGRkAgUPZBYCZg8VAUFFbXBlbmhvRGV0YWxoZXMuYXNweD9OdW09MTQgICAgICAgICAgICAgICZVbmlkYWRlPTAwNDMxMyZBbm89MjAxNmQCEA9kFgxmDw8WAh8ABRAxNSAgICAgICAgICAgICAgZGQCAQ8PFgIfAAUKMDQvMDEvMjAxNmRkAgIPDxYCHwAFIUFMSU5FIENBVkFMQ0FOVEUgU0FOVEFOQSBFIE9VVFJPU2RkAgMPDxYCHwAFCDQuODQwLDAwZGQCBA8PFgIfAAUINC44NDAsMDBkZAIFD2QWAmYPFQFBRW1wZW5ob0RldGFsaGVzLmFzcHg%2FTnVtPTE1ICAgICAgICAgICAgICAmVW5pZGFkZT0wMDQzMTMmQW5vPTIwMTZkAhEPZBYMZg8PFgIfAAUQMTYgICAgICAgICAgICAgIGRkAgEPDxYCHwAFCjA0LzAxLzIwMTZkZAICDw8WAh8ABSFBTElORSBDQVZBTENBTlRFIFNBTlRBTkEgRSBPVVRST1NkZAIDDw8WAh8ABQQwLDAwZGQCBA8PFgIfAAUEMCwwMGRkAgUPZBYCZg8VAUFFbXBlbmhvRGV0YWxoZXMuYXNweD9OdW09MTYgICAgICAgICAgICAgICZVbmlkYWRlPTAwNDMxMyZBbm89MjAxNmQCEg9kFgxmDw8WAh8ABRAxNyAgICAgICAgICAgICAgZGQCAQ8PFgIfAAUKMDQvMDEvMjAxNmRkAgIPDxYCHwAFIUFMSU5FIENBVkFMQ0FOVEUgU0FOVEFOQSBFIE9VVFJPU2RkAgMPDxYCHwAFCDMuOTYwLDAwZGQCBA8PFgIfAAUIMy45NjAsMDBkZAIFD2QWAmYPFQFBRW1wZW5ob0RldGFsaGVzLmFzcHg%2FTnVtPTE3ICAgICAgICAgICAgICAmVW5pZGFkZT0wMDQzMTMmQW5vPTIwMTZkAhMPZBYMZg8PFgIfAAUQMTggICAgICAgICAgICAgIGRkAgEPDxYCHwAFCjA0LzAxLzIwMTZkZAICDw8WAh8ABRxKT1MmIzIwMTsgTklWQUxETyBET1MgU0FOVE9TZGQCAw8PFgIfAAUJMzIuMDAwLDAwZGQCBA8PFgIfAAUJMzIuMDAwLDAwZGQCBQ9kFgJmDxUBQUVtcGVuaG9EZXRhbGhlcy5hc3B4P051bT0xOCAgICAgICAgICAgICAgJlVuaWRhZGU9MDA0MzEzJkFubz0yMDE2ZAIUD2QWDGYPDxYCHwAFEDE5ICAgICAgICAgICAgICBkZAIBDw8WAh8ABQowNC8wMS8yMDE2ZGQCAg8PFgIfAAUcSk9TRSBXSUxTT04gQ09TVEEgTkFTQ0lNRU5UT2RkAgMPDxYCHwAFCTMyLjAwMCwwMGRkAgQPDxYCHwAFCTMyLjAwMCwwMGRkAgUPZBYCZg8VAUFFbXBlbmhvRGV0YWxoZXMuYXNweD9OdW09MTkgICAgICAgICAgICAgICZVbmlkYWRlPTAwNDMxMyZBbm89MjAxNmQCFQ9kFgxmDw8WAh8ABRAyMCAgICAgICAgICAgICAgZGQCAQ8PFgIfAAUKMDQvMDEvMjAxNmRkAgIPDxYCHwAFKUFOQSBWQU5FTExFIFJPRFJJR1VFUyBET1MgU0FOVE9TIEUgT1VUUk9TZGQCAw8PFgIfAAUKMjI5Ljk2Miw3MmRkAgQPDxYCHwAFCjIyOS45NjIsNzJkZAIFD2QWAmYPFQFBRW1wZW5ob0RldGFsaGVzLmFzcHg%2FTnVtPTIwICAgICAgICAgICAgICAmVW5pZGFkZT0wMDQzMTMmQW5vPTIwMTZkAhYPZBYMZg8PFgIfAAUQMjEgICAgICAgICAgICAgIGRkAgEPDxYCHwAFCjA0LzAxLzIwMTZkZAICDw8WAh8ABSlBTkEgVkFORUxMRSBST0RSSUdVRVMgRE9TIFNBTlRPUyBFIE9VVFJPU2RkAgMPDxYCHwAFCTQ2LjMwOCwwMGRkAgQPDxYCHwAFCTQ2LjMwOCwwMGRkAgUPZBYCZg8VAUFFbXBlbmhvRGV0YWxoZXMuYXNweD9OdW09MjEgICAgICAgICAgICAgICZVbmlkYWRlPTAwNDMxMyZBbm89MjAxNmQCFw9kFgxmDw8WAh8ABRAyMiAgICAgICAgICAgICAgZGQCAQ8PFgIfAAUKMDQvMDEvMjAxNmRkAgIPDxYCHwAFKUFOQSBWQU5FTExFIFJPRFJJR1VFUyBET1MgU0FOVE9TIEUgT1VUUk9TZGQCAw8PFgIfAAUJMjUuNTA1LDMyZGQCBA8PFgIfAAUJMjUuNTA1LDMyZGQCBQ9kFgJmDxUBQUVtcGVuaG9EZXRhbGhlcy5hc3B4P051bT0yMiAgICAgICAgICAgICAgJlVuaWRhZGU9MDA0MzEzJkFubz0yMDE2ZAIYD2QWDGYPDxYCHwAFEDIzICAgICAgICAgICAgICBkZAIBDw8WAh8ABQowNC8wMS8yMDE2ZGQCAg8PFgIfAAUeSVZPTkUgT0xJVkVJUkEgU0FOVE9TIEUgT1VUUk9TZGQCAw8PFgIfAAUJOTguMDM5LDE2ZGQCBA8PFgIfAAUJOTguMDM5LDE2ZGQCBQ9kFgJmDxUBQUVtcGVuaG9EZXRhbGhlcy5hc3B4P051bT0yMyAgICAgICAgICAgICAgJlVuaWRhZGU9MDA0MzEzJkFubz0yMDE2ZAIZD2QWDGYPDxYCHwAFEDI0ICAgICAgICAgICAgICBkZAIBDw8WAh8ABQowNC8wMS8yMDE2ZGQCAg8PFgIfAAUeSVZPTkUgT0xJVkVJUkEgU0FOVE9TIEUgT1VUUk9TZGQCAw8PFgIfAAUJNDYuODc2LDAwZGQCBA8PFgIfAAUJNDYuODc2LDAwZGQCBQ9kFgJmDxUBQUVtcGVuaG9EZXRhbGhlcy5hc3B4P051bT0yNCAgICAgICAgICAgICAgJlVuaWRhZGU9MDA0MzEzJkFubz0yMDE2ZAIaD2QWDGYPDxYCHwAFEDI1ICAgICAgICAgICAgICBkZAIBDw8WAh8ABQowNC8wMS8yMDE2ZGQCAg8PFgIfAAUeSVZPTkUgT0xJVkVJUkEgU0FOVE9TIEUgT1VUUk9TZGQCAw8PFgIfAAUINC40NjYsNDZkZAIEDw8WAh8ABQg0LjQ2Niw0NmRkAgUPZBYCZg8VAUFFbXBlbmhvRGV0YWxoZXMuYXNweD9OdW09MjUgICAgICAgICAgICAgICZVbmlkYWRlPTAwNDMxMyZBbm89MjAxNmQCGw9kFgxmDw8WAh8ABRAyNiAgICAgICAgICAgICAgZGQCAQ8PFgIfAAUKMDQvMDEvMjAxNmRkAgIPDxYCHwAFHklWT05FIE9MSVZFSVJBIFNBTlRPUyBFIE9VVFJPU2RkAgMPDxYCHwAFCDIuNjc5LDkwZGQCBA8PFgIfAAUIMi42NzksOTBkZAIFD2QWAmYPFQFBRW1wZW5ob0RldGFsaGVzLmFzcHg%2FTnVtPTI2ICAgICAgICAgICAgICAmVW5pZGFkZT0wMDQzMTMmQW5vPTIwMTZkAhwPZBYMZg8PFgIfAAUQMjcgICAgICAgICAgICAgIGRkAgEPDxYCHwAFCjA0LzAxLzIwMTZkZAICDw8WAh8ABR5JVk9ORSBPTElWRUlSQSBTQU5UT1MgRSBPVVRST1NkZAIDDw8WAh8ABQg0Ljg4OSwxOWRkAgQPDxYCHwAFCDQuODg5LDE5ZGQCBQ9kFgJmDxUBQUVtcGVuaG9EZXRhbGhlcy5hc3B4P051bT0yNyAgICAgICAgICAgICAgJlVuaWRhZGU9MDA0MzEzJkFubz0yMDE2ZAIdD2QWDGYPDxYCHwAFEDI4ICAgICAgICAgICAgICBkZAIBDw8WAh8ABQowNC8wMS8yMDE2ZGQCAg8PFgIfAAUeSVZPTkUgT0xJVkVJUkEgU0FOVE9TIEUgT1VUUk9TZGQCAw8PFgIfAAUEMCwwMGRkAgQPDxYCHwAFBDAsMDBkZAIFD2QWAmYPFQFBRW1wZW5ob0RldGFsaGVzLmFzcHg%2FTnVtPTI4ICAgICAgICAgICAgICAmVW5pZGFkZT0wMDQzMTMmQW5vPTIwMTZkAh4PZBYMZg8PFgIfAAUQMjkgICAgICAgICAgICAgIGRkAgEPDxYCHwAFCjA0LzAxLzIwMTZkZAICDw8WAh8ABR5JVk9ORSBPTElWRUlSQSBTQU5UT1MgRSBPVVRST1NkZAIDDw8WAh8ABQkxNi44NjEsMjNkZAIEDw8WAh8ABQkxNi44NjEsMjNkZAIFD2QWAmYPFQFBRW1wZW5ob0RldGFsaGVzLmFzcHg%2FTnVtPTI5ICAgICAgICAgICAgICAmVW5pZGFkZT0wMDQzMTMmQW5vPTIwMTZkAh8PZBYMZg8PFgIfAAUQMzAgICAgICAgICAgICAgIGRkAgEPDxYCHwAFCjA0LzAxLzIwMTZkZAICDw8WAh8ABSJBREVMQUlERSBPTElWRUlSQSBBTE1FSURBIEUgT1VUUk9TZGQCAw8PFgIfAAUJMTkuMzYwLDAwZGQCBA8PFgIfAAUJMTkuMzYwLDAwZGQCBQ9kFgJmDxUBQUVtcGVuaG9EZXRhbGhlcy5hc3B4P051bT0zMCAgICAgICAgICAgICAgJlVuaWRhZGU9MDA0MzEzJkFubz0yMDE2ZAIgD2QWDGYPDxYCHwAFEDMxICAgICAgICAgICAgICBkZAIBDw8WAh8ABQowNC8wMS8yMDE2ZGQCAg8PFgIfAAUiQURFTEFJREUgT0xJVkVJUkEgQUxNRUlEQSBFIE9VVFJPU2RkAgMPDxYCHwAFCDEuNzYwLDAwZGQCBA8PFgIfAAUIMS43NjAsMDBkZAIFD2QWAmYPFQFBRW1wZW5ob0RldGFsaGVzLmFzcHg%2FTnVtPTMxICAgICAgICAgICAgICAmVW5pZGFkZT0wMDQzMTMmQW5vPTIwMTZkAiEPZBYMZg8PFgIfAAUQMzIgICAgICAgICAgICAgIGRkAgEPDxYCHwAFCjA0LzAxLzIwMTZkZAICDw8WAh8ABRVaRU5BSURFIE9MSVZFSVJBIExJTUFkZAIDDw8WAh8ABQkxNy44NjYsMDNkZAIEDw8WAh8ABQkxNy44NjYsMDNkZAIFD2QWAmYPFQFBRW1wZW5ob0RldGFsaGVzLmFzcHg%2FTnVtPTMyICAgICAgICAgICAgICAmVW5pZGFkZT0wMDQzMTMmQW5vPTIwMTZkAiIPZBYMZg8PFgIfAAUQMzMgICAgICAgICAgICAgIGRkAgEPDxYCHwAFCjA0LzAxLzIwMTZkZAICDw8WAh8ABRVaRU5BSURFIE9MSVZFSVJBIExJTUFkZAIDDw8WAh8ABQkzMi40NTMsMTdkZAIEDw8WAh8ABQkzMi40NTMsMTdkZAIFD2QWAmYPFQFBRW1wZW5ob0RldGFsaGVzLmFzcHg%2FTnVtPTMzICAgICAgICAgICAgICAmVW5pZGFkZT0wMDQzMTMmQW5vPTIwMTZkAiMPZBYMZg8PFgIfAAUQMzQgICAgICAgICAgICAgIGRkAgEPDxYCHwAFCjA0LzAxLzIwMTZkZAICDw8WAh8ABRVaRU5BSURFIE9MSVZFSVJBIExJTUFkZAIDDw8WAh8ABQgzLjU3MywxNWRkAgQPDxYCHwAFCDMuNTczLDE1ZGQCBQ9kFgJmDxUBQUVtcGVuaG9EZXRhbGhlcy5hc3B4P051bT0zNCAgICAgICAgICAgICAgJlVuaWRhZGU9MDA0MzEzJkFubz0yMDE2ZAIkD2QWDGYPDxYCHwAFEDM1ICAgICAgICAgICAgICBkZAIBDw8WAh8ABQowNC8wMS8yMDE2ZGQCAg8PFgIfAAUVWkVOQUlERSBPTElWRUlSQSBMSU1BZGQCAw8PFgIfAAUINy43NzYsMDVkZAIEDw8WAh8ABQg3Ljc3NiwwNWRkAgUPZBYCZg8VAUFFbXBlbmhvRGV0YWxoZXMuYXNweD9OdW09MzUgICAgICAgICAgICAgICZVbmlkYWRlPTAwNDMxMyZBbm89MjAxNmQCJQ9kFgxmDw8WAh8ABRAzNiAgICAgICAgICAgICAgZGQCAQ8PFgIfAAUKMDQvMDEvMjAxNmRkAgIPDxYCHwAFNE1BUklBIERBIENPTkNFSSYjMTk5OyYjMTk1O08gQVJBRyYjMTk1O08gREUgT0xJVkVJUkFkZAIDDw8WAh8ABQkzMi4wMDAsMDBkZAIEDw8WAh8ABQkzMi4wMDAsMDBkZAIFD2QWAmYPFQFBRW1wZW5ob0RldGFsaGVzLmFzcHg%2FTnVtPTM2ICAgICAgICAgICAgICAmVW5pZGFkZT0wMDQzMTMmQW5vPTIwMTZkAiYPZBYMZg8PFgIfAAUQMzcgICAgICAgICAgICAgIGRkAgEPDxYCHwAFCjA0LzAxLzIwMTZkZAICDw8WAh8ABSRHRU5JTERFIEZBVVNUSU5BIERPUyBTQU5UT1MgRSBPVVRST1NkZAIDDw8WAh8ABQkyNi42NzksOTZkZAIEDw8WAh8ABQkyNi42NzksOTZkZAIFD2QWAmYPFQFBRW1wZW5ob0RldGFsaGVzLmFzcHg%2FTnVtPTM3ICAgICAgICAgICAgICAmVW5pZGFkZT0wMDQzMTMmQW5vPTIwMTZkAicPZBYMZg8PFgIfAAUQMzggICAgICAgICAgICAgIGRkAgEPDxYCHwAFCjA0LzAxLzIwMTZkZAICDw8WAh8ABSRHRU5JTERFIEZBVVNUSU5BIERPUyBTQU5UT1MgRSBPVVRST1NkZAIDDw8WAh8ABQg4LjUwMCwwMGRkAgQPDxYCHwAFCDguNTAwLDAwZGQCBQ9kFgJmDxUBQUVtcGVuaG9EZXRhbGhlcy5hc3B4P051bT0zOCAgICAgICAgICAgICAgJlVuaWRhZGU9MDA0MzEzJkFubz0yMDE2ZAIoD2QWDGYPDxYCHwAFEDM5ICAgICAgICAgICAgICBkZAIBDw8WAh8ABQowNC8wMS8yMDE2ZGQCAg8PFgIfAAUkR0VOSUxERSBGQVVTVElOQSBET1MgU0FOVE9TIEUgT1VUUk9TZGQCAw8PFgIfAAUIMy45MDAsMDBkZAIEDw8WAh8ABQgzLjkwMCwwMGRkAgUPZBYCZg8VAUFFbXBlbmhvRGV0YWxoZXMuYXNweD9OdW09MzkgICAgICAgICAgICAgICZVbmlkYWRlPTAwNDMxMyZBbm89MjAxNmQCKQ9kFgxmDw8WAh8ABRA0MCAgICAgICAgICAgICAgZGQCAQ8PFgIfAAUKMDQvMDEvMjAxNmRkAgIPDxYCHwAFHFJFTkFUTyBUQVZBUkVTIFNBTkRFUyBKVU5JT1JkZAIDDw8WAh8ABQkzMi4wMDAsMDBkZAIEDw8WAh8ABQkzMi4wMDAsMDBkZAIFD2QWAmYPFQFBRW1wZW5ob0RldGFsaGVzLmFzcHg%2FTnVtPTQwICAgICAgICAgICAgICAmVW5pZGFkZT0wMDQzMTMmQW5vPTIwMTZkAioPZBYMZg8PFgIfAAUQNDEgICAgICAgICAgICAgIGRkAgEPDxYCHwAFCjA0LzAxLzIwMTZkZAICDw8WAh8ABSFBRFVJTFNPTiBEQSBTSUxWQSBEQU5UQVMgRSBPVVRST1NkZAIDDw8WAh8ABQoxMzkuODEwLDc5ZGQCBA8PFgIfAAUKMTM5LjgxMCw3OWRkAgUPZBYCZg8VAUFFbXBlbmhvRGV0YWxoZXMuYXNweD9OdW09NDEgICAgICAgICAgICAgICZVbmlkYWRlPTAwNDMxMyZBbm89MjAxNmQCKw9kFgxmDw8WAh8ABRA0MiAgICAgICAgICAgICAgZGQCAQ8PFgIfAAUKMDQvMDEvMjAxNmRkAgIPDxYCHwAFIUFEVUlMU09OIERBIFNJTFZBIERBTlRBUyBFIE9VVFJPU2RkAgMPDxYCHwAFCTQ5LjM3NSwyMGRkAgQPDxYCHwAFCTQ5LjM3NSwyMGRkAgUPZBYCZg8VAUFFbXBlbmhvRGV0YWxoZXMuYXNweD9OdW09NDIgICAgICAgICAgICAgICZVbmlkYWRlPTAwNDMxMyZBbm89MjAxNmQCLA9kFgxmDw8WAh8ABRA0MyAgICAgICAgICAgICAgZGQCAQ8PFgIfAAUKMDQvMDEvMjAxNmRkAgIPDxYCHwAFIUFEVUlMU09OIERBIFNJTFZBIERBTlRBUyBFIE9VVFJPU2RkAgMPDxYCHwAFCTE4LjE3MCwwMGRkAgQPDxYCHwAFCTE4LjE3MCwwMGRkAgUPZBYCZg8VAUFFbXBlbmhvRGV0YWxoZXMuYXNweD9OdW09NDMgICAgICAgICAgICAgICZVbmlkYWRlPTAwNDMxMyZBbm89MjAxNmQCLQ9kFgxmDw8WAh8ABRA0NCAgICAgICAgICAgICAgZGQCAQ8PFgIfAAUKMDQvMDEvMjAxNmRkAgIPDxYCHwAFIkFEQUlMVE9OIEFMVkVTIERPUyBTQU5UT1MgRSBPVVRST1NkZAIDDw8WAh8ABQozMzcuMDIwLDUwZGQCBA8PFgIfAAUKMzM3LjAyMCw1MGRkAgUPZBYCZg8VAUFFbXBlbmhvRGV0YWxoZXMuYXNweD9OdW09NDQgICAgICAgICAgICAgICZVbmlkYWRlPTAwNDMxMyZBbm89MjAxNmQCLg9kFgxmDw8WAh8ABRA0NSAgICAgICAgICAgICAgZGQCAQ8PFgIfAAUKMDQvMDEvMjAxNmRkAgIPDxYCHwAFIkFEQUlMVE9OIEFMVkVTIERPUyBTQU5UT1MgRSBPVVRST1NkZAIDDw8WAh8ABQk5Ni4zNjksNTNkZAIEDw8WAh8ABQk5Ni4zNjksNTNkZAIFD2QWAmYPFQFBRW1wZW5ob0RldGFsaGVzLmFzcHg%2FTnVtPTQ1ICAgICAgICAgICAgICAmVW5pZGFkZT0wMDQzMTMmQW5vPTIwMTZkAi8PZBYMZg8PFgIfAAUQNDYgICAgICAgICAgICAgIGRkAgEPDxYCHwAFCjA0LzAxLzIwMTZkZAICDw8WAh8ABSNFRFZBTERPIFNJTVBMSUNJTyBERSBTT1VaQSBFIE9VVFJPU2RkAgMPDxYCHwAFCTE0LjA4MCwwMGRkAgQPDxYCHwAFCTE0LjA4MCwwMGRkAgUPZBYCZg8VAUFFbXBlbmhvRGV0YWxoZXMuYXNweD9OdW09NDYgICAgICAgICAgICAgICZVbmlkYWRlPTAwNDMxMyZBbm89MjAxNmQCMA9kFgxmDw8WAh8ABRA0NyAgICAgICAgICAgICAgZGQCAQ8PFgIfAAUKMDQvMDEvMjAxNmRkAgIPDxYCHwAFI0VEVkFMRE8gU0lNUExJQ0lPIERFIFNPVVpBIEUgT1VUUk9TZGQCAw8PFgIfAAUGNjQ1LDMzZGQCBA8PFgIfAAUGNjQ1LDMzZGQCBQ9kFgJmDxUBQUVtcGVuaG9EZXRhbGhlcy5hc3B4P051bT00NyAgICAgICAgICAgICAgJlVuaWRhZGU9MDA0MzEzJkFubz0yMDE2ZAIxD2QWDGYPDxYCHwAFEDQ4ICAgICAgICAgICAgICBkZAIBDw8WAh8ABQowNC8wMS8yMDE2ZGQCAg8PFgIfAAUjRURWQUxETyBTSU1QTElDSU8gREUgU09VWkEgRSBPVVRST1NkZAIDDw8WAh8ABQgxLjkzNiwwMGRkAgQPDxYCHwAFCDEuOTM2LDAwZGQCBQ9kFgJmDxUBQUVtcGVuaG9EZXRhbGhlcy5hc3B4P051bT00OCAgICAgICAgICAgICAgJlVuaWRhZGU9MDA0MzEzJkFubz0yMDE2ZAIyD2QWDGYPDxYCHwAFEDQ5ICAgICAgICAgICAgICBkZAIBDw8WAh8ABQowNC8wMS8yMDE2ZGQCAg8PFgIfAAUjRURWQUxETyBTSU1QTElDSU8gREUgU09VWkEgRSBPVVRST1NkZAIDDw8WAh8ABQgxLjkzNiwwMGRkAgQPDxYCHwAFCDEuOTM2LDAwZGQCBQ9kFgJmDxUBQUVtcGVuaG9EZXRhbGhlcy5hc3B4P051bT00OSAgICAgICAgICAgICAgJlVuaWRhZGU9MDA0MzEzJkFubz0yMDE2ZAIzD2QWDGYPDxYCHwAFEDUwICAgICAgICAgICAgICBkZAIBDw8WAh8ABQowNC8wMS8yMDE2ZGQCAg8PFgIfAAUXQUdOQUxETyBGT05URVMgRSBPVVRST1NkZAIDDw8WAh8ABQozOTUuOTk1LDU0ZGQCBA8PFgIfAAUKMzk1Ljk5NSw1NGRkAgUPZBYCZg8VAUFFbXBlbmhvRGV0YWxoZXMuYXNweD9OdW09NTAgICAgICAgICAgICAgICZVbmlkYWRlPTAwNDMxMyZBbm89MjAxNmQCNA9kFgZmDw8WCB8ABQtUT1RBTCBHRVJBTB4KQ29sdW1uU3BhbgICHglGb250X0JvbGRnHgRfIVNCAoAQZGQCAg8PFggfAAUNMjUuMzQ2Ljg2NSw1NB4PSG9yaXpvbnRhbEFsaWduCyopU3lzdGVtLldlYi5VSS5XZWJDb250cm9scy5Ib3Jpem9udGFsQWxpZ24DHwZnHwcCgJAEZGQCAw8PFggfAAUNMjQuNTExLjA2Nyw2Mx8ICysEAx8GZx8HAoCQBGRkGAIFHl9fQ29udHJvbHNSZXF1aXJlUG9zdEJhY2tLZXlfXxYBBSNjdGwwMCRMb2dpblZpZXcxJExvZ2luMSRMb2dpbkJ1dHRvbgUlY3RsMDAkQ29udGVudFBsYWNlSG9sZGVyMSRncmRFbXBlbmhvcw88KwAMAQgCJmS5tmZT3dzstMRqNKOFdRx%2BVRZU60dLlp2xjDryv3uKkw%3D%3D',\n",
              " '__VIEWSTATEGENERATOR=C67116CD',\n",
              " '__SCROLLPOSITIONX=0',\n",
              " '__SCROLLPOSITIONY=913',\n",
              " '__EVENTVALIDATION=%2FwEdABQApOxfquUuKJUvQmaZSppvxgjExItltWJx9uMX98PxvlxLL0p5uczRMRVoQT%2B5e8u8efzf8OMpHYaqxJal%2FxILXn85GWrkREJqyYrnDCQhrPrsnhGg3hCvTAEzbH3K8412A6om%2BUL%2BJWxtGRyEmfv%2FHOMSpueqVJw%2B56%2FdzacSi1EAWnyMgWDiI%2BrmqqKgQjakHUhR3FEc22sUM%2FMmDlTRMkdYVLfH9%2Bw74GoWcSsjzcnm%2BS7iwJ77GGSn1czFhaAlilDukqV8yn85OHKnGAHNGOx3nL8tH8ovsvVO4MGEfexOrM8SfWHC%2BlbkmeUvZcrIZz%2FeAS%2BT4ddmOPqZwr9DuhQ7%2BZ%2FWSsPjetM7v3sfsRyJrEdKyFj1ps1UVSk412OeAoXm9iAh7aj25FmMgbW3LJPVAOeQh%2Fk5YxQcyLPOoThUBkJZt87QKmx7eqiG2sztRK6Fh%2B0q3f1CDO4wPp74',\n",
              " 'ctl00%24LoginView1%24Login1%24UserName=',\n",
              " 'ctl00%24LoginView1%24Login1%24Password=',\n",
              " 'ctl00%24ContentPlaceHolder1%24hdfOrdenacao=']"
            ]
          },
          "execution_count": 28,
          "metadata": {},
          "output_type": "execute_result"
        }
      ],
      "source": [
        "body_sepados[1]"
      ]
    },
    {
      "cell_type": "code",
      "execution_count": null,
      "metadata": {
        "colab": {
          "base_uri": "https://localhost:8080/"
        },
        "id": "a4fppsMsITHL",
        "outputId": "7fa25fd5-84f1-45a0-a99a-2b24fdd0b49a"
      },
      "outputs": [
        {
          "data": {
            "text/plain": [
              "['__EVENTTARGET=',\n",
              " '__EVENTARGUMENT=',\n",
              " '__LASTFOCUS=',\n",
              " '__VIEWSTATE=%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%2BDQ7cEM3nMKbLtPjDt%2Bomt%2FwY%2B',\n",
              " '__VIEWSTATEGENERATOR=C1D7D404',\n",
              " '__SCROLLPOSITIONX=0',\n",
              " '__SCROLLPOSITIONY=0',\n",
              " '__EVENTVALIDATION=%2FwEdAGIpNhUx0B5lRGHqoe3pZLDWxgjExItltWJx9uMX98PxvlxLL0p5uczRMRVoQT%2B5e8u8efzf8OMpHYaqxJal%2FxILgx4UCXUptLo3W1vusgsI8APYvPHCgc9Ifw%2BzKV0daHx8krSKbGJ9drprqltlKWEETQDf9Wce5CRRSgvOupsF2mY%2Fe1oSwUtOzoZthJCXZWwVi8MHEvrAPcbiqgVjmIQxoTAJFhUoKRO04E4RLX7OTugsWyWB8L%2B3gV9UpFFmyRMWvL5YiF6jtsSZfI7%2BfkWhzFmQOY4fO1GnVs1GbANjqtiiEPviF6m%2B5OpSjV88wwysuB9qJf4w39T%2FtcmlUN6ampMbVyEUJUknYRXXyRbHbRH6Bdzuu2rPCFO0Ve16lrhfxLjANeGueDucnY9xB7HFSjRvnYSH8RPpZc8GY6spk%2FFUBkeCB7FyN6HV7b7h21yXxMDEEApAkFEgc8kFvYcUj9IBdOJx9teRB6%2BsB6sice8hUrn5pc9iIjHObEoHh98y%2F7kljU3l7WdFdgf3iA0wqcyUc8CNAnFeCFz%2Bo0dBPLMjFECu01IG9z9bFRmADRBgFu5J85z26FKFkFUUEV2%2F%2BEWEfrEn4JxcvnLFMAy7t8PFKNmQiM%2BO6NXiUTNyLG0B1D4YK6Z%2BKR6KqpGlJIuY5qjrxG3vwqbx6555SGxXxgKJq2pJN6F1n5WZKvPp2Ouiq9KSlHc3Vw39GqfUM%2FyVKP9MJa4ocMxr0h49IxysYFjt6dRKeICeADChW9wrEEouFOJRAs9oWfRSjUPgkRiYBbSHvygI0fmNpNDyqJ7tuFpWwCBiOGSlSO7WzesnzKWabFW7342BoWGRexcVTnGcSiltybb%2FXpsYkg1smAXVjg4Eg6GElS9lO79%2F%2FXqPIRUW9SvOQ1fibUNiPegKE3k%2BPEyvbTL%2BNIr5a28a%2FzjE%2FlxWKPdgyQiC2AIvp8ZO3GzCl6u5pEoybtRa2xGpqHBVaHQqqKvgdgKQF6naIr3wNWKaE6PEFwnQ8g7hN%2FJvBaxtkd3C9A%2B3fK2O8w3MJtPrxj0u8jTfhanlrKTOcZfZdGAQfwVqH8qHYaChdiGhtVKFycMotojkGGfYOSvqKshze%2Fez95svTeBlurnjbjLD7m0A4qqcKCC7KP1KyrqCDBNw6Au4QPscITzvOerfxfUyoVnFhBVWVKykR6MHlT8YQR0QOa2pLZgXYfsJnFYZlnpSX41AQkOOb%2BX2vEtdyAzgAl7f9JqXbhtNI0x4ap0md%2BxeBkH3I1vJrhZgnekZhpqk4Aln21pbYaWKbaTo0JRTeOQroqz%2Bc7ox8Icu2Og5lm0%2FNoOAndteeapOhROiuIhjKIWCCQ7SVMZZKgHHCr2yB81zJGHyNsIWkQ298wEQ6H5OuUhSR9M66kND5lhD%2FhawGxofadql%2FCEqxDwyg71PfqXM3RzrhEvfwY7BCFEaHl%2B1sSgNYswVDN4XXd9%2BOysUSUcOqnz2zbFKeLLNMRIK3eF9FyOIBxjAmnty89SI7c1WnGqXdHt3XsoxEz%2Bgd7QrgNyHdVQixBStUhG%2BOraCjb%2BrgkR1u7sbsv6n8h3SENZFn3XOtCz0%2FFwETB%2BnXhv3dVBht4ehF6LvvmHv6E6rFsTfTLHSJC%2B4RM6i3TyGIlAf8p0hg%2Fjb7F6PaGF4a11ZozQfUuorEgpWrNanxQC6DDOE%2B2QCdVfoJysKAhfyF8lOa4Nl7LbgtdoLYPUetmE3Y0moLCnZfeRyhSdTRxjxFckn3agbz19brpy4upPipiEbbbtn7PKuGfgQlBW5uO05QON3Y%2FnfHD6RIHH0zOJW7a%2Bdl9jliiIDuDyZI%2BbLfcHgYSZvYPjZrm1%2BeSBcUvuI7%2FA8HvKSkG8VMVF587oe0eQgERSzgsnkgZAqWmLf3Juy5UBAzGIItxlbeikanjqbsEZEKqoWN42oQw45m9UONliK4b78plnV8Uud%2FM%2Fx7O0guZSiZHDpXKLQGpOcpSKquosdgK8r%2BNjUddUS4%2FZBJc%2FMZhd2PTlzFmVvox%2FrLbVxIngXRaiyaUnNX8L3p8jsccwY640F1Jrsoxy2fBeUP6%2FfbXM3ld%2B1x4RBvaHtiUzEz2lXRvvcmkOOjtTTnsknvhdIOQQdcvVZ0QEmUivf',\n",
              " 'ctl00%24LoginView1%24Login1%24UserName=',\n",
              " 'ctl00%24LoginView1%24Login1%24Password=',\n",
              " 'ctl00%24ContentPlaceHolder1%24ddlEsfera=1',\n",
              " 'ctl00%24ContentPlaceHolder1%24ddlAno=2016',\n",
              " 'ctl00%24ContentPlaceHolder1%24ddlMunicipios=AREIA+BRANCA',\n",
              " 'ctl00%24ContentPlaceHolder1%24ddlUnidadeGestora=004313',\n",
              " 'ctl00%24ContentPlaceHolder1%24imgConsultar.x=71',\n",
              " 'ctl00%24ContentPlaceHolder1%24imgConsultar.y=22']"
            ]
          },
          "execution_count": 29,
          "metadata": {},
          "output_type": "execute_result"
        }
      ],
      "source": [
        "body_sepados[0]"
      ]
    },
    {
      "cell_type": "markdown",
      "metadata": {
        "id": "mGkk6yWrQ9QG"
      },
      "source": [
        "# Extrair com selenium"
      ]
    },
    {
      "cell_type": "code",
      "execution_count": null,
      "metadata": {
        "id": "6gEZzLe1Q_T2"
      },
      "outputs": [],
      "source": [
        "ano = \"2016\"\n",
        "municipio = \"AREIA BRANCA\"\n",
        "unidade = \"004313\"\n",
        "\n",
        "link_confirmar_unidade = \"https://www.tcese.tc.br/portaldatransparencia/Default.aspx\"\n",
        "link_acessa_empenhos = \"https://www.tcese.tc.br/portaldatransparencia/EmpenhoLista.aspx?Ini=01/01&Fim=31/12&Num=&Min=&Max=&Org=&UO=&Reg=&Fun=&SubF=&Prg=&GD=&Mod=&PA=&CE=&ED=&SED=&FR=&CPFCNPJ=&EspD=\"\n",
        "\n",
        "drive = MyWebDrive().drive\n",
        "wait = WebDriverWait(drive, 30)\n",
        "scripts = Scripts(drive, wait)\n",
        "\n",
        "manage = Manage(drive, wait, scripts)\n",
        "manage.drive.get(link_confirmar_unidade)\n",
        "manage.wait.until(EC.visibility_of_element_located((By.ID, \"ctl00_ContentPlaceHolder1_imgConsultar\")))\n",
        "\n",
        "manage.script.consultar(municipio, ano, unidade)\n",
        "manage.script.click_empenho()\n",
        "manage.script.consultar_empenho()\n",
        "\n",
        "page_source = manage.drive.page_source\n",
        "\n",
        "with requests.Session() as s:\n",
        "\n",
        "  soup = BeautifulSoup(page_source)\n",
        "  body_inicial = form_data_post(soup)\n",
        "  response1 = s.post(link_acessa_empenhos, headers=headers, data=body_inicial)\n",
        "\n",
        "page_source = manage.drive.page_source"
      ]
    },
    {
      "cell_type": "code",
      "execution_count": null,
      "metadata": {
        "id": "1KCY-rfzFhmo"
      },
      "outputs": [],
      "source": [
        "body_inicial"
      ]
    },
    {
      "cell_type": "code",
      "execution_count": null,
      "metadata": {
        "id": "QO8gGXOfD7l2"
      },
      "outputs": [],
      "source": [
        "soup2 = BeautifulSoup(response1.text)\n",
        "\n",
        "print(soup2)"
      ]
    },
    {
      "cell_type": "code",
      "execution_count": null,
      "metadata": {
        "id": "gWcvvBNMZhHe"
      },
      "outputs": [],
      "source": [
        "soup = BeautifulSoup(page_source)\n",
        "\n",
        "print(soup)"
      ]
    },
    {
      "cell_type": "markdown",
      "metadata": {
        "id": "_MMyo2F1E7WN"
      },
      "source": [
        "# Rascunho"
      ]
    },
    {
      "cell_type": "code",
      "execution_count": null,
      "metadata": {
        "id": "U3QVmKtimp16"
      },
      "outputs": [],
      "source": [
        "to_df = [{\"municipio\": element.text, \"id\": element.get(\"value\")} for element in elements]"
      ]
    },
    {
      "cell_type": "code",
      "execution_count": null,
      "metadata": {
        "id": "6Gg0unkynOmA"
      },
      "outputs": [],
      "source": [
        "df = pd.DataFrame(to_df)"
      ]
    },
    {
      "cell_type": "code",
      "execution_count": null,
      "metadata": {
        "id": "5aTWybCjnTb_"
      },
      "outputs": [],
      "source": [
        "df.to_csv(\"mt_id_municipios.csv\", index=False)"
      ]
    },
    {
      "cell_type": "code",
      "execution_count": null,
      "metadata": {
        "id": "hKW_p8f3MQE0"
      },
      "outputs": [],
      "source": []
    },
    {
      "cell_type": "code",
      "execution_count": null,
      "metadata": {
        "id": "MxdIQBF1OZ94"
      },
      "outputs": [],
      "source": [
        "ano = \"2016\"\n",
        "municipio = \"BREJO GRANDE\"\n",
        "unidade = \"009159\""
      ]
    },
    {
      "cell_type": "code",
      "execution_count": null,
      "metadata": {
        "id": "840rSLbjArnk"
      },
      "outputs": [],
      "source": [
        "link_confirmar_unidade = \"https://www.tcese.tc.br/portaldatransparencia/Default.aspx\"\n",
        "link_acesse_inicio_dados = \"https://www.tcese.tc.br/portaldatransparencia/DadosUnidade.aspx\"\n",
        "link_confirmar_empenho = \"https://www.tcese.tc.br/portaldatransparencia/Empenho.aspx\"\n",
        "link_acessa_empenhos = \"https://www.tcese.tc.br/portaldatransparencia/EmpenhoLista.aspx?Ini=01/01&Fim=31/12&Num=&Min=&Max=&Org=&UO=&Reg=&Fun=&SubF=&Prg=&GD=&Mod=&PA=&CE=&ED=&SED=&FR=&CPFCNPJ=&EspD=\"\n",
        "\n",
        "headers = {\n",
        "     \"User-Agent\": \"Mozilla/5.0 (Windows NT 10.0; Win64; x64; rv:125.0) Gecko/20100101 Firefox/125.0\",\n",
        "      \"Accept\": \"text/html,application/xhtml+xml,application/xml;q=0.9,image/avif,image/webp,*/*;q=0.8\",\n",
        "      \"Accept-Language\": \"pt-BR,pt;q=0.8,en-US;q=0.5,en;q=0.3\",\n",
        "      \"Content-Type\": \"application/x-www-form-urlencoded\",\n",
        "}\n",
        "\n",
        "# body_confirmar_unidade2 = f\"ctl00%24LoginView1%24Login1%24UserName=&ctl00%24LoginView1%24Login1%24Password=&ctl00%24ContentPlaceHolder1%24ddlEsfera=1&ctl00%24ContentPlaceHolder1%24ddlAno={ano}&ctl00%24ContentPlaceHolder1%24ddlMunicipios={municipio}&ctl00%24ContentPlaceHolder1%24ddlUnidadeGestora={unidade}&ctl00%24ContentPlaceHolder1%24imgConsultar.x=102&ctl00%24ContentPlaceHolder1%24imgConsultar.y=-1\"\n",
        "with requests.Session() as s:\n",
        "# s = requests.Session()\n",
        "\n",
        "  # response_inicial = s.get(link_confirmar_unidade, headers=headers)\n",
        "\n",
        "  # soup_inicial = BeautifulSoup(response_inicial.text)\n",
        "\n",
        "  # data = form_data_post(soup_inicial, ano, municipio, unidade)\n",
        "  # print(data[-300::])\n",
        "  # response1 = s.post(link_confirmar_unidade, headers=headers, data=data)\n",
        "\n",
        "  # response1 = s.post(link_confirmar_unidade, headers=headers, data=body_confirmar_unidade)\n",
        "\n",
        "  data = ler(\"/content/empenho_pagina.txt\")\n",
        "\n",
        "  # response1 = s.post(link_confirmar_empenho, headers=headers, data=data)\n",
        "\n",
        "  # response1 = s.post(link_confirmar_empenho, headers=headers, data=data)\n",
        "\n",
        "  data2 = ler(\"/content/confirmar_empenhos.txt\")\n",
        "\n",
        "  # response1 = s.post(link_confirmar_unidade, headers=headers, data=body_confirmar_unidade[0])\n",
        "\n",
        "  f = s.post(link_confirmar_empenho, headers=headers, data=data)\n",
        "  verificar = s.post(link_acessa_empenhos, headers=headers, data=data)\n",
        "\n",
        "  # response3 = s.get(link_acesse_inicio_dados, headers=headers)\n",
        "\n",
        "soup = BeautifulSoup(verificar.text)\n",
        "soup"
      ]
    },
    {
      "cell_type": "code",
      "execution_count": null,
      "metadata": {
        "id": "NVtwGK4Wf_zC"
      },
      "outputs": [],
      "source": [
        "soup = BeautifulSoup(f.text)\n",
        "soup"
      ]
    },
    {
      "cell_type": "code",
      "execution_count": null,
      "metadata": {
        "colab": {
          "base_uri": "https://localhost:8080/",
          "height": 52
        },
        "id": "vxdyOGEdgbeQ",
        "outputId": "11fb500d-4305-449d-93d8-4ea0601eb2f3"
      },
      "outputs": [
        {
          "data": {
            "application/vnd.google.colaboratory.intrinsic+json": {
              "type": "string"
            },
            "text/plain": [
              "'ContentPlaceHolder1%24ddlMunicipios=BREJO+GRANDE&ctl00%24ContentPlaceHolder1%24ddlUnidadeGestora=009159&ctl00%24ContentPlaceHolder1%24imgConsultar.x=103&ctl00%24ContentPlaceHolder1%24imgConsultar.y=14'"
            ]
          },
          "execution_count": 267,
          "metadata": {},
          "output_type": "execute_result"
        }
      ],
      "source": [
        "j"
      ]
    },
    {
      "cell_type": "code",
      "execution_count": null,
      "metadata": {
        "colab": {
          "base_uri": "https://localhost:8080/"
        },
        "id": "k2zA3rVdgzyD",
        "outputId": "ad462b2a-bfa3-4016-e76d-a4200793c957"
      },
      "outputs": [
        {
          "data": {
            "text/plain": [
              "(6480, 6491)"
            ]
          },
          "execution_count": 271,
          "metadata": {},
          "output_type": "execute_result"
        }
      ],
      "source": [
        "len(data), len(data2)"
      ]
    },
    {
      "cell_type": "code",
      "execution_count": null,
      "metadata": {
        "id": "kW-v4Y9qfUEh"
      },
      "outputs": [],
      "source": [
        "t = data[-199::]\n",
        "j = data2[-200::]\n",
        "for x in range(199):\n",
        "  if t[x] != j[x]:\n",
        "    print(x, t[x], j[x])"
      ]
    },
    {
      "cell_type": "code",
      "execution_count": null,
      "metadata": {
        "colab": {
          "base_uri": "https://localhost:8080/"
        },
        "id": "96E4odwjdOY2",
        "outputId": "a22e67fb-5b46-4e3e-a186-d7e44716e08a"
      },
      "outputs": [
        {
          "name": "stdout",
          "output_type": "stream",
          "text": [
            "KFbmr1ovr0o257L%2BrNzahWvVmS4ICxGnQrMf%2FZbt2muGkOlCuTpUuyP6%2FfbXM3ld%2B1x4RBvaHtiVCRZ9thHFVYe1SfH2lbXkNkEpLma6g%2FbDyWes6OuY0N&ctl00%24LoginView1%24Login1%24UserName=&ctl00%24LoginView1%24Login1%24Password=&ctl00%24ContentPlaceHolder1%24ddlEsfera=1&ctl00%24ContentPlaceHolder1%24ddlAno=2016&ctl00%24ContentPlaceHolder1%24ddlMunicipios=BREJO+GRANDE&ctl00%24ContentPlaceHolder1%24ddlUnidadeGestora=009159&ctl00%24ContentPlaceHolder1%24imgConsultar.x=47&ctl00%24ContentPlaceHolder1%24imgConsultar.y=14\n"
          ]
        }
      ],
      "source": [
        "print(data[-500::])"
      ]
    },
    {
      "cell_type": "code",
      "execution_count": null,
      "metadata": {
        "colab": {
          "base_uri": "https://localhost:8080/"
        },
        "id": "0gWGOuUle995",
        "outputId": "6410c706-6844-4f7c-d30b-fe904968bf9a"
      },
      "outputs": [
        {
          "name": "stdout",
          "output_type": "stream",
          "text": [
            "257L%2BrNzahWvVmS4ICxGnQrMf%2FZbt2muGkOlCuTpUuyP6%2FfbXM3ld%2B1x4RBvaHtiVCRZ9thHFVYe1SfH2lbXkNkEpLma6g%2FbDyWes6OuY0N&ctl00%24LoginView1%24Login1%24UserName=&ctl00%24LoginView1%24Login1%24Password=&ctl00%24ContentPlaceHolder1%24ddlEsfera=1&ctl00%24ContentPlaceHolder1%24ddlAno=2016&ctl00%24ContentPlaceHolder1%24ddlMunicipios=AMPARO+DE+SAO+FRANCISCO&ctl00%24ContentPlaceHolder1%24ddlUnidadeGestora=002322&ctl00%24ContentPlaceHolder1%24imgConsultar.x=47&ctl00%24ContentPlaceHolder1%24imgConsultar.y=14\n"
          ]
        }
      ],
      "source": [
        "data2 = ler(\"body.txt\")\n",
        "print(data2[-500::])"
      ]
    },
    {
      "cell_type": "code",
      "execution_count": null,
      "metadata": {
        "colab": {
          "base_uri": "https://localhost:8080/"
        },
        "id": "NKSWAwv7Y9dy",
        "outputId": "f44dc3f0-da67-4a4c-9457-f1fcb50d94cc"
      },
      "outputs": [
        {
          "data": {
            "text/plain": [
              "['__EVENTTARGET=',\n",
              " '__EVENTARGUMENT=',\n",
              " '__LASTFOCUS=',\n",
              " '__VIEWSTATE=%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%2BjHv0ohGdw9H2TLdEqSI%2FLIA%3D%3D',\n",
              " '__VIEWSTATEGENERATOR=C1D7D404',\n",
              " '__SCROLLPOSITIONX=0',\n",
              " '__SCROLLPOSITIONY=0',\n",
              " '__EVENTVALIDATION=%2FwEdAGLmPUM5odj3gUkiOB7LoiZYxgjExItltWJx9uMX98PxvlxLL0p5uczRMRVoQT%2B5e8u8efzf8OMpHYaqxJal%2FxILgx4UCXUptLo3W1vusgsI8APYvPHCgc9Ifw%2BzKV0daHx8krSKbGJ9drprqltlKWEETQDf9Wce5CRRSgvOupsF2mY%2Fe1oSwUtOzoZthJCXZWwVi8MHEvrAPcbiqgVjmIQxoTAJFhUoKRO04E4RLX7OTugsWyWB8L%2B3gV9UpFFmyRMWvL5YiF6jtsSZfI7%2BfkWhzFmQOY4fO1GnVs1GbANjqtiiEPviF6m%2B5OpSjV88wwysuB9qJf4w39T%2FtcmlUN6ampMbVyEUJUknYRXXyRbHbRH6Bdzuu2rPCFO0Ve16lrhfxLjANeGueDucnY9xB7HFSjRvnYSH8RPpZc8GY6spk%2FFUBkeCB7FyN6HV7b7h21yXxMDEEApAkFEgc8kFvYcUj9IBdOJx9teRB6%2BsB6sice8hUrn5pc9iIjHObEoHh98y%2F7kljU3l7WdFdgf3iA0wqcyUc8CNAnFeCFz%2Bo0dBPLMjFECu01IG9z9bFRmADRBgFu5J85z26FKFkFUUEV2%2F%2BEWEfrEn4JxcvnLFMAy7t8PFKNmQiM%2BO6NXiUTNyLG0B1D4YK6Z%2BKR6KqpGlJIuY5qjrxG3vwqbx6555SGxXxgKJq2pJN6F1n5WZKvPp2Ouiq9KSlHc3Vw39GqfUM%2FyVKP9MJa4ocMxr0h49IxysYFjt6dRKeICeADChW9wrEEouFOJRAs9oWfRSjUPgkRiYBbSHvygI0fmNpNDyqJ7tuFpWwCBiOGSlSO7WzesnzKWabFW7342BoWGRexcVTnGcSiltybb%2FXpsYkg1smAXVjg4Eg6GElS9lO79%2F%2FXqPIRUW9SvOQ1fibUNiPegKE3k%2BPEyvbTL%2BNIr5a28a%2FzjE%2FlxWKPdgyQiC2AIvp8ZO3GzCl6u5pEoybtRa2xGpqHBVaHQqqKvgdgKQF6naIr3wNWKaE6PEFwnQ8g7hN%2FJvBaxtkd3C9A%2B3fK2O8w3MJtPrxj0u8jTfhanlrKTOcZfZdGAQfwVqH8qHYaChdiGhtVKFycMotojkGGfYOSvqKshze%2Fez95svTeBlurnjbjLD7m0A4qqcKCC7KP1KyrqCDBNw6Au4QPscITzvOerfxfUyoVnFhBVWVKykR6MHlT8YQR0QOa2pLZgXYfsJnFYZlnpSX41AQkOOb%2BX2vEtdyAzgAl7f9JqXbhtNI0x4ap0md%2BxeBkH3I1vJrhZgnekZhpqk4Aln21pbYaWKbaTo0JRTeOQroqz%2Bc7ox8Icu2Og5lm0%2FNoOAndteeapOhROiuIhjKIWCCQ7SVMZZKgHHCr2yB81zJGHyNsIWkQ298wEQ6H5OuUhSR9M66kND5lhD%2FhawGxofadql%2FCEqxDwyg71PfqXM3RzrhEvfwY7BCFEaHl%2B1sSgNYswVDN4XXd9%2BOysUSUcOqnz2zbFKeLLNMRIK3eF9FyOIBxjAmnty89SI7c1WnGqXdHt3XsoxEz%2Bgd7QrgNyHdVQixBStUhG%2BOraCjb%2BrgkR1u7sbsv6n8h3SENZFn3XOtCz0%2FFwETB%2BnXhv3dVBht4ehF6LvvmHv6E6rFsTfTLHSJC%2B4RM6i3TyGIlAf8p0hg%2Fjb7F6PaGF4a11ZozQfUuorEgpWrNanxQC6DDOE%2B2QCdVfoJysKAhfyF8lOa4Nl7LbgtdoLYPUetmE3Y0moLCnZfeRyhSdTRxjxFckn3agbz19brpy4upPipiEbbbtn7PKuGfgQlBW5uO05QON3Y%2FnfHD6RIHH0zOJW7a%2Bdl9jliiIDuDyZI%2BbLfcHgYSZvYPjZrm1%2BeSBcUvuI7%2FA8HvKSkG8VMVF587oe0eQgERSzgsnkgZAqWmLf3Juy5UBAzGIItxlbeikanjqbsEZEKqoWN42oQw45m9UONliK4b78plnV8Uud%2FM%2Fx7O0guZSiZHDpXKLQGpOcpSLVoYVRq1XXbEBVVMBbSiN77qanTMnRk2KFbmr1ovr0o257L%2BrNzahWvVmS4ICxGnQrMf%2FZbt2muGkOlCuTpUuyP6%2FfbXM3ld%2B1x4RBvaHtiVCRZ9thHFVYe1SfH2lbXkNkEpLma6g%2FbDyWes6OuY0N']"
            ]
          },
          "execution_count": 242,
          "metadata": {},
          "output_type": "execute_result"
        }
      ],
      "source": [
        "data.split(\"&\")"
      ]
    },
    {
      "cell_type": "code",
      "execution_count": null,
      "metadata": {
        "colab": {
          "base_uri": "https://localhost:8080/"
        },
        "id": "mpr2SucpLZlS",
        "outputId": "a65cce60-6bec-4b2a-c7b2-9dd22cdb2ef6"
      },
      "outputs": [
        {
          "data": {
            "text/plain": [
              "['__EVENTTARGET=',\n",
              " '__EVENTARGUMENT=',\n",
              " '__LASTFOCUS=',\n",
              " '__VIEWSTATE=%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%2BjHv0ohGdw9H2TLdEqSI%2FLIA%3D%3D',\n",
              " '__VIEWSTATEGENERATOR=C1D7D404',\n",
              " '__SCROLLPOSITIONX=0',\n",
              " '__SCROLLPOSITIONY=0',\n",
              " '__EVENTVALIDATION=%2FwEdAGLmPUM5odj3gUkiOB7LoiZYxgjExItltWJx9uMX98PxvlxLL0p5uczRMRVoQT%2B5e8u8efzf8OMpHYaqxJal%2FxILgx4UCXUptLo3W1vusgsI8APYvPHCgc9Ifw%2BzKV0daHx8krSKbGJ9drprqltlKWEETQDf9Wce5CRRSgvOupsF2mY%2Fe1oSwUtOzoZthJCXZWwVi8MHEvrAPcbiqgVjmIQxoTAJFhUoKRO04E4RLX7OTugsWyWB8L%2B3gV9UpFFmyRMWvL5YiF6jtsSZfI7%2BfkWhzFmQOY4fO1GnVs1GbANjqtiiEPviF6m%2B5OpSjV88wwysuB9qJf4w39T%2FtcmlUN6ampMbVyEUJUknYRXXyRbHbRH6Bdzuu2rPCFO0Ve16lrhfxLjANeGueDucnY9xB7HFSjRvnYSH8RPpZc8GY6spk%2FFUBkeCB7FyN6HV7b7h21yXxMDEEApAkFEgc8kFvYcUj9IBdOJx9teRB6%2BsB6sice8hUrn5pc9iIjHObEoHh98y%2F7kljU3l7WdFdgf3iA0wqcyUc8CNAnFeCFz%2Bo0dBPLMjFECu01IG9z9bFRmADRBgFu5J85z26FKFkFUUEV2%2F%2BEWEfrEn4JxcvnLFMAy7t8PFKNmQiM%2BO6NXiUTNyLG0B1D4YK6Z%2BKR6KqpGlJIuY5qjrxG3vwqbx6555SGxXxgKJq2pJN6F1n5WZKvPp2Ouiq9KSlHc3Vw39GqfUM%2FyVKP9MJa4ocMxr0h49IxysYFjt6dRKeICeADChW9wrEEouFOJRAs9oWfRSjUPgkRiYBbSHvygI0fmNpNDyqJ7tuFpWwCBiOGSlSO7WzesnzKWabFW7342BoWGRexcVTnGcSiltybb%2FXpsYkg1smAXVjg4Eg6GElS9lO79%2F%2FXqPIRUW9SvOQ1fibUNiPegKE3k%2BPEyvbTL%2BNIr5a28a%2FzjE%2FlxWKPdgyQiC2AIvp8ZO3GzCl6u5pEoybtRa2xGpqHBVaHQqqKvgdgKQF6naIr3wNWKaE6PEFwnQ8g7hN%2FJvBaxtkd3C9A%2B3fK2O8w3MJtPrxj0u8jTfhanlrKTOcZfZdGAQfwVqH8qHYaChdiGhtVKFycMotojkGGfYOSvqKshze%2Fez95svTeBlurnjbjLD7m0A4qqcKCC7KP1KyrqCDBNw6Au4QPscITzvOerfxfUyoVnFhBVWVKykR6MHlT8YQR0QOa2pLZgXYfsJnFYZlnpSX41AQkOOb%2BX2vEtdyAzgAl7f9JqXbhtNI0x4ap0md%2BxeBkH3I1vJrhZgnekZhpqk4Aln21pbYaWKbaTo0JRTeOQroqz%2Bc7ox8Icu2Og5lm0%2FNoOAndteeapOhROiuIhjKIWCCQ7SVMZZKgHHCr2yB81zJGHyNsIWkQ298wEQ6H5OuUhSR9M66kND5lhD%2FhawGxofadql%2FCEqxDwyg71PfqXM3RzrhEvfwY7BCFEaHl%2B1sSgNYswVDN4XXd9%2BOysUSUcOqnz2zbFKeLLNMRIK3eF9FyOIBxjAmnty89SI7c1WnGqXdHt3XsoxEz%2Bgd7QrgNyHdVQixBStUhG%2BOraCjb%2BrgkR1u7sbsv6n8h3SENZFn3XOtCz0%2FFwETB%2BnXhv3dVBht4ehF6LvvmHv6E6rFsTfTLHSJC%2B4RM6i3TyGIlAf8p0hg%2Fjb7F6PaGF4a11ZozQfUuorEgpWrNanxQC6DDOE%2B2QCdVfoJysKAhfyF8lOa4Nl7LbgtdoLYPUetmE3Y0moLCnZfeRyhSdTRxjxFckn3agbz19brpy4upPipiEbbbtn7PKuGfgQlBW5uO05QON3Y%2FnfHD6RIHH0zOJW7a%2Bdl9jliiIDuDyZI%2BbLfcHgYSZvYPjZrm1%2BeSBcUvuI7%2FA8HvKSkG8VMVF587oe0eQgERSzgsnkgZAqWmLf3Juy5UBAzGIItxlbeikanjqbsEZEKqoWN42oQw45m9UONliK4b78plnV8Uud%2FM%2Fx7O0guZSiZHDpXKLQGpOcpSLVoYVRq1XXbEBVVMBbSiN77qanTMnRk2KFbmr1ovr0o257L%2BrNzahWvVmS4ICxGnQrMf%2FZbt2muGkOlCuTpUuyP6%2FfbXM3ld%2B1x4RBvaHtiVCRZ9thHFVYe1SfH2lbXkNkEpLma6g%2FbDyWes6OuY0N',\n",
              " 'ctl00%24LoginView1%24Login1%24UserName=',\n",
              " 'ctl00%24LoginView1%24Login1%24Password=',\n",
              " 'ctl00%24ContentPlaceHolder1%24ddlEsfera=1',\n",
              " 'ctl00%24ContentPlaceHolder1%24ddlAno=2016',\n",
              " 'ctl00%24ContentPlaceHolder1%24ddlMunicipios=AMPARO+DE+SAO+FRANCISCO',\n",
              " 'ctl00%24ContentPlaceHolder1%24ddlUnidadeGestora=002322',\n",
              " 'ctl00%24ContentPlaceHolder1%24imgConsultar.x=75',\n",
              " 'ctl00%24ContentPlaceHolder1%24imgConsultar.y=19']"
            ]
          },
          "execution_count": 202,
          "metadata": {},
          "output_type": "execute_result"
        }
      ],
      "source": [
        "requisition = hmtl = ler(\"requisicao.txt\")\n",
        "requisition.split(\"&\")"
      ]
    },
    {
      "cell_type": "code",
      "execution_count": null,
      "metadata": {
        "colab": {
          "base_uri": "https://localhost:8080/"
        },
        "id": "7WQgD4uxK04q",
        "outputId": "2747f5f1-e38c-4e29-fb0f-ece3e77643bf"
      },
      "outputs": [
        {
          "data": {
            "text/plain": [
              "{'__EVENTTARGET': '',\n",
              " '__EVENTARGUMENT': '',\n",
              " '__LASTFOCUS': '',\n",
              " '__VIEWSTATE': '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',\n",
              " '__VIEWSTATEGENERATOR': 'C1D7D404',\n",
              " '__SCROLLPOSITIONX': '0',\n",
              " '__SCROLLPOSITIONY': '0',\n",
              " '__EVENTVALIDATION': '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',\n",
              " 'ctl00$LoginView1$Login1$UserName': '',\n",
              " 'ctl00$LoginView1$Login1$Password': '',\n",
              " 'ctl00$ContentPlaceHolder1$ddlEsfera': '1',\n",
              " 'ctl00$ContentPlaceHolder1$ddlAno': '2016',\n",
              " 'ctl00$ContentPlaceHolder1$ddlMunicipios': 'BREJO+GRANDE',\n",
              " 'ctl00$ContentPlaceHolder1$ddlUnidadeGestora': '009159',\n",
              " 'ctl00$ContentPlaceHolder1$imgConsultar.x': '47',\n",
              " 'ctl00$ContentPlaceHolder1$imgConsultar.y': '14'}"
            ]
          },
          "execution_count": 208,
          "metadata": {},
          "output_type": "execute_result"
        }
      ],
      "source": [
        "hmtl = ler(\"ultima.txt\")\n",
        "f_soup = BeautifulSoup(hmtl)\n",
        "data_f = form_data_post(soup_inicial, ano, municipio, unidade)\n",
        "data_f"
      ]
    },
    {
      "cell_type": "code",
      "execution_count": null,
      "metadata": {
        "id": "-YPu_9UBdHOT"
      },
      "outputs": [],
      "source": [
        "from urllib.parse import urlencode\n",
        "\n",
        "\n",
        "def form_data_post(soup: BeautifulSoup, ano: str,\n",
        "                   municipio: str, unidade: str) -> str|dict:\n",
        "\n",
        "  # inputs_temas = [\"__EVENTARGUMENT\", \"__EVENTTARGET\",\n",
        "  #                 \"__EVENTVALIDATION\", \"__LASTFOCUS\",\n",
        "  #                 \"__SCROLLPOSITIONX\", \"__SCROLLPOSITIONY\",\n",
        "  #                 \"__VIEWSTATE\", \"__VIEWSTATEGENERATOR\"\n",
        "  #                 ]\n",
        "\n",
        "  inputs_temas = [\"__EVENTTARGET\", \"__EVENTARGUMENT\",\n",
        "                    \"__LASTFOCUS\", \"__VIEWSTATE\", \"__VIEWSTATEGENERATOR\",\n",
        "                    \"__SCROLLPOSITIONX\", \"__SCROLLPOSITIONY\",\n",
        "                    \"__EVENTVALIDATION\"]\n",
        "\n",
        "  parametros= {key: soup.select_one(f\"input#{key}\").get(\"value\") for key in inputs_temas}\n",
        "\n",
        "\n",
        "  data = {\n",
        "  \"__EVENTTARGET\": parametros[\"__EVENTTARGET\"],\n",
        "  \"__EVENTARGUMENT\": parametros[\"__EVENTARGUMENT\"],\n",
        "  \"__LASTFOCUS\": parametros[\"__LASTFOCUS\"],\n",
        "  \"__VIEWSTATE\": parametros[\"__VIEWSTATE\"],\n",
        "  \"__VIEWSTATEGENERATOR\": parametros[\"__VIEWSTATEGENERATOR\"],\n",
        "  \"__SCROLLPOSITIONX\": parametros[\"__SCROLLPOSITIONX\"],\n",
        "  \"__SCROLLPOSITIONY\": parametros[\"__SCROLLPOSITIONY\"],\n",
        "  \"__EVENTVALIDATION\": parametros[\"__EVENTVALIDATION\"],\n",
        "  \"ctl00$LoginView1$Login1$UserName\": \"\",\n",
        "  \"ctl00$LoginView1$Login1$Password\": \"\",\n",
        "  \"ctl00$ContentPlaceHolder1$ddlEsfera\": \"1\",\n",
        "  \"ctl00$ContentPlaceHolder1$ddlAno\": ano,\n",
        "  \"ctl00$ContentPlaceHolder1$ddlMunicipios\": municipio,\n",
        "  \"ctl00$ContentPlaceHolder1$ddlUnidadeGestora\": unidade,\n",
        "  \"ctl00$ContentPlaceHolder1$imgConsultar.x\": \"47\",\n",
        "  \"ctl00$ContentPlaceHolder1$imgConsultar.y\": \"14\",\n",
        "  }\n",
        "  encoded_params = urlencode(data)\n",
        "  return encoded_params\n",
        "  # return encoded_params"
      ]
    },
    {
      "cell_type": "code",
      "execution_count": null,
      "metadata": {
        "colab": {
          "base_uri": "https://localhost:8080/"
        },
        "id": "SUzTS54XkyWG",
        "outputId": "4d418521-cc7c-4220-c2ce-b4cb60580b5a"
      },
      "outputs": [
        {
          "data": {
            "text/plain": [
              "{'ctl00$LoginView1$Login1$UserName': '',\n",
              " 'ctl00$LoginView1$Login1$Password': '',\n",
              " 'ctl00$ContentPlaceHolder1$ddlEsfera': 1,\n",
              " 'ctl00$ContentPlaceHolder1$ddlAno': '2016',\n",
              " 'ctl00$ContentPlaceHolder1$ddlMunicipios': 'CAPELA',\n",
              " 'ctl00$ContentPlaceHolder1$ddlUnidadeGestora': '',\n",
              " 'ctl00$ContentPlaceHolder1$imgConsultar.x': 103,\n",
              " 'ctl00$ContentPlaceHolder1$imgConsultar.y': 14,\n",
              " '__EVENTARGUMENT': '',\n",
              " '__EVENTTARGET': '',\n",
              " '__EVENTVALIDATION': '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',\n",
              " '__LASTFOCUS': '',\n",
              " '__SCROLLPOSITIONX': '0',\n",
              " '__SCROLLPOSITIONY': '0',\n",
              " '__VIEWSTATE': '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',\n",
              " '__VIEWSTATEGENERATOR': 'C1D7D404'}"
            ]
          },
          "execution_count": 66,
          "metadata": {},
          "output_type": "execute_result"
        }
      ],
      "source": [
        "parametros"
      ]
    },
    {
      "cell_type": "code",
      "execution_count": null,
      "metadata": {
        "id": "G06NHGYFWbno"
      },
      "outputs": [],
      "source": [
        "await fetch(\"https://www.tcese.tc.br/portaldatransparencia/Default.aspx\", {\n",
        "    \"credentials\": \"omit\",\n",
        "    \"headers\": {\n",
        "        \"User-Agent\": \"Mozilla/5.0 (Windows NT 10.0; Win64; x64; rv:125.0) Gecko/20100101 Firefox/125.0\",\n",
        "        \"Accept\": \"text/html,application/xhtml+xml,application/xml;q=0.9,image/avif,image/webp,*/*;q=0.8\",\n",
        "        \"Accept-Language\": \"pt-BR,pt;q=0.8,en-US;q=0.5,en;q=0.3\",\n",
        "        \"Content-Type\": \"application/x-www-form-urlencoded\",\n",
        "        \"Sec-GPC\": \"1\",\n",
        "        \"Upgrade-Insecure-Requests\": \"1\",\n",
        "        \"Sec-Fetch-Dest\": \"document\",\n",
        "        \"Sec-Fetch-Mode\": \"navigate\",\n",
        "        \"Sec-Fetch-Site\": \"same-origin\",\n",
        "        \"Sec-Fetch-User\": \"?1\"\n",
        "    },\n",
        "    \"referrer\": \"https://www.tcese.tc.br/portaldatransparencia/Default.aspx\",\n",
        "    \"body\": \"__EVENTTARGET=&__EVENTARGUMENT=&__LASTFOCUS=&__VIEWSTATE=%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%2BjHv0ohGdw9H2TLdEqSI%2FLIA%3D%3D&__VIEWSTATEGENERATOR=C1D7D404&__SCROLLPOSITIONX=0&__SCROLLPOSITIONY=0&__EVENTVALIDATION=%2FwEdAGLmPUM5odj3gUkiOB7LoiZYxgjExItltWJx9uMX98PxvlxLL0p5uczRMRVoQT%2B5e8u8efzf8OMpHYaqxJal%2FxILgx4UCXUptLo3W1vusgsI8APYvPHCgc9Ifw%2BzKV0daHx8krSKbGJ9drprqltlKWEETQDf9Wce5CRRSgvOupsF2mY%2Fe1oSwUtOzoZthJCXZWwVi8MHEvrAPcbiqgVjmIQxoTAJFhUoKRO04E4RLX7OTugsWyWB8L%2B3gV9UpFFmyRMWvL5YiF6jtsSZfI7%2BfkWhzFmQOY4fO1GnVs1GbANjqtiiEPviF6m%2B5OpSjV88wwysuB9qJf4w39T%2FtcmlUN6ampMbVyEUJUknYRXXyRbHbRH6Bdzuu2rPCFO0Ve16lrhfxLjANeGueDucnY9xB7HFSjRvnYSH8RPpZc8GY6spk%2FFUBkeCB7FyN6HV7b7h21yXxMDEEApAkFEgc8kFvYcUj9IBdOJx9teRB6%2BsB6sice8hUrn5pc9iIjHObEoHh98y%2F7kljU3l7WdFdgf3iA0wqcyUc8CNAnFeCFz%2Bo0dBPLMjFECu01IG9z9bFRmADRBgFu5J85z26FKFkFUUEV2%2F%2BEWEfrEn4JxcvnLFMAy7t8PFKNmQiM%2BO6NXiUTNyLG0B1D4YK6Z%2BKR6KqpGlJIuY5qjrxG3vwqbx6555SGxXxgKJq2pJN6F1n5WZKvPp2Ouiq9KSlHc3Vw39GqfUM%2FyVKP9MJa4ocMxr0h49IxysYFjt6dRKeICeADChW9wrEEouFOJRAs9oWfRSjUPgkRiYBbSHvygI0fmNpNDyqJ7tuFpWwCBiOGSlSO7WzesnzKWabFW7342BoWGRexcVTnGcSiltybb%2FXpsYkg1smAXVjg4Eg6GElS9lO79%2F%2FXqPIRUW9SvOQ1fibUNiPegKE3k%2BPEyvbTL%2BNIr5a28a%2FzjE%2FlxWKPdgyQiC2AIvp8ZO3GzCl6u5pEoybtRa2xGpqHBVaHQqqKvgdgKQF6naIr3wNWKaE6PEFwnQ8g7hN%2FJvBaxtkd3C9A%2B3fK2O8w3MJtPrxj0u8jTfhanlrKTOcZfZdGAQfwVqH8qHYaChdiGhtVKFycMotojkGGfYOSvqKshze%2Fez95svTeBlurnjbjLD7m0A4qqcKCC7KP1KyrqCDBNw6Au4QPscITzvOerfxfUyoVnFhBVWVKykR6MHlT8YQR0QOa2pLZgXYfsJnFYZlnpSX41AQkOOb%2BX2vEtdyAzgAl7f9JqXbhtNI0x4ap0md%2BxeBkH3I1vJrhZgnekZhpqk4Aln21pbYaWKbaTo0JRTeOQroqz%2Bc7ox8Icu2Og5lm0%2FNoOAndteeapOhROiuIhjKIWCCQ7SVMZZKgHHCr2yB81zJGHyNsIWkQ298wEQ6H5OuUhSR9M66kND5lhD%2FhawGxofadql%2FCEqxDwyg71PfqXM3RzrhEvfwY7BCFEaHl%2B1sSgNYswVDN4XXd9%2BOysUSUcOqnz2zbFKeLLNMRIK3eF9FyOIBxjAmnty89SI7c1WnGqXdHt3XsoxEz%2Bgd7QrgNyHdVQixBStUhG%2BOraCjb%2BrgkR1u7sbsv6n8h3SENZFn3XOtCz0%2FFwETB%2BnXhv3dVBht4ehF6LvvmHv6E6rFsTfTLHSJC%2B4RM6i3TyGIlAf8p0hg%2Fjb7F6PaGF4a11ZozQfUuorEgpWrNanxQC6DDOE%2B2QCdVfoJysKAhfyF8lOa4Nl7LbgtdoLYPUetmE3Y0moLCnZfeRyhSdTRxjxFckn3agbz19brpy4upPipiEbbbtn7PKuGfgQlBW5uO05QON3Y%2FnfHD6RIHH0zOJW7a%2Bdl9jliiIDuDyZI%2BbLfcHgYSZvYPjZrm1%2BeSBcUvuI7%2FA8HvKSkG8VMVF587oe0eQgERSzgsnkgZAqWmLf3Juy5UBAzGIItxlbeikanjqbsEZEKqoWN42oQw45m9UONliK4b78plnV8Uud%2FM%2Fx7O0guZSiZHDpXKLQGpOcpSLVoYVRq1XXbEBVVMBbSiN77qanTMnRk2KFbmr1ovr0o257L%2BrNzahWvVmS4ICxGnQrMf%2FZbt2muGkOlCuTpUuyP6%2FfbXM3ld%2B1x4RBvaHtiVCRZ9thHFVYe1SfH2lbXkNkEpLma6g%2FbDyWes6OuY0N&ctl00%24LoginView1%24Login1%24UserName=&ctl00%24LoginView1%24Login1%24Password=&ctl00%24ContentPlaceHolder1%24ddlEsfera=1&ctl00%24ContentPlaceHolder1%24ddlAno=2016&ctl00%24ContentPlaceHolder1%24ddlMunicipios=AMPARO+DE+SAO+FRANCISCO&ctl00%24ContentPlaceHolder1%24ddlUnidadeGestora=002322&ctl00%24ContentPlaceHolder1%24imgConsultar.x=47&ctl00%24ContentPlaceHolder1%24imgConsultar.y=14\",\n",
        "    \"method\": \"POST\",\n",
        "    \"mode\": \"cors\"\n",
        "});"
      ]
    }
  ],
  "metadata": {
    "colab": {
      "collapsed_sections": [
        "Nk5xVZgySMqo",
        "eQCVWyYuP9m3",
        "j58b1IlGCQ_H",
        "TVpY5rwki3KT",
        "OKrN3wgQsfPj",
        "dtWLLFT-EwHI",
        "WxcD1RhQGldv"
      ],
      "provenance": []
    },
    "kernelspec": {
      "display_name": "Python 3",
      "name": "python3"
    },
    "language_info": {
      "name": "python"
    }
  },
  "nbformat": 4,
  "nbformat_minor": 0
}