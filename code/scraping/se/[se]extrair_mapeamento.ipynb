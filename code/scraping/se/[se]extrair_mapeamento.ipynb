{
  "cells": [
    {
      "cell_type": "markdown",
      "metadata": {
        "id": "view-in-github",
        "colab_type": "text"
      },
      "source": [
        "<a href=\"https://colab.research.google.com/github/Winzen/mides-rascunho/blob/main/code/scraping/se/%5Bse%5Dextrair_mapeamento.ipynb\" target=\"_parent\"><img src=\"https://colab.research.google.com/assets/colab-badge.svg\" alt=\"Open In Colab\"/></a>"
      ]
    },
    {
      "cell_type": "code",
      "execution_count": null,
      "metadata": {
        "colab": {
          "base_uri": "https://localhost:8080/"
        },
        "id": "oXmwQ3xTtEcX",
        "outputId": "df226b26-5499-42ea-a735-0c97cff35191"
      },
      "outputs": [
        {
          "output_type": "stream",
          "name": "stdout",
          "text": [
            "Mounted at /content/drive\n"
          ]
        }
      ],
      "source": [
        "from google.colab import drive\n",
        "drive.mount('/content/drive')"
      ]
    },
    {
      "cell_type": "markdown",
      "metadata": {
        "id": "9ptCC5xP2ssI"
      },
      "source": [
        "# Verificar IP"
      ]
    },
    {
      "cell_type": "code",
      "execution_count": null,
      "metadata": {
        "colab": {
          "base_uri": "https://localhost:8080/"
        },
        "id": "df7yG-uBRCoz",
        "outputId": "7ee78776-3d13-47ae-c19e-7613eb6685b5"
      },
      "outputs": [
        {
          "output_type": "execute_result",
          "data": {
            "text/plain": [
              "{'ip': '34.16.136.187', 'country': 'United States', 'cc': 'US'}"
            ]
          },
          "metadata": {},
          "execution_count": 2
        }
      ],
      "source": [
        "import requests\n",
        "\n",
        "my_country = requests.get(\"https://api.myip.com/\")\n",
        "my_country.json()"
      ]
    },
    {
      "cell_type": "markdown",
      "metadata": {
        "id": "6hVL9mJ1fcnq"
      },
      "source": [
        "# Importação"
      ]
    },
    {
      "cell_type": "code",
      "execution_count": null,
      "metadata": {
        "id": "C7ZAU77ofdjr"
      },
      "outputs": [],
      "source": [
        "import requests\n",
        "import os\n",
        "import csv\n",
        "import shutil\n",
        "import glob\n",
        "import concurrent.futures\n",
        "import datetime as dt\n",
        "import time\n",
        "import re\n",
        "import pandas as pd\n",
        "from time import sleep\n",
        "from more_itertools import batched\n",
        "from bs4 import BeautifulSoup\n",
        "from urllib3 import PoolManager, disable_warnings, exceptions, Timeout\n",
        "from urllib.parse import urlencode\n",
        "from zipfile import ZipFile\n",
        "\n",
        "\n",
        "class SlotBase:\n",
        "\n",
        "  def __init__(self, municipio: str, ano: str, unidade: str,\n",
        "               soup: BeautifulSoup , headers: dict, session: requests.Session) -> None:\n",
        "\n",
        "    self.municipio = municipio\n",
        "    self.ano = ano\n",
        "    self.unidade = unidade\n",
        "    self.soup = soup\n",
        "    self.headers = headers\n",
        "    self.session = session\n",
        "\n",
        "def send_folder_drive(path_drive: str, path_input: str) -> None:\n",
        "\n",
        "  if not len(os.listdir(path_input)) > 0:\n",
        "    raise Exception(\"Essa Pasta vazia\")\n",
        "    return None\n",
        "\n",
        "  shutil.make_archive(path_drive,\n",
        "                      'zip',\n",
        "                      path_input)\n",
        "\n",
        "\n",
        "def send_solo_drive() -> None:\n",
        "\n",
        "  drive.mount('/content/drive')\n",
        "\n",
        "  send_folder_drive(path_drive_input + \"_auto\",\n",
        "                    \"/content/input/\")\n",
        "\n",
        "  send_folder_drive(path_drive_csv + \"_auto\",\n",
        "                    \"/content/csvs\")\n",
        "\n",
        "\n",
        "def ler(path: str) -> str:\n",
        "\n",
        "  with open(path, \"r\") as slot_read:\n",
        "    return slot_read.read()\n",
        "\n",
        "\n",
        "def form_data_post(soup: BeautifulSoup, page: str = \"Page$2\") -> str|dict:\n",
        "\n",
        "  inputs_temas = [\"__EVENTTARGET\", \"__EVENTARGUMENT\",\n",
        "                    \"__VIEWSTATE\", \"__VIEWSTATEGENERATOR\",\n",
        "                    \"__SCROLLPOSITIONX\", \"__SCROLLPOSITIONY\",\n",
        "                    \"__EVENTVALIDATION\"]\n",
        "\n",
        "  parametros= {key: soup.select_one(f\"input#{key}\").get(\"value\") for key in inputs_temas}\n",
        "\n",
        "\n",
        "  data = {\n",
        "  \"__EVENTTARGET\": \"ctl00$ContentPlaceHolder1$grdEmpenhos\",\n",
        "  \"__EVENTARGUMENT\": page,\n",
        "  \"__VIEWSTATE\": parametros[\"__VIEWSTATE\"],\n",
        "  \"__VIEWSTATEGENERATOR\": parametros[\"__VIEWSTATEGENERATOR\"],\n",
        "  \"__SCROLLPOSITIONX\": parametros[\"__SCROLLPOSITIONX\"],\n",
        "  \"__SCROLLPOSITIONY\": parametros[\"__SCROLLPOSITIONY\"],\n",
        "  \"__EVENTVALIDATION\": parametros[\"__EVENTVALIDATION\"],\n",
        "  \"ctl00$LoginView1$Login1$UserName\": \"\",\n",
        "  \"ctl00$LoginView1$Login1$Password\": \"\",\n",
        "  \"ctl00$ContentPlaceHolder1$hdfOrdenacao\": \"\",\n",
        "  }\n",
        "  encoded_params = urlencode(data)\n",
        "  # return encoded_params\n",
        "  return encoded_params\n",
        "\n",
        "def form_row_entidades(municipio: str, unidade: str, id_entidade: str, ano: str) -> dict:\n",
        "  row = {\n",
        "        \"municipio\": municipio,\n",
        "        \"entidade\": unidade,\n",
        "        \"id_entidade\": id_entidade,\n",
        "        \"ano\": ano\n",
        "          }\n",
        "  return row\n",
        "\n",
        "def make_list_chunks(values: list, chunk_size:int = 2000) -> list:\n",
        "  resquet_in_chunks = [chunk for chunk in batched(values, chunk_size)]\n",
        "  return resquet_in_chunks\n",
        "\n",
        "def extrair(path, path_output) -> None:\n",
        "  # loading the temp.zip and creating a zip object\n",
        "  with ZipFile(path, 'r') as zObject:\n",
        "\n",
        "      # Extracting all the members of the zip\n",
        "      # into a specific location.\n",
        "      zObject.extractall(\n",
        "          path=path_output)\n",
        "\n",
        "\n",
        "def get_anos_municipios() -> list:\n",
        "  headers = {\n",
        "  \"User-Agent\": \"Mozilla/5.0 (Windows NT 10.0; Win64; x64; rv:125.0) Gecko/20100101 Firefox/125.0\",\n",
        "  \"Accept\": \"text/html,application/xhtml+xml,application/xml;q=0.9,image/avif,image/webp,*/*;q=0.8\",\n",
        "  \"Accept-Language\": \"pt-BR,pt;q=0.8,en-US;q=0.5,en;q=0.3\",\n",
        "  \"Content-Type\": \"application/x-www-form-urlencoded\",\n",
        "  \"Connection\": \"keep-alive\"\n",
        "  }\n",
        "\n",
        "  link = \"https://www.tcese.tc.br/portaldatransparencia/Default.aspx\"\n",
        "\n",
        "  with requests.Session() as s:\n",
        "\n",
        "    response_anos_municipios = s.get(link, headers=headers)\n",
        "\n",
        "  soup_anos_municipios = BeautifulSoup(response_anos_municipios.text)\n",
        "\n",
        "  anos = [ano.get(\"value\") for ano in soup_anos_municipios.select(\"select#ctl00_ContentPlaceHolder1_ddlAno option\")]\n",
        "  municipios = [municipio.get(\"value\") for municipio in soup_anos_municipios.select(\"select#ctl00_ContentPlaceHolder1_ddlMunicipios option\")]\n",
        "\n",
        "  return [anos, municipios]"
      ]
    },
    {
      "cell_type": "code",
      "execution_count": null,
      "metadata": {
        "id": "SNeMuPRDAEoL"
      },
      "outputs": [],
      "source": [
        "def form_data_post(soup: BeautifulSoup, ano: str,\n",
        "                   municipio: str, unidade: str, event_target: str = \"\") -> str|dict:\n",
        "\n",
        "  inputs_temas = [\"__EVENTTARGET\", \"__EVENTARGUMENT\",\n",
        "                  \"__LASTFOCUS\", \"__VIEWSTATE\", \"__VIEWSTATEGENERATOR\",\n",
        "                  \"__SCROLLPOSITIONX\", \"__SCROLLPOSITIONY\",\n",
        "                  \"__EVENTVALIDATION\"]\n",
        "\n",
        "  parametros = {inp[\"name\"]:inp.get(\"value\") for inp in soup.select(\"input\")}\n",
        "\n",
        "  data = {\n",
        "  \"__EVENTTARGET\": event_target,\n",
        "  \"__EVENTARGUMENT\": \"\",\n",
        "  \"__LASTFOCUS\": \"\",\n",
        "  \"__VIEWSTATE\": parametros[\"__VIEWSTATE\"],\n",
        "  \"__VIEWSTATEGENERATOR\": parametros[\"__VIEWSTATEGENERATOR\"],\n",
        "  \"__SCROLLPOSITIONX\": parametros[\"__SCROLLPOSITIONX\"],\n",
        "  \"__SCROLLPOSITIONY\": parametros[\"__SCROLLPOSITIONY\"],\n",
        "  \"__EVENTVALIDATION\": parametros[\"__EVENTVALIDATION\"],\n",
        "  \"ctl00$LoginView1$Login1$UserName\": \"\",\n",
        "  \"ctl00$LoginView1$Login1$Password\": \"\",\n",
        "  \"ctl00$ContentPlaceHolder1$ddlEsfera\": \"1\",\n",
        "  \"ctl00$ContentPlaceHolder1$ddlAno\": ano,\n",
        "  \"ctl00$ContentPlaceHolder1$ddlMunicipios\": municipio,\n",
        "  }\n",
        "\n",
        "  encoded_params = urlencode(data)\n",
        "\n",
        "  return encoded_params"
      ]
    },
    {
      "cell_type": "code",
      "execution_count": null,
      "metadata": {
        "id": "hSaNvw6LdXxQ"
      },
      "outputs": [],
      "source": [
        "def form_data_post_ano(soup: BeautifulSoup, ano: str,\n",
        "                   municipio: str, unidade: str, event_target: str = \"\") -> str|dict:\n",
        "\n",
        "  inputs_temas = [\"__EVENTTARGET\", \"__EVENTARGUMENT\",\n",
        "                  \"__LASTFOCUS\", \"__VIEWSTATE\", \"__VIEWSTATEGENERATOR\",\n",
        "                  \"__SCROLLPOSITIONX\", \"__SCROLLPOSITIONY\",\n",
        "                  \"__EVENTVALIDATION\"]\n",
        "\n",
        "  parametros = {inp[\"name\"]:inp.get(\"value\") for inp in soup.select(\"input\")}\n",
        "\n",
        "  data = {\n",
        "  \"__EVENTTARGET\": event_target,\n",
        "  \"__EVENTARGUMENT\": \"\",\n",
        "  \"__LASTFOCUS\": \"\",\n",
        "  \"__VIEWSTATE\": parametros[\"__VIEWSTATE\"],\n",
        "  \"__VIEWSTATEGENERATOR\": parametros[\"__VIEWSTATEGENERATOR\"],\n",
        "  \"__SCROLLPOSITIONX\": parametros[\"__SCROLLPOSITIONX\"],\n",
        "  \"__SCROLLPOSITIONY\": parametros[\"__SCROLLPOSITIONY\"],\n",
        "  \"__EVENTVALIDATION\": parametros[\"__EVENTVALIDATION\"],\n",
        "  \"ctl00$LoginView1$Login1$UserName\": \"\",\n",
        "  \"ctl00$LoginView1$Login1$Password\": \"\",\n",
        "  \"ctl00$ContentPlaceHolder1$ddlEsfera\": \"1\",\n",
        "  \"ctl00$ContentPlaceHolder1$ddlAno\": ano,\n",
        "  }\n",
        "\n",
        "  encoded_params = urlencode(data)\n",
        "  # return encoded_params\n",
        "  return encoded_params"
      ]
    },
    {
      "cell_type": "code",
      "execution_count": null,
      "metadata": {
        "id": "Ho40JWKwdXjf"
      },
      "outputs": [],
      "source": [
        "def form_data_post_municipio(soup: BeautifulSoup, ano: str,\n",
        "                   municipio: str, unidade: str, event_target: str = \"\") -> str|dict:\n",
        "\n",
        "  inputs_temas = [\"__EVENTTARGET\", \"__EVENTARGUMENT\",\n",
        "                  \"__LASTFOCUS\", \"__VIEWSTATE\", \"__VIEWSTATEGENERATOR\",\n",
        "                  \"__SCROLLPOSITIONX\", \"__SCROLLPOSITIONY\",\n",
        "                  \"__EVENTVALIDATION\"]\n",
        "\n",
        "  parametros = {inp[\"name\"]:inp.get(\"value\") for inp in soup.select(\"input\")}\n",
        "\n",
        "  data = {\n",
        "  \"__EVENTTARGET\": event_target,\n",
        "  \"__EVENTARGUMENT\": \"\",\n",
        "  \"__LASTFOCUS\": \"\",\n",
        "  \"__VIEWSTATE\": parametros[\"__VIEWSTATE\"],\n",
        "  \"__VIEWSTATEGENERATOR\": parametros[\"__VIEWSTATEGENERATOR\"],\n",
        "  \"__SCROLLPOSITIONX\": parametros[\"__SCROLLPOSITIONX\"],\n",
        "  \"__SCROLLPOSITIONY\": parametros[\"__SCROLLPOSITIONY\"],\n",
        "  \"__EVENTVALIDATION\": parametros[\"__EVENTVALIDATION\"],\n",
        "  \"ctl00$LoginView1$Login1$UserName\": \"\",\n",
        "  \"ctl00$LoginView1$Login1$Password\": \"\",\n",
        "  \"ctl00$ContentPlaceHolder1$ddlEsfera\": \"1\",\n",
        "  \"ctl00$ContentPlaceHolder1$ddlMunicipios\": municipio\n",
        "  }\n",
        "\n",
        "  encoded_params = urlencode(data)\n",
        "\n",
        "  return encoded_params"
      ]
    },
    {
      "cell_type": "code",
      "execution_count": null,
      "metadata": {
        "id": "P4XRyjwCfqpu"
      },
      "outputs": [],
      "source": [
        "def form_data_post_unidade(soup: BeautifulSoup, ano: str,\n",
        "                   municipio: str, unidade: str, event_target: str = \"\") -> str|dict:\n",
        "\n",
        "  inputs_temas = [\"__EVENTTARGET\", \"__EVENTARGUMENT\",\n",
        "                  \"__LASTFOCUS\", \"__VIEWSTATE\", \"__VIEWSTATEGENERATOR\",\n",
        "                  \"__SCROLLPOSITIONX\", \"__SCROLLPOSITIONY\",\n",
        "                  \"__EVENTVALIDATION\"]\n",
        "\n",
        "  parametros = {inp[\"name\"]:inp.get(\"value\") for inp in soup.select(\"input\")}\n",
        "\n",
        "  data = {\n",
        "  \"__EVENTTARGET\": event_target,\n",
        "  \"__EVENTARGUMENT\": \"\",\n",
        "  \"__LASTFOCUS\": \"\",\n",
        "  \"__VIEWSTATE\": parametros[\"__VIEWSTATE\"],\n",
        "  \"__VIEWSTATEGENERATOR\": parametros[\"__VIEWSTATEGENERATOR\"],\n",
        "  \"__SCROLLPOSITIONX\": parametros[\"__SCROLLPOSITIONX\"],\n",
        "  \"__SCROLLPOSITIONY\": parametros[\"__SCROLLPOSITIONY\"],\n",
        "  \"__EVENTVALIDATION\": parametros[\"__EVENTVALIDATION\"],\n",
        "  \"ctl00$LoginView1$Login1$UserName\": \"\",\n",
        "  \"ctl00$LoginView1$Login1$Password\": \"\",\n",
        "  \"ctl00$ContentPlaceHolder1$ddlEsfera\": \"1\",\n",
        "  \"ctl00$ContentPlaceHolder1$ddlUnidadeGestora\":\tunidade,\n",
        "  \"ctl00$ContentPlaceHolder1$imgConsultar.x\":\t\"101\",\n",
        "  \"ctl00$ContentPlaceHolder1$imgConsultar.y\":\t\"16\"\n",
        "  }\n",
        "\n",
        "  encoded_params = urlencode(data)\n",
        "\n",
        "  return encoded_params"
      ]
    },
    {
      "cell_type": "markdown",
      "metadata": {
        "id": "MT-Xd5hN1rhu"
      },
      "source": [
        "# Meu drive pessoal - Variaveis Globais"
      ]
    },
    {
      "cell_type": "code",
      "execution_count": null,
      "metadata": {
        "id": "QPmnBa3NABTb"
      },
      "outputs": [],
      "source": [
        "path_drive_input = f\"/content/drive/MyDrive/DataBase/world_bank/se/input_html_empenhos_map\"\n",
        "path_drive_csv = f\"/content/drive/MyDrive/DataBase/world_bank/se/csvs\"\n",
        "# local_path_csv = f\"/content/links_coleta_grupo/links_coletados_pagamentos_grupo_{id_grupo}.csv\""
      ]
    },
    {
      "cell_type": "markdown",
      "metadata": {
        "id": "3PaPn6j88Y0h"
      },
      "source": [
        "# Extrair CSV"
      ]
    },
    {
      "cell_type": "code",
      "execution_count": null,
      "metadata": {
        "id": "E8AKSSFj8WeR"
      },
      "outputs": [],
      "source": [
        "extrair(path=path_drive_csv + \".zip\",\n",
        "        path_output=\"/content/csvs\")"
      ]
    },
    {
      "cell_type": "code",
      "execution_count": null,
      "metadata": {
        "id": "UeE-vEHaqy7n"
      },
      "outputs": [],
      "source": [
        "extrair(path=path_drive_input + \".zip\",\n",
        "        path_output=\"/content/input\")"
      ]
    },
    {
      "cell_type": "markdown",
      "metadata": {
        "id": "jCsWynZTLcJY"
      },
      "source": [
        "### Extrair Auto-Save"
      ]
    },
    {
      "cell_type": "code",
      "execution_count": null,
      "metadata": {
        "id": "RHGcjwumLlcU"
      },
      "outputs": [],
      "source": [
        "extrair(path=path_drive_csv + \"_auto\" + \".zip\",\n",
        "        path_output=\"/content/csvs\")"
      ]
    },
    {
      "cell_type": "code",
      "execution_count": null,
      "metadata": {
        "id": "bQXSGmDZIHaE"
      },
      "outputs": [],
      "source": [
        "extrair(path=path_drive_input + \"_auto\" + \".zip\",\n",
        "        path_output=\"/content/input\")"
      ]
    },
    {
      "cell_type": "markdown",
      "metadata": {
        "id": "OKrN3wgQsfPj"
      },
      "source": [
        "# Formar DataFrame das entidades"
      ]
    },
    {
      "cell_type": "code",
      "execution_count": null,
      "metadata": {
        "id": "RBCO-dDssiRS"
      },
      "outputs": [],
      "source": [
        "link_confirmar_unidade = \"https://www.tcese.tc.br/portaldatransparencia/Default.aspx\"\n",
        "link_acesse_inicio_dados = \"https://www.tcese.tc.br/portaldatransparencia/DadosUnidade.aspx\"\n",
        "\n",
        "\n",
        "headers = {\n",
        "  \"User-Agent\": \"Mozilla/5.0 (Windows NT 10.0; Win64; x64; rv:125.0) Gecko/20100101 Firefox/125.0\",\n",
        "  \"Accept\": \"text/html,application/xhtml+xml,application/xml;q=0.9,image/avif,image/webp,*/*;q=0.8\",\n",
        "  \"Accept-Language\": \"pt-BR,pt;q=0.8,en-US;q=0.5,en;q=0.3\",\n",
        "  \"Content-Type\": \"application/x-www-form-urlencoded\",\n",
        "  \"Connection\": \"keep-alive\"\n",
        "}\n",
        "\n",
        "rows = []\n",
        "\n",
        "anos, municipios = get_anos_municipios()\n",
        "\n",
        "for municipio in municipios:\n",
        "  for ano in anos:\n",
        "    with requests.Session() as s:\n",
        "\n",
        "      inicial_response = s.get(link_confirmar_unidade, headers=headers)\n",
        "      soup_inicial = BeautifulSoup(inicial_response.text)\n",
        "      select_ano = form_data_post_ano(soup_inicial, ano, municipio, unidade, \"ctl00$ContentPlaceHolder1$ddlAno\")\n",
        "      # body_inicial = form_data_post(soup_inicial, ano, municipio, unidade)\n",
        "\n",
        "      response_ano = s.post(link_confirmar_unidade, headers=headers, data=select_ano)\n",
        "      soup_ano = BeautifulSoup(response_ano.text)\n",
        "      select_municipio = form_data_post_municipio(soup_ano, ano, municipio, unidade, \"ctl00$ContentPlaceHolder1$ddlMunicipios\")\n",
        "      response_municipio = s.post(link_confirmar_unidade, headers=headers, data=select_municipio)\n",
        "      # body_inicial = form_data_post(soup_inicial, ano, municipio, unidade)\n",
        "\n",
        "      # response2 = s.post(link_acesse_inicio_dados, headers=headers)\n",
        "      soup_municipio = BeautifulSoup(response_municipio.text)\n",
        "\n",
        "      select_unidade = \"select#ctl00_ContentPlaceHolder1_ddlUnidadeGestora option\"\n",
        "      element_unidades = soup_municipio.select(select_unidade)\n",
        "      unidades = [form_row_entidades(municipio, unidade.text, unidade.get(\"value\"), ano) for unidade in element_unidades]\n",
        "      rows += unidades\n",
        "\n",
        "df = pd.DataFrame(rows)\n",
        "df.to_csv(\"entidades.csv\", index=False)"
      ]
    },
    {
      "cell_type": "markdown",
      "metadata": {
        "id": "ScKZU3fxzQvL"
      },
      "source": [
        "# Extrair Paginas de coleta (Mapeamento)"
      ]
    },
    {
      "cell_type": "code",
      "execution_count": null,
      "metadata": {
        "id": "4bF0nvM7zran"
      },
      "outputs": [],
      "source": [
        "def consultar_unidade(session: requests.Session, headers: dict, ano: str,\n",
        "                   municipio: str, unidade: str) -> BeautifulSoup:\n",
        "\n",
        "  link_confirmar_unidade = \"https://www.tcese.tc.br/portaldatransparencia/Default.aspx\"\n",
        "  link_acesse_inicio_dados = \"https://www.tcese.tc.br/portaldatransparencia/DadosUnidade.aspx\"\n",
        "\n",
        "  inicial_response = session.get(link_confirmar_unidade, headers=headers)\n",
        "  soup_inicial = BeautifulSoup(inicial_response.text)\n",
        "  select_ano = form_data_post_ano(soup_inicial, ano, municipio, unidade, \"ctl00$ContentPlaceHolder1$ddlAno\")\n",
        "\n",
        "  response_ano = session.post(link_confirmar_unidade, headers=headers, data=select_ano)\n",
        "  soup_ano = BeautifulSoup(response_ano.text)\n",
        "  select_municipio = form_data_post_municipio(soup_ano, ano, municipio, unidade, \"ctl00$ContentPlaceHolder1$ddlMunicipios\")\n",
        "  response_municipio = session.post(link_confirmar_unidade, headers=headers, data=select_municipio)\n",
        "\n",
        "  soup_municipio = BeautifulSoup(response_municipio.text)\n",
        "  select_unidade = form_data_post_unidade(soup_municipio, ano, municipio, unidade)\n",
        "  response_unidade = session.post(link_confirmar_unidade, headers=headers, data=select_unidade)\n",
        "\n",
        "  soup = BeautifulSoup(response_unidade.text)\n",
        "  return soup"
      ]
    },
    {
      "cell_type": "code",
      "execution_count": null,
      "metadata": {
        "id": "vdKjIWX42BGR"
      },
      "outputs": [],
      "source": [
        "def form_data_empenho(soup: BeautifulSoup) -> str|dict:\n",
        "\n",
        "  parametros = {inp[\"name\"]:inp.get(\"value\") for inp in soup.select(\"input\")}\n",
        "  data = {\n",
        "    \"__EVENTTARGET\": \"\",\n",
        "    \"__EVENTARGUMENT\": \"\",\n",
        "    \"__LASTFOCUS\": \"\",\n",
        "    \"__VIEWSTATE\": parametros[\"__VIEWSTATE\"],\n",
        "    \"__VIEWSTATEGENERATOR\": parametros[\"__VIEWSTATEGENERATOR\"],\n",
        "    \"__SCROLLPOSITIONX\": parametros[\"__SCROLLPOSITIONX\"],\n",
        "    \"__SCROLLPOSITIONY\": parametros[\"__SCROLLPOSITIONY\"],\n",
        "    \"__EVENTVALIDATION\": parametros[\"__EVENTVALIDATION\"],\n",
        "    \"ctl00$LoginView1$Login1$UserName\":\t\"\",\n",
        "    \"ctl00$LoginView1$Login1$Password\":\t\"\",\n",
        "    \"ctl00$ContentPlaceHolder1$txtDataInicial\":\t\"01/01\",\n",
        "    \"ctl00$ContentPlaceHolder1$txtDataFinal\":\t\"31/12\",\n",
        "    \"ctl00$ContentPlaceHolder1$txtNumero\":\t\"\",\n",
        "    \"ctl00$ContentPlaceHolder1$txtValorMin\":\t\"\",\n",
        "    \"ctl00$ContentPlaceHolder1$txtValorMax\":\t\"\",\n",
        "    \"ctl00$ContentPlaceHolder1$ddlOrgao\":\t\"\",\n",
        "    \"ctl00$ContentPlaceHolder1$ddlUnidadeOrcamentaria\":\t\"\",\n",
        "    \"ctl00$ContentPlaceHolder1$txtCpfCnpj\":\t\"\",\n",
        "    \"ctl00$ContentPlaceHolder1$txtEspecDespesa\":\t\"\",\n",
        "    \"ctl00$ContentPlaceHolder1$ddlRegiao\":\t\"\",\n",
        "    \"ctl00$ContentPlaceHolder1$ddlFuncao\":\t\"\",\n",
        "    \"ctl00$ContentPlaceHolder1$ddlSubfuncao\":\t\"\",\n",
        "    \"ctl00$ContentPlaceHolder1$ddlPrograma\":\t\"\",\n",
        "    \"ctl00$ContentPlaceHolder1$ddlProjAtividade\":\t\"\",\n",
        "    \"ctl00$ContentPlaceHolder1$ddlCategEconomica\":\t\"\",\n",
        "    \"ctl00$ContentPlaceHolder1$ddlGrupoDespesa\":\t\"\",\n",
        "    \"ctl00$ContentPlaceHolder1$ddlModalidadeApp\":\t\"\",\n",
        "    \"ctl00$ContentPlaceHolder1$ddlElementoDespesa\":\t\"\",\n",
        "    \"ctl00$ContentPlaceHolder1$ddlFonteRecurso\":\t\"\",\n",
        "    \"ctl00$ContentPlaceHolder1$btnConsultar\":\t\"Consultar\"\n",
        "  }\n",
        "\n",
        "  encoded_params = urlencode(data)\n",
        "  return encoded_params"
      ]
    },
    {
      "cell_type": "code",
      "execution_count": null,
      "metadata": {
        "id": "L9dDHsMf7s7p"
      },
      "outputs": [],
      "source": [
        "def form_data_page(soup: BeautifulSoup, page= \"1\")-> str|dict:\n",
        "\n",
        "  parametros = {inp[\"name\"]:inp.get(\"value\") for inp in soup.select(\"input\")}\n",
        "\n",
        "  data = {\n",
        "  \"__EVENTTARGET\": \"ctl00$ContentPlaceHolder1$grdEmpenhos\",\n",
        "  \"__EVENTARGUMENT\": f\"Page${page}\",\n",
        "  \"__VIEWSTATE\": parametros[\"__VIEWSTATE\"],\n",
        "  \"__VIEWSTATEGENERATOR\": parametros[\"__VIEWSTATEGENERATOR\"],\n",
        "  \"__SCROLLPOSITIONX\": parametros[\"__SCROLLPOSITIONX\"],\n",
        "  \"__SCROLLPOSITIONY\": parametros[\"__SCROLLPOSITIONY\"],\n",
        "  \"__EVENTVALIDATION\": parametros[\"__EVENTVALIDATION\"],\n",
        "  \"ctl00$LoginView1$Login1$UserName\": \"\",\n",
        "  \"ctl00$LoginView1$Login1$Password\": \"\",\n",
        "  \"ctl00$ContentPlaceHolder1$hdfOrdenacao\t\": \"\",\n",
        "  }\n",
        "\n",
        "  encoded_params = urlencode(data)\n",
        "  return encoded_params"
      ]
    },
    {
      "cell_type": "code",
      "execution_count": null,
      "metadata": {
        "id": "smsqLwxl3AsM"
      },
      "outputs": [],
      "source": [
        "class SlotExtration:\n",
        "\n",
        "  def __init__(self, base:SlotBase, response: requests.Response, page: int) -> None:\n",
        "\n",
        "    self.base = base\n",
        "    self.response = response\n",
        "    self.page = page"
      ]
    },
    {
      "cell_type": "code",
      "execution_count": null,
      "metadata": {
        "id": "60Pz2PbZ_C_p"
      },
      "outputs": [],
      "source": [
        "def mudar_pagina(s: requests.Session, soup: BeautifulSoup, headers: dict, page: int|str) -> requests.Response:\n",
        "\n",
        "  link_acessa_empenhos = \"https://www.tcese.tc.br/portaldatransparencia/EmpenhoLista.aspx?Ini=01/01&Fim=31/12&Num=&Min=&Max=&Org=&UO=&Reg=&Fun=&SubF=&Prg=&GD=&Mod=&PA=&CE=&ED=&SED=&FR=&CPFCNPJ=&EspD=\"\n",
        "\n",
        "  data_next_page = form_data_page(soup, str(page))\n",
        "  response_next_page = s.post(link_acessa_empenhos, headers=headers, data=data_next_page)\n",
        "  return response_next_page"
      ]
    },
    {
      "cell_type": "code",
      "execution_count": null,
      "metadata": {
        "id": "35MbwkPl41fw"
      },
      "outputs": [],
      "source": [
        "def get_response(base: SlotBase, page: int) -> SlotExtration:\n",
        "\n",
        "  response_next_page = mudar_pagina(base.session, base.soup, base.headers, page)\n",
        "  slot_extration = SlotExtration(base, response_next_page, page)\n",
        "  return slot_extration"
      ]
    },
    {
      "cell_type": "code",
      "execution_count": null,
      "metadata": {
        "id": "tiJwxIr10f0r"
      },
      "outputs": [],
      "source": [
        "def save_html(slot: SlotExtration) -> SlotExtration|bool:\n",
        "\n",
        "  try:\n",
        "\n",
        "    html = slot.response.text\n",
        "\n",
        "    if \"LISTA DE EMPENHOS\" in html:\n",
        "      path_base = f\"input/{slot.base.ano}/{slot.base.municipio}/{slot.base.unidade}/\"\n",
        "\n",
        "      os.makedirs(path_base, exist_ok=True)\n",
        "\n",
        "      with open(path_base + f\"{slot.page}.html\", \"w\") as form_html:\n",
        "        form_html.write(html)\n",
        "\n",
        "      return slot\n",
        "\n",
        "    return False\n",
        "\n",
        "  except:\n",
        "\n",
        "    return False"
      ]
    },
    {
      "cell_type": "code",
      "execution_count": null,
      "metadata": {
        "id": "rYrGNUbCJuLi"
      },
      "outputs": [],
      "source": [
        "def verifica_ultima_pagina(soup: BeautifulSoup) -> str|bool:\n",
        "\n",
        "  ultima_disponivel = False\n",
        "  last_page = soup.select('img[title=\"Última Página\"]')\n",
        "  paginas = re.findall(r\"Page[$](\\d+)\", str(soup))\n",
        "\n",
        "  if last_page:\n",
        "    ultima_disponivel = \"Last\"\n",
        "  elif paginas:\n",
        "    ultima_disponivel = str(max([int(n) for n in list(dict.fromkeys(paginas))]))\n",
        "\n",
        "  return ultima_disponivel\n",
        "\n",
        "def get_last_page(s: requests.Session, soup: BeautifulSoup, headers: dict) -> int:\n",
        "\n",
        " response =  mudar_pagina(s, soup, headers, \"Last\")\n",
        " suop = BeautifulSoup(response.text)\n",
        " pagina_atual = int(suop.select(\"td span\")[-1].text)\n",
        " return pagina_atual\n",
        "\n",
        "def form_paginas(s: requests.Session, soup: BeautifulSoup, headers: dict) -> list|bool:\n",
        "\n",
        "  paginas = False\n",
        "\n",
        "  ultima_pagina = verifica_ultima_pagina(soup)\n",
        "  if ultima_pagina:\n",
        "\n",
        "    if ultima_pagina == \"Last\":\n",
        "      ultima_pagina = get_last_page(s, soup, headers)\n",
        "\n",
        "    paginas = list(range(2, int(ultima_pagina) + 1))\n",
        "\n",
        "  return paginas"
      ]
    },
    {
      "cell_type": "code",
      "execution_count": null,
      "metadata": {
        "id": "PXbZ7CxMPZHn"
      },
      "outputs": [],
      "source": [
        "def consultar_empenho(s: requests.Session, headers: dict) -> list:\n",
        "\n",
        "  link_confirmar_empenho = \"https://www.tcese.tc.br/portaldatransparencia/Empenho.aspx\"\n",
        "\n",
        "  consulta_empenho = s.get(link_confirmar_empenho, headers=headers)\n",
        "  soup_consulta_empenho = BeautifulSoup(consulta_empenho.text)\n",
        "  data_empenho = form_data_empenho(soup_consulta_empenho)\n",
        "  response_empenho_inicial = s.post(link_confirmar_empenho, headers=headers, data=data_empenho)\n",
        "\n",
        "  soup_empenho_inicial = BeautifulSoup(response_empenho_inicial.text)\n",
        "  return [soup_empenho_inicial, response_empenho_inicial]"
      ]
    },
    {
      "cell_type": "code",
      "execution_count": null,
      "metadata": {
        "id": "Rtj8WUNgzlA6"
      },
      "outputs": [],
      "source": [
        "def coletar_paginas_empenho(municipio: str, ano: str, unidade: str) -> bool:\n",
        "\n",
        "  headers = {\n",
        "    \"User-Agent\": \"Mozilla/5.0 (Windows NT 10.0; Win64; x64; rv:125.0) Gecko/20100101 Firefox/125.0\",\n",
        "    \"Accept\": \"text/html,application/xhtml+xml,application/xml;q=0.9,image/avif,image/webp,*/*;q=0.8\",\n",
        "    \"Accept-Language\": \"pt-BR,pt;q=0.8,en-US;q=0.5,en;q=0.3\",\n",
        "    \"Content-Type\": \"application/x-www-form-urlencoded\",\n",
        "    \"Connection\": \"keep-alive\"\n",
        "  }\n",
        "\n",
        "  print(f\"{'-' * 30}\\nIniciando extração\\nMunicipio: {municipio}\\nUnidade: {unidade}\\nAno: {ano}\")\n",
        "\n",
        "  start_time = time.time()\n",
        "\n",
        "  with requests.Session() as s:\n",
        "\n",
        "    consulta = consultar_unidade(s, headers, ano, municipio, unidade)\n",
        "    soup_empenho_inicial, response_empenho_inicial = consultar_empenho(s, headers)\n",
        "\n",
        "    if \"LISTA DE EMPENHOS\" in str(soup_empenho_inicial):\n",
        "\n",
        "      slot_base = SlotBase(municipio, ano, unidade, soup_empenho_inicial, headers, s)\n",
        "\n",
        "      first_page = SlotExtration(slot_base, response_empenho_inicial, 1)\n",
        "\n",
        "      tasks_extration = [first_page]\n",
        "\n",
        "      paginas = form_paginas(s, soup_empenho_inicial, headers)\n",
        "\n",
        "      if paginas:\n",
        "\n",
        "        if len(paginas) >= 11:\n",
        "\n",
        "          paginas_chunk = make_list_chunks(paginas, chunk_size=10)\n",
        "\n",
        "          for chuck in paginas_chunk:\n",
        "\n",
        "            with concurrent.futures.ThreadPoolExecutor() as executor:\n",
        "              tasks_extration += [response for response in executor.map(lambda page: get_response(slot_base, page), chuck)]\n",
        "\n",
        "            slot_base.soup = BeautifulSoup(tasks_extration[-1].response.text)\n",
        "\n",
        "        else:\n",
        "\n",
        "          with concurrent.futures.ThreadPoolExecutor() as executor:\n",
        "            tasks_extration += [response for response in executor.map(lambda page: get_response(slot_base, page), paginas)]\n",
        "\n",
        "      print(f\"Dados prontos para serem salvos: {len(tasks_extration)}\")\n",
        "\n",
        "      with concurrent.futures.ThreadPoolExecutor() as executor:\n",
        "          extrations = [extration for extration in executor.map(save_html, tasks_extration) if extration]\n",
        "\n",
        "      print(f\"Dados salvos com sucesso: {len(extrations)}\")\n",
        "\n",
        "      segundo_execucao = time.time() - start_time\n",
        "      print(f\"Duração da execução: {segundo_execucao / 60:.2f}\\n{'-' * 30}\")\n",
        "      print(f\"Intervalo\\nRespeito de {segundo_execucao: 0.2f} segudos ao servidor\")\n",
        "      sleep(segundo_execucao * 0.2)\n",
        "\n",
        "      if len(tasks_extration) == len(extrations):\n",
        "        print(f\"Extração Perfeita!\\n{'-' * 30}\")\n",
        "        return True\n",
        "    else:\n",
        "      print(\"Erro na primeira pagina. Nada é possivel!\")\n",
        "\n",
        "  return False\n",
        "\n"
      ]
    },
    {
      "cell_type": "code",
      "execution_count": null,
      "metadata": {
        "colab": {
          "base_uri": "https://localhost:8080/"
        },
        "id": "gIpuqb2EEbCR",
        "outputId": "d06c4f08-bfd4-44b8-a835-e29eaa43a066"
      },
      "outputs": [
        {
          "name": "stdout",
          "output_type": "stream",
          "text": [
            "Salvando..\n",
            "Drive already mounted at /content/drive; to attempt to forcibly remount, call drive.mount(\"/content/drive\", force_remount=True).\n",
            "Salvamento concluido.\n"
          ]
        }
      ],
      "source": [
        "df_entidades = pd.read_csv(\"/content/csvs/se_entidades_coleta.csv\", dtype=str)\n",
        "para_coletar = df_entidades[df_entidades[\"coletado\"] == \"False\"]\n",
        "\n",
        "for n, row in enumerate(para_coletar.itertuples()):\n",
        "\n",
        "  coletado = coletar_paginas_empenho(row.municipio, row.ano, row.id_entidade)\n",
        "\n",
        "  if coletado:\n",
        "    df_entidades.loc[row.Index, \"coletado\"] = \"True\"\n",
        "\n",
        "  if (n + 1) % 20 == 0:\n",
        "    print(\"Salvando..\")\n",
        "    df_entidades.to_csv(\"/content/csvs/se_entidades_coleta.csv\", index=False)\n",
        "    send_solo_drive()\n",
        "    print(\"Salvamento concluido.\")\n",
        "\n",
        "\n",
        "print(\"Salvando..\")\n",
        "df_entidades.to_csv(\"/content/csvs/se_entidades_coleta.csv\", index=False)\n",
        "send_solo_drive()\n",
        "print(\"Salvamento concluido.\")"
      ]
    },
    {
      "cell_type": "markdown",
      "metadata": {
        "id": "98_15dAlHvyk"
      },
      "source": [
        "# Mandar no drive"
      ]
    },
    {
      "cell_type": "code",
      "execution_count": null,
      "metadata": {
        "colab": {
          "base_uri": "https://localhost:8080/"
        },
        "id": "a3Sf_eG8H10g",
        "outputId": "d37396f5-ceda-4957-c143-cb189e7adf73"
      },
      "outputs": [
        {
          "name": "stdout",
          "output_type": "stream",
          "text": [
            "Drive already mounted at /content/drive; to attempt to forcibly remount, call drive.mount(\"/content/drive\", force_remount=True).\n"
          ]
        }
      ],
      "source": [
        "drive.mount('/content/drive')\n",
        "\n",
        "df_entidades.to_csv(\"/content/csvs/se_entidades_coleta.csv\", index=False)\n",
        "\n",
        "send_folder_drive(path_drive_input,\n",
        "                \"/content/input/\")\n",
        "\n",
        "send_folder_drive(path_drive_csv,\n",
        "                \"/content/csvs\")"
      ]
    }
  ],
  "metadata": {
    "colab": {
      "collapsed_sections": [
        "Nk5xVZgySMqo",
        "eQCVWyYuP9m3",
        "j58b1IlGCQ_H",
        "TVpY5rwki3KT",
        "OKrN3wgQsfPj",
        "dtWLLFT-EwHI",
        "WxcD1RhQGldv"
      ],
      "provenance": [],
      "authorship_tag": "ABX9TyOstwWYS+8hnCnggz1USvhH",
      "include_colab_link": true
    },
    "kernelspec": {
      "display_name": "Python 3",
      "name": "python3"
    },
    "language_info": {
      "name": "python"
    }
  },
  "nbformat": 4,
  "nbformat_minor": 0
}