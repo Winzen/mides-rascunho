{
  "nbformat": 4,
  "nbformat_minor": 0,
  "metadata": {
    "colab": {
      "provenance": [],
      "include_colab_link": true
    },
    "kernelspec": {
      "name": "python3",
      "display_name": "Python 3"
    },
    "language_info": {
      "name": "python"
    }
  },
  "cells": [
    {
      "cell_type": "markdown",
      "metadata": {
        "id": "view-in-github",
        "colab_type": "text"
      },
      "source": [
        "<a href=\"https://colab.research.google.com/github/Winzen/mides-rascunho/blob/main/code/scraping/to/%5Bto%5Dextrair.ipynb\" target=\"_parent\"><img src=\"https://colab.research.google.com/assets/colab-badge.svg\" alt=\"Open In Colab\"/></a>"
      ]
    },
    {
      "cell_type": "code",
      "source": [
        "from google.colab import drive\n",
        "drive.mount('/content/drive')"
      ],
      "metadata": {
        "colab": {
          "base_uri": "https://localhost:8080/"
        },
        "id": "FWmN7s8nVVEt",
        "outputId": "89461188-ed61-4177-d908-d7e836a376da"
      },
      "execution_count": null,
      "outputs": [
        {
          "output_type": "stream",
          "name": "stdout",
          "text": [
            "Mounted at /content/drive\n"
          ]
        }
      ]
    },
    {
      "cell_type": "markdown",
      "source": [
        "# Constantes"
      ],
      "metadata": {
        "id": "nFe35mrJ5Ctw"
      }
    },
    {
      "cell_type": "code",
      "source": [
        "ano = 2018\n",
        "csv_entidade_git = \"https://raw.githubusercontent.com/Winzen/mides-rascunho/main/code/scraping/to/municipios-entidades/entidades_to.csv?token=GHSAT0AAAAAACJFESHXRUQPOWT6TB5XH3QSZTQ44KQ\"\n",
        "path_drive_input = None # Definir caso você queira salvar os arquivos em algum lugar automaticamente ou extrair eles\n"
      ],
      "metadata": {
        "id": "xK4-bt-YRlbk"
      },
      "execution_count": null,
      "outputs": []
    },
    {
      "cell_type": "markdown",
      "metadata": {
        "id": "9ptCC5xP2ssI"
      },
      "source": [
        "# Verificar IP"
      ]
    },
    {
      "cell_type": "code",
      "execution_count": null,
      "metadata": {
        "colab": {
          "base_uri": "https://localhost:8080/"
        },
        "id": "df7yG-uBRCoz",
        "outputId": "d229f784-e7dd-4d81-90b0-a73a217d5e3a"
      },
      "outputs": [
        {
          "output_type": "execute_result",
          "data": {
            "text/plain": [
              "{'ip': '34.150.148.240', 'country': 'United States', 'cc': 'US'}"
            ]
          },
          "metadata": {},
          "execution_count": 1
        }
      ],
      "source": [
        "import requests\n",
        "\n",
        "my_country = requests.get(\"https://api.myip.com/\")\n",
        "my_country.json()"
      ]
    },
    {
      "cell_type": "markdown",
      "source": [
        "# Importação"
      ],
      "metadata": {
        "id": "mDgDiOXa_Uvg"
      }
    },
    {
      "cell_type": "code",
      "source": [
        "from typing import IO\n",
        "import unicodedata\n",
        "import re\n",
        "from urllib3 import PoolManager, disable_warnings, exceptions, Timeout, Retry\n",
        "import urllib.request\n",
        "from bs4 import BeautifulSoup\n",
        "import concurrent.futures\n",
        "import pandas as pd\n",
        "from more_itertools import batched\n",
        "import os\n",
        "import time\n",
        "from time import sleep\n",
        "import shutil\n",
        "from zipfile import ZipFile\n",
        "import gc\n",
        "import glob\n",
        "import requests\n",
        "\n",
        "\n",
        "class ReponseManage:\n",
        "\n",
        "  def __init__(self, pool_max_size: int = 1000) -> None:\n",
        "\n",
        "      http = self.create_pool_manager(pool_max_size)\n",
        "\n",
        "  def create_pool_manager(self, pool_max_size: int) -> PoolManager:\n",
        "\n",
        "      http = PoolManager(maxsize=pool_max_size, cert_reqs='CERT_NONE', block=True)\n",
        "      disable_warnings(exceptions.InsecureRequestWarning)\n",
        "\n",
        "      return http\n",
        "\n",
        "class ColetaEntidade:\n",
        "\n",
        "    def __init__(self, ano: str, id_municipio: str,\n",
        "                 id_entidade: str, categoria: str, link: str) -> None:\n",
        "\n",
        "      self.ano = ano\n",
        "      self.id_municipio = id_municipio\n",
        "      self.id_entidade = id_entidade\n",
        "      self.categoria = categoria\n",
        "      self.link = link\n",
        "\n",
        "\n",
        "def slugify(s: str):\n",
        "        s = s.strip().lower()\n",
        "        s = unicodedata.normalize(\"NFD\", s)\n",
        "        s = s.encode(\"ascii\", \"ignore\")\n",
        "        s = s.decode(\"utf-8\")\n",
        "        s = s.lower().strip()\n",
        "        s = re.sub(r'[^\\w\\s-]', '', s)\n",
        "        s = re.sub(r'[\\s_-]+', '_', s)\n",
        "        s = re.sub(r'^-+|-+$', '', s)\n",
        "        return s\n",
        "\n",
        "\n",
        "\n",
        "def form_link_entidade(pool_manager: PoolManager, id_municipio: int | str, ano: int | str) -> list:\n",
        "\n",
        "  base_url = \"https://portaldocidadao.tce.to.gov.br/estadomunicipios/getUnidades/\"\n",
        "\n",
        "  fields = {\n",
        "        \"municipio\": id_municipio,\n",
        "        \"exercicio\": ano,\n",
        "        \"remessa\": \"8\",\n",
        "        \"ajax\": \"true\"\n",
        "    }\n",
        "\n",
        "  entidades = http.request('GET', base_url, fields=fields).json()\n",
        "\n",
        "  for entidade in entidades:\n",
        "    entidade[\"id_municipio\"] = id_municipio\n",
        "    entidade[\"ano\"] = ano\n",
        "\n",
        "  return entidades\n",
        "\n",
        "\n",
        "\n",
        "def form_link_to_data(row: pd.DataFrame,\n",
        "                      categoria: str = \"empenho\") -> ColetaEntidade:\n",
        "  url = f\"https://www.tce.to.gov.br/sicap/contabilx/relatorios/planilhas/\"\n",
        "  parametros = f\"{categoria}.php?unidade={row.id}&exercicio={row.ano}&bimestre=6&status=1&conferencia=1\"\n",
        "  link = url + parametros\n",
        "  slot = ColetaEntidade(row.ano, row.id_municipio, row.id, categoria, link)\n",
        "  return slot\n",
        "\n",
        "\n",
        "def extrair_entidade(http: PoolManager, row: ColetaEntidade) -> None:\n",
        "\n",
        "  table = get_table(http, row.link)\n",
        "  table_save(row, table)\n",
        "\n",
        "def table_save(row: ColetaEntidade, html: IO) -> None:\n",
        "\n",
        "  dado = pd.read_html(html, header=0)\n",
        "  dado = dado[0]\n",
        "  dado.columns = dado.columns.str.replace(\". \", \"_\").str.lower()\n",
        "  dado.columns = [slugify(column) for column in dado.columns]\n",
        "\n",
        "  file_name = f\"{row.categoria}.csv\"\n",
        "  base_path = os.path.join(os.getcwd(), \"input\", row.ano,\n",
        "                           row.id_municipio,\n",
        "                           row.id_entidade)\n",
        "\n",
        "  path_file = os.path.join(base_path, file_name)\n",
        "\n",
        "  os.makedirs(base_path, exist_ok=True)\n",
        "\n",
        "  dado.to_csv(path_file, index=False)\n",
        "\n",
        "  del dado\n",
        "\n",
        "def download_dado(row: ColetaEntidade):\n",
        "\n",
        "  file_name = f\"{row.categoria}.xls\"\n",
        "  base_path = os.path.join(os.getcwd(), \"input\", row.ano,\n",
        "                          row.id_municipio,\n",
        "                          row.id_entidade)\n",
        "\n",
        "  path_file = os.path.join(base_path, file_name)\n",
        "\n",
        "  os.makedirs(base_path, exist_ok=True)\n",
        "  chunk_size = 1000000 # Define the chunk size (in bytes)\n",
        "\n",
        "  # Open the URL\n",
        "  r = requests.get(row.link, stream=True)\n",
        "\n",
        "  with open(path_file, 'wb') as fd:\n",
        "      fd.write(r.content)\n",
        "      for chunk in r.iter_content(chunk_size=chunk_size):\n",
        "          fd.write(chunk)\n",
        "\n",
        "def get_table(http: PoolManager, link: str) -> bytes:\n",
        "\n",
        "    table = http.request('GET', link).data\n",
        "    return table\n",
        "\n",
        "\n",
        "def verify_exists(row: pd.DataFrame) -> bool:\n",
        "\n",
        "    file_name = f\"{row.categoria}.xls\"\n",
        "    base_path = os.path.join(os.getcwd(), \"input\", row.ano,\n",
        "                            row.id_municipio,\n",
        "                            row.id_entidade)\n",
        "\n",
        "    path_file = os.path.join(base_path, file_name)\n",
        "\n",
        "    path_csv_antigo = str(path_file).replace(\".xls\", \".csv\")\n",
        "\n",
        "    if not os.path.exists(path_file) and not os.path.exists(path_csv_antigo):\n",
        "        return True\n",
        "\n",
        "    return False\n",
        "\n",
        "\n",
        "\n",
        "def send_folder_drive(path_drive: str, path_input: str) -> None:\n",
        "\n",
        "  if not len(os.listdir(path_input)) > 0 or not path_drive:\n",
        "    raise Exception(\"Essa Pasta vazia\")\n",
        "    return None\n",
        "\n",
        "  shutil.make_archive(path_drive,\n",
        "                      'zip',\n",
        "                      path_input)\n",
        "\n",
        "\n",
        "def send_solo_drive() -> None:\n",
        "\n",
        "  if path_drive_input:\n",
        "    drive.mount('/content/drive')\n",
        "\n",
        "    send_folder_drive(path_drive_input + \"_auto\",\n",
        "                      \"/content/input/\")\n",
        "  else:\n",
        "\n",
        "    print(\"Caminho para auto-save não definido\")\n",
        "\n",
        "def extrair(path, path_output) -> None:\n",
        "  # loading the temp.zip and creating a zip object\n",
        "  with ZipFile(path, 'r') as zObject:\n",
        "\n",
        "      # Extracting all the members of the zip\n",
        "      # into a specific location.\n",
        "      zObject.extractall(\n",
        "          path=path_output)\n"
      ],
      "metadata": {
        "id": "v4VATOsm_ZBb"
      },
      "execution_count": null,
      "outputs": []
    },
    {
      "cell_type": "markdown",
      "metadata": {
        "id": "LTg1yuSe8InA"
      },
      "source": [
        "# Extrair"
      ]
    },
    {
      "cell_type": "code",
      "execution_count": null,
      "metadata": {
        "id": "UeE-vEHaqy7n"
      },
      "outputs": [],
      "source": [
        "extrair(path=path_drive_input + '.zip',\n",
        "        path_output=\"/content/input\")"
      ]
    },
    {
      "cell_type": "markdown",
      "metadata": {
        "id": "jCsWynZTLcJY"
      },
      "source": [
        "### Extrair Auto-Save"
      ]
    },
    {
      "cell_type": "code",
      "execution_count": null,
      "metadata": {
        "id": "bQXSGmDZIHaE"
      },
      "outputs": [],
      "source": [
        "extrair(path=path_drive_input + \"_auto\" + '.zip',\n",
        "        path_output=\"/content/input\")"
      ]
    },
    {
      "cell_type": "markdown",
      "source": [
        "# Registrar ID municipios e Entidades"
      ],
      "metadata": {
        "id": "TzXgMBVbE5YV"
      }
    },
    {
      "cell_type": "code",
      "source": [
        "http = PoolManager(maxsize=139, cert_reqs='CERT_NONE', block=True)\n",
        "disable_warnings(exceptions.InsecureRequestWarning)\n",
        "\n",
        "link = \"https://portaldocidadao.tce.to.gov.br/estadomunicipios/index\"\n",
        "response = http.request('GET', link)\n",
        "\n",
        "txt_html = response.data\n",
        "soup = BeautifulSoup(txt_html, 'html.parser')\n",
        "\n",
        "elementos_municipios = soup.select('select[name=\"comboMunicipio\"] option')[1:]\n",
        "anos = soup.select('select[name=\"comboExercicio\"] option')[1:]\n",
        "anos = [ano.get(\"value\") for ano in anos]\n",
        "\n",
        "dataframe = {elemento.text: elemento.get(\"value\") for elemento in elementos_municipios}\n",
        "\n",
        "entidades = []\n",
        "for ano in anos:\n",
        "    with concurrent.futures.ThreadPoolExecutor() as executor:\n",
        "      entidades += [entidades_json\n",
        "                    for entidades_json in\n",
        "                    executor.map(\n",
        "                    lambda id_municipio: form_link_entidade(http, id_municipio, ano),\n",
        "                    dataframe.values()\n",
        "                    )]\n",
        "\n",
        "\n",
        "entidades_to_df = [entidade for entidades_list in entidades for entidade in entidades_list]\n",
        "df_entindade = pd.DataFrame(entidades_to_df, dtype=str)\n",
        "df_entindade.columns = df_entindade.columns.str.lower()\n",
        "df_entindade.to_csv(\"entidades_to.csv\", index=False)"
      ],
      "metadata": {
        "id": "O4wxKasN7mKU"
      },
      "execution_count": null,
      "outputs": []
    },
    {
      "cell_type": "markdown",
      "source": [
        "# Raspagem"
      ],
      "metadata": {
        "id": "mXLbK80QWH70"
      }
    },
    {
      "cell_type": "code",
      "source": [
        "entidades = pd.read_csv(csv_entidade_git, dtype=str)"
      ],
      "metadata": {
        "id": "UK8jwx-6Wqii"
      },
      "execution_count": null,
      "outputs": []
    },
    {
      "cell_type": "code",
      "source": [
        "chucksize = 30\n",
        "\n",
        "entidade_ano_coleta = entidades[entidades.ano == str(ano)]\n",
        "categorias = [\"empenho\", \"liquidacao\", \"pagamento\"]\n",
        "linha_coleta = [form_link_to_data(entidade, categoria)\n",
        "                for entidade in entidade_ano_coleta.itertuples()\n",
        "                for categoria in categorias]\n",
        "\n",
        "chunks = list(batched(linha_coleta, chucksize))\n",
        "\n",
        "for n, chunk in enumerate(chunks):\n",
        "\n",
        "  try:\n",
        "\n",
        "    start_time = time.time()\n",
        "    print(f\"Chunk: {n+1}/{len(chunks)} Iniciado\\n\")\n",
        "\n",
        "    rows_to_extract = [row for row in chunk if verify_exists(row)]\n",
        "\n",
        "    if rows_to_extract:\n",
        "\n",
        "      with concurrent.futures.ThreadPoolExecutor() as executor:\n",
        "        executor.map(download_dado, rows_to_extract)\n",
        "\n",
        "      if (n + 1) % 2 == 0:\n",
        "        send_solo_drive()\n",
        "\n",
        "      sleep(1)\n",
        "\n",
        "    print(f\"Duração da execução: {(time.time() - start_time) / 60:.2f}\\n{'-' * 30}\")\n",
        "\n",
        "\n",
        "  except Exception as erro:\n",
        "    print(f\"Erro: {erro}\\nFalha chunk {n+1}\")\n",
        "    sleep(10)\n",
        "\n",
        "\n",
        "send_solo_drive()\n"
      ],
      "metadata": {
        "id": "BclOlxu8Z9ev"
      },
      "execution_count": null,
      "outputs": []
    },
    {
      "cell_type": "markdown",
      "source": [
        "# Verificar dados perdidos"
      ],
      "metadata": {
        "id": "FTalgJh47E3y"
      }
    },
    {
      "cell_type": "code",
      "source": [
        "path = f\"/content/input/{ano}/**/**/*\"\n",
        "files = glob.glob(path)\n",
        "\n",
        "ids_entidades_coletados = [path.split(\"/\")[-2] for path in files]\n",
        "ids_entidades_coletados = list(dict.fromkeys(ids_entidades_coletados))\n",
        "\n",
        "mask = ~entidade_ano_coleta.id.isin(ids_entidades_coletados)\n",
        "nao_coletados = entidade_ano_coleta[mask]\n",
        "\n",
        "categorias = [\"empenho\", \"liquidacao\", \"pagamento\"]\n",
        "nao_coletados = [form_link_to_data(entidade, categoria)\n",
        "                for entidade in nao_coletados.itertuples()\n",
        "                for categoria in categorias]\n",
        "\n",
        "for row in nao_coletados:\n",
        "  print(row.link)"
      ],
      "metadata": {
        "id": "_7_86kZNNeZm"
      },
      "execution_count": null,
      "outputs": []
    },
    {
      "cell_type": "markdown",
      "metadata": {
        "id": "O2IugeRyWweY"
      },
      "source": [
        "# Mandar para o drive Manualmente"
      ]
    },
    {
      "cell_type": "code",
      "execution_count": null,
      "metadata": {
        "colab": {
          "base_uri": "https://localhost:8080/"
        },
        "id": "45a__sGXWuRD",
        "outputId": "f6f28fb4-06d5-4d3e-b2e4-00b18b560666"
      },
      "outputs": [
        {
          "output_type": "stream",
          "name": "stdout",
          "text": [
            "Drive already mounted at /content/drive; to attempt to forcibly remount, call drive.mount(\"/content/drive\", force_remount=True).\n"
          ]
        }
      ],
      "source": [
        "drive.mount('/content/drive')\n",
        "\n",
        "\n",
        "send_folder_drive(path_drive_input,\n",
        "                f\"/content/input/\")"
      ]
    }
  ]
}